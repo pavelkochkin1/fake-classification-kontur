{
  "cells": [
    {
      "cell_type": "code",
      "execution_count": null,
      "metadata": {
        "colab": {
          "base_uri": "https://localhost:8080/"
        },
        "id": "-9xFi3wsbUXH",
        "outputId": "71beb2a9-1714-4fcc-ea2b-c1178be7db3f"
      },
      "outputs": [
        {
          "output_type": "stream",
          "name": "stdout",
          "text": [
            "Requirement already satisfied: transformers in /usr/local/lib/python3.7/dist-packages (4.18.0)\n",
            "Requirement already satisfied: packaging>=20.0 in /usr/local/lib/python3.7/dist-packages (from transformers) (21.3)\n",
            "Requirement already satisfied: huggingface-hub<1.0,>=0.1.0 in /usr/local/lib/python3.7/dist-packages (from transformers) (0.5.1)\n",
            "Requirement already satisfied: requests in /usr/local/lib/python3.7/dist-packages (from transformers) (2.23.0)\n",
            "Requirement already satisfied: regex!=2019.12.17 in /usr/local/lib/python3.7/dist-packages (from transformers) (2019.12.20)\n",
            "Requirement already satisfied: sacremoses in /usr/local/lib/python3.7/dist-packages (from transformers) (0.0.49)\n",
            "Requirement already satisfied: pyyaml>=5.1 in /usr/local/lib/python3.7/dist-packages (from transformers) (6.0)\n",
            "Requirement already satisfied: filelock in /usr/local/lib/python3.7/dist-packages (from transformers) (3.6.0)\n",
            "Requirement already satisfied: tqdm>=4.27 in /usr/local/lib/python3.7/dist-packages (from transformers) (4.64.0)\n",
            "Requirement already satisfied: importlib-metadata in /usr/local/lib/python3.7/dist-packages (from transformers) (4.11.3)\n",
            "Requirement already satisfied: tokenizers!=0.11.3,<0.13,>=0.11.1 in /usr/local/lib/python3.7/dist-packages (from transformers) (0.12.1)\n",
            "Requirement already satisfied: numpy>=1.17 in /usr/local/lib/python3.7/dist-packages (from transformers) (1.21.6)\n",
            "Requirement already satisfied: typing-extensions>=3.7.4.3 in /usr/local/lib/python3.7/dist-packages (from huggingface-hub<1.0,>=0.1.0->transformers) (4.1.1)\n",
            "Requirement already satisfied: pyparsing!=3.0.5,>=2.0.2 in /usr/local/lib/python3.7/dist-packages (from packaging>=20.0->transformers) (3.0.8)\n",
            "Requirement already satisfied: zipp>=0.5 in /usr/local/lib/python3.7/dist-packages (from importlib-metadata->transformers) (3.8.0)\n",
            "Requirement already satisfied: urllib3!=1.25.0,!=1.25.1,<1.26,>=1.21.1 in /usr/local/lib/python3.7/dist-packages (from requests->transformers) (1.24.3)\n",
            "Requirement already satisfied: idna<3,>=2.5 in /usr/local/lib/python3.7/dist-packages (from requests->transformers) (2.10)\n",
            "Requirement already satisfied: chardet<4,>=3.0.2 in /usr/local/lib/python3.7/dist-packages (from requests->transformers) (3.0.4)\n",
            "Requirement already satisfied: certifi>=2017.4.17 in /usr/local/lib/python3.7/dist-packages (from requests->transformers) (2021.10.8)\n",
            "Requirement already satisfied: joblib in /usr/local/lib/python3.7/dist-packages (from sacremoses->transformers) (1.1.0)\n",
            "Requirement already satisfied: six in /usr/local/lib/python3.7/dist-packages (from sacremoses->transformers) (1.15.0)\n",
            "Requirement already satisfied: click in /usr/local/lib/python3.7/dist-packages (from sacremoses->transformers) (7.1.2)\n",
            "Requirement already satisfied: catalyst in /usr/local/lib/python3.7/dist-packages (22.2.1)\n",
            "Requirement already satisfied: hydra-slayer>=0.4.0 in /usr/local/lib/python3.7/dist-packages (from catalyst) (0.4.0)\n",
            "Requirement already satisfied: tensorboardX>=2.1.0 in /usr/local/lib/python3.7/dist-packages (from catalyst) (2.5)\n",
            "Requirement already satisfied: tqdm>=4.33.0 in /usr/local/lib/python3.7/dist-packages (from catalyst) (4.64.0)\n",
            "Requirement already satisfied: accelerate in /usr/local/lib/python3.7/dist-packages (from catalyst) (0.6.2)\n",
            "Requirement already satisfied: torch>=1.4.0 in /usr/local/lib/python3.7/dist-packages (from catalyst) (1.10.0+cu111)\n",
            "Requirement already satisfied: numpy>=1.18 in /usr/local/lib/python3.7/dist-packages (from catalyst) (1.21.6)\n",
            "Requirement already satisfied: protobuf>=3.8.0 in /usr/local/lib/python3.7/dist-packages (from tensorboardX>=2.1.0->catalyst) (3.17.3)\n",
            "Requirement already satisfied: six in /usr/local/lib/python3.7/dist-packages (from tensorboardX>=2.1.0->catalyst) (1.15.0)\n",
            "Requirement already satisfied: typing-extensions in /usr/local/lib/python3.7/dist-packages (from torch>=1.4.0->catalyst) (4.1.1)\n",
            "Requirement already satisfied: pyyaml in /usr/local/lib/python3.7/dist-packages (from accelerate->catalyst) (6.0)\n",
            "Requirement already satisfied: pymorphy2 in /usr/local/lib/python3.7/dist-packages (0.9.1)\n",
            "Requirement already satisfied: docopt>=0.6 in /usr/local/lib/python3.7/dist-packages (from pymorphy2) (0.6.2)\n",
            "Requirement already satisfied: pymorphy2-dicts-ru<3.0,>=2.4 in /usr/local/lib/python3.7/dist-packages (from pymorphy2) (2.4.417127.4579844)\n",
            "Requirement already satisfied: dawg-python>=0.7.1 in /usr/local/lib/python3.7/dist-packages (from pymorphy2) (0.7.2)\n",
            "Requirement already satisfied: wordcloud in /usr/local/lib/python3.7/dist-packages (1.5.0)\n",
            "Requirement already satisfied: pillow in /usr/local/lib/python3.7/dist-packages (from wordcloud) (7.1.2)\n",
            "Requirement already satisfied: numpy>=1.6.1 in /usr/local/lib/python3.7/dist-packages (from wordcloud) (1.21.6)\n"
          ]
        }
      ],
      "source": [
        "!pip install transformers\n",
        "!pip install -U catalyst\n",
        "!pip install pymorphy2\n",
        "!pip install wordcloud"
      ]
    },
    {
      "cell_type": "markdown",
      "metadata": {
        "id": "_sKAH18vZQCr"
      },
      "source": [
        "# 1. Reading data and basic EDA"
      ]
    },
    {
      "cell_type": "code",
      "execution_count": null,
      "metadata": {
        "id": "TLJU2YP7Ydeh"
      },
      "outputs": [],
      "source": [
        "# for google colab\n",
        "import os\n",
        "\n",
        "os.chdir('/content/drive/MyDrive/Colab Notebooks/kontur/test_task')"
      ]
    },
    {
      "cell_type": "code",
      "execution_count": null,
      "metadata": {
        "colab": {
          "base_uri": "https://localhost:8080/"
        },
        "id": "WNkk1oH6X-jK",
        "outputId": "0881cf15-4475-46c3-dce1-988b11dfe0af"
      },
      "outputs": [
        {
          "output_type": "stream",
          "name": "stdout",
          "text": [
            "[nltk_data] Downloading package stopwords to /root/nltk_data...\n",
            "[nltk_data]   Package stopwords is already up-to-date!\n"
          ]
        }
      ],
      "source": [
        "import numpy as np\n",
        "import pandas as pd\n",
        "\n",
        "from sklearn.model_selection import train_test_split\n",
        "import nltk\n",
        "from nltk.corpus import stopwords\n",
        "import pymorphy2\n",
        "from typing import Union, List, Dict, Mapping\n",
        "from tqdm import tqdm\n",
        "\n",
        "import logging\n",
        "import torch\n",
        "import torch.nn as nn\n",
        "from torch.utils.data import DataLoader, Dataset\n",
        "from transformers import AutoTokenizer, AutoConfig, AutoModel\n",
        "\n",
        "RANDOM_STATE = 7373\n",
        "\n",
        "nltk.download('stopwords')\n",
        "stop_words = stopwords.words('russian')"
      ]
    },
    {
      "cell_type": "code",
      "execution_count": null,
      "metadata": {
        "id": "8KdS9p63YOYP"
      },
      "outputs": [],
      "source": [
        "train_df = pd.read_table(\"data/train.tsv\") \n",
        "test_df = pd.read_table('data/test.tsv')"
      ]
    },
    {
      "cell_type": "code",
      "execution_count": null,
      "metadata": {
        "id": "I-_u9JKH2B_4"
      },
      "outputs": [],
      "source": [
        "lemmatizer = pymorphy2.MorphAnalyzer()"
      ]
    },
    {
      "cell_type": "code",
      "execution_count": null,
      "metadata": {
        "id": "3YnFS1l8RM0j"
      },
      "outputs": [],
      "source": [
        "import re\n",
        "\n",
        "\n",
        "def clear_text(\n",
        "        text: str, \n",
        "        just_letters: bool = False,\n",
        "    ) -> str:\n",
        "    \"\"\"\n",
        "    Converts a line to lowercase or delete everything except letters.\n",
        "\n",
        "    Args:\n",
        "        text: str - a string to clear\n",
        "\n",
        "    Returns:\n",
        "        str\n",
        "    \"\"\"\n",
        "\n",
        "    if just_letters:\n",
        "        text = re.sub(r'[^А-яЁё]+', ' ', text).lower().replace(\"ё\", \"е\")\n",
        "        return ' '.join(text.split())\n",
        "\n",
        "    text = text.lower().replace(\"ё\", \"е\")\n",
        "    return text.strip()\n",
        "    \n",
        "\n",
        "def clean_stop_words(\n",
        "        text: str, \n",
        "        stopwords: List[str],\n",
        "    ) -> str:\n",
        "    \"\"\"\n",
        "    Removes stop words from the string.\n",
        "\n",
        "    Args:\n",
        "        text: str - a string to remove stopwords\n",
        "        stopwords: List[str] - a list with stopwords\n",
        "\n",
        "    Returns:\n",
        "        str\n",
        "    \"\"\"\n",
        "\n",
        "    text = [word for word in text.split() if word not in stopwords]\n",
        "    return \" \".join(text)\n",
        "\n",
        "\n",
        "def lemmatize(\n",
        "        corpus: List[str],\n",
        "    ) -> List[str]:\n",
        "    \"\"\"\n",
        "    Brings all the words for the texts from the corpus to the original form.\n",
        "\n",
        "    Args:\n",
        "        corpus: List[str]\n",
        "\n",
        "    Returns:\n",
        "        List[str]\n",
        "    \"\"\"\n",
        "\n",
        "    result = list()\n",
        "\n",
        "    for text in tqdm(corpus):\n",
        "        lem_text = list()\n",
        "        for word in text.split():\n",
        "            lem_text.append(lemmatizer.parse(word)[0].normal_form)\n",
        "\n",
        "        result.append(\" \".join(lem_text))\n",
        "        \n",
        "    return result"
      ]
    },
    {
      "cell_type": "code",
      "execution_count": null,
      "metadata": {
        "colab": {
          "base_uri": "https://localhost:8080/"
        },
        "id": "q1zfVqyHSEKY",
        "outputId": "3c4e35d3-fe34-484f-c257-c46af221f65f"
      },
      "outputs": [
        {
          "output_type": "stream",
          "name": "stdout",
          "text": [
            "Средства инвестфонда потратят как минимум пять компаний\n",
            "=======================================\n",
            "средства инвестфонда потратят минимум пять компаний\n",
            "\n",
            "Английские консерваторы выступили за сохранение классической бинарной трансгендерности\n",
            "=======================================\n",
            "английские консерваторы выступили сохранение классической бинарной трансгендерности\n",
            "\n",
            "Победа Леонарда Коэна расстроила поклонников Джастина Бибера\n",
            "=======================================\n",
            "победа леонарда коэна расстроила поклонников джастина бибера\n",
            "\n"
          ]
        }
      ],
      "source": [
        "for _ in range(3):\n",
        "\n",
        "    text = train_df.sample(1)['title'].values[0]\n",
        "    print(text)\n",
        "    print('=======================================')\n",
        "    print(clean_stop_words((clear_text(text)), stop_words))\n",
        "    print()"
      ]
    },
    {
      "cell_type": "code",
      "execution_count": null,
      "metadata": {
        "id": "wed-6WsSV-FS",
        "colab": {
          "base_uri": "https://localhost:8080/"
        },
        "outputId": "c9050694-d97f-468c-a884-f548ee237bc0"
      },
      "outputs": [
        {
          "output_type": "stream",
          "name": "stdout",
          "text": [
            "['Эвакуированные в Омск афганцы попросили отправить их обратно в Кабул']\n"
          ]
        },
        {
          "output_type": "stream",
          "name": "stderr",
          "text": [
            "100%|██████████| 1/1 [00:00<00:00, 99.07it/s]\n"
          ]
        },
        {
          "output_type": "stream",
          "name": "stdout",
          "text": [
            "\n",
            "['эвакуировать в омск афганец попросить отправить они обратно в кабул']\n",
            "=======================================\n",
            "['Зенит нашел и наказал виновных в нарушении регламента']\n"
          ]
        },
        {
          "output_type": "stream",
          "name": "stderr",
          "text": [
            "100%|██████████| 1/1 [00:00<00:00, 36.79it/s]\n"
          ]
        },
        {
          "output_type": "stream",
          "name": "stdout",
          "text": [
            "\n",
            "['зенит найти и наказать виновный в нарушение регламент']\n",
            "=======================================\n",
            "['В МГУ появится патриотический факультет']\n"
          ]
        },
        {
          "output_type": "stream",
          "name": "stderr",
          "text": [
            "100%|██████████| 1/1 [00:00<00:00, 196.05it/s]"
          ]
        },
        {
          "output_type": "stream",
          "name": "stdout",
          "text": [
            "\n",
            "['в мгу появиться патриотический факультет']\n",
            "=======================================\n"
          ]
        },
        {
          "output_type": "stream",
          "name": "stderr",
          "text": [
            "\n"
          ]
        }
      ],
      "source": [
        "for _ in range(3):\n",
        "    text = train_df.sample(1)['title'].to_list()\n",
        "    print(text)\n",
        "    text = lemmatize(text)\n",
        "    print()\n",
        "    print(text)\n",
        "    print('=======================================')"
      ]
    },
    {
      "cell_type": "code",
      "execution_count": null,
      "metadata": {
        "id": "1ZWpw-rAa3r6"
      },
      "outputs": [],
      "source": [
        "def preproccess_corpus(\n",
        "        df: Union[pd.Series, pd.DataFrame],\n",
        "        text_column: Union[str, None] = None,\n",
        "        stopwords: Union[List[str], None] = None,\n",
        "        lemmatize: bool = True,\n",
        "    ) -> pd.Series:\n",
        "    \"\"\"\n",
        "    Full text preprocessing.\n",
        "\n",
        "    Args:\n",
        "        df: pd.Series or pd.DataFrame\n",
        "        text_column: str if pd.DataFrame else None\n",
        "        stopwords: List[str] if you need to remove stopwords else None\n",
        "        lemmatize: True if you need lemmatization else False\n",
        "    Returns:\n",
        "        pd.Series\n",
        "    \"\"\"\n",
        "    if type(df) == pd.DataFrame:\n",
        "        df = df[text_column]\n",
        "\n",
        "    result = list()\n",
        "    for text in tqdm(df.to_list()):\n",
        "        text = clear_text(text)\n",
        "        if stopwords:\n",
        "            text = clean_stop_words(text, stopwords)\n",
        "        result.append(text)\n",
        "\n",
        "    if lemmatize:\n",
        "        result = lemmatize(result, lemmatizer)\n",
        "    \n",
        "    return pd.Series(result, index = df.index)"
      ]
    },
    {
      "cell_type": "code",
      "execution_count": null,
      "metadata": {
        "colab": {
          "base_uri": "https://localhost:8080/"
        },
        "id": "0Y1-ftk_jpC-",
        "outputId": "847734a8-72d0-4eb8-bdd4-536fd5cb7838"
      },
      "outputs": [
        {
          "output_type": "stream",
          "name": "stderr",
          "text": [
            "100%|██████████| 5758/5758 [00:00<00:00, 205533.50it/s]\n",
            "100%|██████████| 1000/1000 [00:00<00:00, 114529.63it/s]\n"
          ]
        }
      ],
      "source": [
        "train_df['clean_text'] = preproccess_corpus(train_df.title, lemmatize=False, stopwords=None)\n",
        "test_df['clean_text'] = preproccess_corpus(test_df.title, lemmatize=False, stopwords=None)"
      ]
    },
    {
      "cell_type": "code",
      "execution_count": null,
      "metadata": {
        "colab": {
          "base_uri": "https://localhost:8080/",
          "height": 201
        },
        "id": "JXmeNdZjy7Qz",
        "outputId": "1a428c8f-bbc9-4b2e-9618-a79b0a0f21b8"
      },
      "outputs": [
        {
          "output_type": "execute_result",
          "data": {
            "text/plain": [
              "                                               title  is_fake  \\\n",
              "0  Москвичу Владимиру Клутину пришёл счёт за вмеш...        1   \n",
              "1  Агент Кокорина назвал езду по встречке житейск...        0   \n",
              "2  Госдума рассмотрит возможность введения секрет...        1   \n",
              "3  ФАС заблокировала поставку скоростных трамваев...        0   \n",
              "4  Против Навального завели дело о недоносительст...        1   \n",
              "\n",
              "                                          clean_text  \n",
              "0  москвичу владимиру клутину пришел счет за вмеш...  \n",
              "1  агент кокорина назвал езду по встречке житейск...  \n",
              "2  госдума рассмотрит возможность введения секрет...  \n",
              "3  фас заблокировала поставку скоростных трамваев...  \n",
              "4  против навального завели дело о недоносительст...  "
            ],
            "text/html": [
              "\n",
              "  <div id=\"df-75256d97-3361-4b5e-bdce-b3dc34bc54ff\">\n",
              "    <div class=\"colab-df-container\">\n",
              "      <div>\n",
              "<style scoped>\n",
              "    .dataframe tbody tr th:only-of-type {\n",
              "        vertical-align: middle;\n",
              "    }\n",
              "\n",
              "    .dataframe tbody tr th {\n",
              "        vertical-align: top;\n",
              "    }\n",
              "\n",
              "    .dataframe thead th {\n",
              "        text-align: right;\n",
              "    }\n",
              "</style>\n",
              "<table border=\"1\" class=\"dataframe\">\n",
              "  <thead>\n",
              "    <tr style=\"text-align: right;\">\n",
              "      <th></th>\n",
              "      <th>title</th>\n",
              "      <th>is_fake</th>\n",
              "      <th>clean_text</th>\n",
              "    </tr>\n",
              "  </thead>\n",
              "  <tbody>\n",
              "    <tr>\n",
              "      <th>0</th>\n",
              "      <td>Москвичу Владимиру Клутину пришёл счёт за вмеш...</td>\n",
              "      <td>1</td>\n",
              "      <td>москвичу владимиру клутину пришел счет за вмеш...</td>\n",
              "    </tr>\n",
              "    <tr>\n",
              "      <th>1</th>\n",
              "      <td>Агент Кокорина назвал езду по встречке житейск...</td>\n",
              "      <td>0</td>\n",
              "      <td>агент кокорина назвал езду по встречке житейск...</td>\n",
              "    </tr>\n",
              "    <tr>\n",
              "      <th>2</th>\n",
              "      <td>Госдума рассмотрит возможность введения секрет...</td>\n",
              "      <td>1</td>\n",
              "      <td>госдума рассмотрит возможность введения секрет...</td>\n",
              "    </tr>\n",
              "    <tr>\n",
              "      <th>3</th>\n",
              "      <td>ФАС заблокировала поставку скоростных трамваев...</td>\n",
              "      <td>0</td>\n",
              "      <td>фас заблокировала поставку скоростных трамваев...</td>\n",
              "    </tr>\n",
              "    <tr>\n",
              "      <th>4</th>\n",
              "      <td>Против Навального завели дело о недоносительст...</td>\n",
              "      <td>1</td>\n",
              "      <td>против навального завели дело о недоносительст...</td>\n",
              "    </tr>\n",
              "  </tbody>\n",
              "</table>\n",
              "</div>\n",
              "      <button class=\"colab-df-convert\" onclick=\"convertToInteractive('df-75256d97-3361-4b5e-bdce-b3dc34bc54ff')\"\n",
              "              title=\"Convert this dataframe to an interactive table.\"\n",
              "              style=\"display:none;\">\n",
              "        \n",
              "  <svg xmlns=\"http://www.w3.org/2000/svg\" height=\"24px\"viewBox=\"0 0 24 24\"\n",
              "       width=\"24px\">\n",
              "    <path d=\"M0 0h24v24H0V0z\" fill=\"none\"/>\n",
              "    <path d=\"M18.56 5.44l.94 2.06.94-2.06 2.06-.94-2.06-.94-.94-2.06-.94 2.06-2.06.94zm-11 1L8.5 8.5l.94-2.06 2.06-.94-2.06-.94L8.5 2.5l-.94 2.06-2.06.94zm10 10l.94 2.06.94-2.06 2.06-.94-2.06-.94-.94-2.06-.94 2.06-2.06.94z\"/><path d=\"M17.41 7.96l-1.37-1.37c-.4-.4-.92-.59-1.43-.59-.52 0-1.04.2-1.43.59L10.3 9.45l-7.72 7.72c-.78.78-.78 2.05 0 2.83L4 21.41c.39.39.9.59 1.41.59.51 0 1.02-.2 1.41-.59l7.78-7.78 2.81-2.81c.8-.78.8-2.07 0-2.86zM5.41 20L4 18.59l7.72-7.72 1.47 1.35L5.41 20z\"/>\n",
              "  </svg>\n",
              "      </button>\n",
              "      \n",
              "  <style>\n",
              "    .colab-df-container {\n",
              "      display:flex;\n",
              "      flex-wrap:wrap;\n",
              "      gap: 12px;\n",
              "    }\n",
              "\n",
              "    .colab-df-convert {\n",
              "      background-color: #E8F0FE;\n",
              "      border: none;\n",
              "      border-radius: 50%;\n",
              "      cursor: pointer;\n",
              "      display: none;\n",
              "      fill: #1967D2;\n",
              "      height: 32px;\n",
              "      padding: 0 0 0 0;\n",
              "      width: 32px;\n",
              "    }\n",
              "\n",
              "    .colab-df-convert:hover {\n",
              "      background-color: #E2EBFA;\n",
              "      box-shadow: 0px 1px 2px rgba(60, 64, 67, 0.3), 0px 1px 3px 1px rgba(60, 64, 67, 0.15);\n",
              "      fill: #174EA6;\n",
              "    }\n",
              "\n",
              "    [theme=dark] .colab-df-convert {\n",
              "      background-color: #3B4455;\n",
              "      fill: #D2E3FC;\n",
              "    }\n",
              "\n",
              "    [theme=dark] .colab-df-convert:hover {\n",
              "      background-color: #434B5C;\n",
              "      box-shadow: 0px 1px 3px 1px rgba(0, 0, 0, 0.15);\n",
              "      filter: drop-shadow(0px 1px 2px rgba(0, 0, 0, 0.3));\n",
              "      fill: #FFFFFF;\n",
              "    }\n",
              "  </style>\n",
              "\n",
              "      <script>\n",
              "        const buttonEl =\n",
              "          document.querySelector('#df-75256d97-3361-4b5e-bdce-b3dc34bc54ff button.colab-df-convert');\n",
              "        buttonEl.style.display =\n",
              "          google.colab.kernel.accessAllowed ? 'block' : 'none';\n",
              "\n",
              "        async function convertToInteractive(key) {\n",
              "          const element = document.querySelector('#df-75256d97-3361-4b5e-bdce-b3dc34bc54ff');\n",
              "          const dataTable =\n",
              "            await google.colab.kernel.invokeFunction('convertToInteractive',\n",
              "                                                     [key], {});\n",
              "          if (!dataTable) return;\n",
              "\n",
              "          const docLinkHtml = 'Like what you see? Visit the ' +\n",
              "            '<a target=\"_blank\" href=https://colab.research.google.com/notebooks/data_table.ipynb>data table notebook</a>'\n",
              "            + ' to learn more about interactive tables.';\n",
              "          element.innerHTML = '';\n",
              "          dataTable['output_type'] = 'display_data';\n",
              "          await google.colab.output.renderOutput(dataTable, element);\n",
              "          const docLink = document.createElement('div');\n",
              "          docLink.innerHTML = docLinkHtml;\n",
              "          element.appendChild(docLink);\n",
              "        }\n",
              "      </script>\n",
              "    </div>\n",
              "  </div>\n",
              "  "
            ]
          },
          "metadata": {},
          "execution_count": 11
        }
      ],
      "source": [
        "train_df.head()"
      ]
    },
    {
      "cell_type": "code",
      "execution_count": null,
      "metadata": {
        "colab": {
          "base_uri": "https://localhost:8080/"
        },
        "id": "vOhpMmwSEEDU",
        "outputId": "6214d663-be19-453b-ec79-1d9cccd2a757"
      },
      "outputs": [
        {
          "output_type": "stream",
          "name": "stdout",
          "text": [
            "«Барселона» вышла в четвертьфинал Лиги чемпионов\n",
            "«барселона» вышла в четвертьфинал лиги чемпионов\n"
          ]
        }
      ],
      "source": [
        "print(train_df.iloc[73]['title'])\n",
        "print(train_df.iloc[73]['clean_text'])"
      ]
    },
    {
      "cell_type": "markdown",
      "metadata": {
        "id": "mygDqt3dll6L"
      },
      "source": [
        "### Посмотрим на облака слов в фейковых и правдивых заголовках"
      ]
    },
    {
      "cell_type": "code",
      "execution_count": null,
      "metadata": {
        "id": "QdJiFpjqgtXM"
      },
      "outputs": [],
      "source": [
        "from sklearn.feature_extraction.text import CountVectorizer\n",
        "\n",
        "fake_df = train_df[train_df['is_fake'] == 1]\n",
        "truth_df = train_df[train_df['is_fake'] == 0]\n",
        "\n",
        "fake_counter = CountVectorizer(ngram_range=(1, 1))\n",
        "truth_counter = CountVectorizer(ngram_range=(1, 1))\n",
        "\n",
        "fake_count = fake_counter.fit_transform(fake_df['clean_text'])\n",
        "truth_count = truth_counter.fit_transform(truth_df['clean_text'])\n",
        "\n",
        "fake_frequence = pd.DataFrame(\n",
        "  {'word' : fake_counter.get_feature_names_out(),\n",
        "  'frequency' : np.array(fake_count.sum(axis = 0))[0]\n",
        "    }).sort_values(by = 'frequency', ascending = False)\n",
        "\n",
        "truth_frequence = pd.DataFrame(\n",
        "    {'word' : truth_counter.get_feature_names_out(),\n",
        "     'frequency' : np.array(truth_count.sum(axis = 0))[0]\n",
        "    }).sort_values(by = 'frequency', ascending = False)\n",
        "\n",
        "fake_frequence_filtered = fake_frequence.query(\"word not in @truth_frequence.word\")[:100]\n",
        "truth_frequence_filtered = truth_frequence.query(\"word not in @fake_frequence.word\")[:100]"
      ]
    },
    {
      "cell_type": "code",
      "execution_count": null,
      "metadata": {
        "colab": {
          "base_uri": "https://localhost:8080/",
          "height": 558
        },
        "id": "DLnMmBLwihA7",
        "outputId": "c33f2a06-b8f7-4d63-c1cf-52739d57ba12"
      },
      "outputs": [
        {
          "output_type": "display_data",
          "data": {
            "text/plain": [
              "<Figure size 1440x864 with 2 Axes>"
            ],
            "image/png": "[encoded data removed]"
          },
          "metadata": {
            "needs_background": "light"
          }
        }
      ],
      "source": [
        "from wordcloud import WordCloud\n",
        "import matplotlib.pyplot as plt\n",
        "\n",
        "wordcloud_fake = WordCloud(background_color=\"black\",\n",
        "                           colormap = 'Blues',\n",
        "                           max_words=200,\n",
        "                           mask=None, \n",
        "                           width=1600,\n",
        "                           height=1600)\\\n",
        "    .generate_from_frequencies(dict(fake_frequence_filtered.values))\n",
        "\n",
        "wordcloud_truth = WordCloud(background_color=\"black\",\n",
        "                               colormap = 'Oranges',\n",
        "                               max_words=200,\n",
        "                               mask=None, \n",
        "                               width=1600,\n",
        "                               height=1600)\\\n",
        "    .generate_from_frequencies(dict(truth_frequence_filtered.values))\n",
        "\n",
        "\n",
        "fig, ax = plt.subplots(1, 2, figsize = (20, 12))\n",
        "\n",
        "ax[0].imshow(wordcloud_fake, interpolation='bilinear')\n",
        "ax[1].imshow(wordcloud_truth, interpolation='bilinear')\n",
        "\n",
        "ax[0].set_title('fake', fontsize = 20)\n",
        "ax[1].set_title('truth', fontsize = 20)\n",
        "\n",
        "ax[0].axis(\"off\")\n",
        "ax[1].axis(\"off\")\n",
        "\n",
        "plt.show()"
      ]
    },
    {
      "cell_type": "markdown",
      "metadata": {
        "id": "OrGXci3xmaQT"
      },
      "source": [
        "### Разделим данные на тренировочный и валидационный датасеты"
      ]
    },
    {
      "cell_type": "code",
      "execution_count": null,
      "metadata": {
        "colab": {
          "base_uri": "https://localhost:8080/"
        },
        "id": "Pf9P7FXGjw7Y",
        "outputId": "feb4cf68-46ce-4043-d068-a85118ce4a1d"
      },
      "outputs": [
        {
          "output_type": "stream",
          "name": "stdout",
          "text": [
            "Train size: 5182\n",
            "Valid size: 576\n",
            "Test size: 1000\n"
          ]
        }
      ],
      "source": [
        "train_df, valid_df = train_test_split(train_df[['clean_text', 'is_fake']], test_size=0.1, random_state=RANDOM_STATE)\n",
        "\n",
        "print(f\"Train size: {len(train_df)}\")\n",
        "print(f\"Valid size: {len(valid_df)}\")\n",
        "print(f\"Test size: {len(test_df)}\")"
      ]
    },
    {
      "cell_type": "code",
      "execution_count": null,
      "metadata": {
        "colab": {
          "base_uri": "https://localhost:8080/"
        },
        "id": "Wh4wjHL1ZYcM",
        "outputId": "71d786cf-290c-43ed-c3a5-6c12d0b6dd99"
      },
      "outputs": [
        {
          "output_type": "execute_result",
          "data": {
            "text/plain": [
              "0    2606\n",
              "1    2576\n",
              "Name: is_fake, dtype: int64"
            ]
          },
          "metadata": {},
          "execution_count": 16
        }
      ],
      "source": [
        "train_df['is_fake'].value_counts()"
      ]
    },
    {
      "cell_type": "code",
      "execution_count": null,
      "metadata": {
        "colab": {
          "base_uri": "https://localhost:8080/"
        },
        "id": "SwvJUya5Zlln",
        "outputId": "3c0903d7-ca48-4fd0-aa75-f862915251c5"
      },
      "outputs": [
        {
          "output_type": "execute_result",
          "data": {
            "text/plain": [
              "count    5182.000000\n",
              "mean        8.730992\n",
              "std         2.815672\n",
              "min         3.000000\n",
              "25%         7.000000\n",
              "50%         8.000000\n",
              "75%        10.000000\n",
              "max        27.000000\n",
              "Name: clean_text, dtype: float64"
            ]
          },
          "metadata": {},
          "execution_count": 17
        }
      ],
      "source": [
        "train_df['clean_text'].apply(\n",
        "    lambda s: len(s.split())).describe()"
      ]
    },
    {
      "cell_type": "markdown",
      "metadata": {
        "id": "GZqrEqUEZ9Ny"
      },
      "source": [
        "# 2. PyTorch Datasets and DataLoaders"
      ]
    },
    {
      "cell_type": "markdown",
      "metadata": {
        "id": "r7vUklGinEcT"
      },
      "source": [
        "В качестве базовой модели я выбрал Bert для классификации токсичности предложений."
      ]
    },
    {
      "cell_type": "code",
      "execution_count": null,
      "metadata": {
        "id": "R9Qc5czlcRfT"
      },
      "outputs": [],
      "source": [
        "MODEL_NAME = 'SkolkovoInstitute/russian_toxicity_classifier'"
      ]
    },
    {
      "cell_type": "code",
      "execution_count": null,
      "metadata": {
        "id": "pOyEUZ_fbLtu"
      },
      "outputs": [],
      "source": [
        "class TextClassificationDataset(Dataset):\n",
        "    \n",
        "    def __init__(\n",
        "        self,\n",
        "        texts: List[str],\n",
        "        labels: List[str] = None,\n",
        "        max_seq_length: int = 32,\n",
        "        model_name: str = \"SkolkovoInstitute/russian_toxicity_classifier\",\n",
        "    ):\n",
        "        self.texts = texts\n",
        "        self.labels = labels\n",
        "        self.max_seq_length = max_seq_length\n",
        "\n",
        "        self.tokenizer = AutoTokenizer.from_pretrained(model_name)\n",
        "        logging.getLogger(\"transformers.tokenization_utils\").setLevel(logging.FATAL)\n",
        "\n",
        "    def __len__(self) -> int:\n",
        "\n",
        "        return len(self.texts)\n",
        "    \n",
        "    def __getitem__(self, index) -> Mapping[str, torch.Tensor]:\n",
        "\n",
        "        text = self.texts[index]\n",
        "\n",
        "        output_dict = self.tokenizer.encode_plus(\n",
        "            text,\n",
        "            add_special_tokens = True,\n",
        "            padding = \"max_length\",\n",
        "            max_length = self.max_seq_length,\n",
        "            return_tensors = \"pt\",\n",
        "            truncation = True,\n",
        "            return_attention_mask = True,\n",
        "        )\n",
        "\n",
        "        output_dict[\"features\"] = output_dict[\"input_ids\"].squeeze(0)\n",
        "        del output_dict[\"input_ids\"]\n",
        "    \n",
        "        if self.labels is not None:\n",
        "            output_dict[\"targets\"] = self.labels[index]\n",
        "        \n",
        "        return output_dict"
      ]
    },
    {
      "cell_type": "code",
      "execution_count": null,
      "metadata": {
        "id": "j6bv0m8PfWaY"
      },
      "outputs": [],
      "source": [
        "train_dataset = TextClassificationDataset(\n",
        "    texts = train_df['clean_text'].to_list(),\n",
        "    labels = train_df['is_fake'].to_list(),\n",
        "    max_seq_length=32,\n",
        "    model_name = MODEL_NAME,\n",
        ")\n",
        "valid_dataset = TextClassificationDataset(\n",
        "    texts = valid_df['clean_text'].to_list(),\n",
        "    labels = valid_df['is_fake'].to_list(),\n",
        "    max_seq_length=32,\n",
        "    model_name = MODEL_NAME,\n",
        ")\n",
        "test_dataset = TextClassificationDataset(\n",
        "    texts = test_df['clean_text'].to_list(),\n",
        "    labels = test_df['is_fake'].to_list(),\n",
        "    max_seq_length=32,\n",
        "    model_name = MODEL_NAME\n",
        ")"
      ]
    },
    {
      "cell_type": "markdown",
      "metadata": {
        "id": "aDKHx4Jekw9V"
      },
      "source": [
        "# 3. Model"
      ]
    },
    {
      "cell_type": "code",
      "execution_count": null,
      "metadata": {
        "id": "Da6X3SvKtUOu"
      },
      "outputs": [],
      "source": [
        "class BertForSequenceClassification(nn.Module):\n",
        "\n",
        "    def __init__(\n",
        "        self,\n",
        "        pretrained_model_name: str,\n",
        "        num_classes: int = None,\n",
        "        dropout: float = 0.5,\n",
        "    ):\n",
        "        super().__init__()\n",
        "\n",
        "        config = AutoConfig.from_pretrained(\n",
        "            pretrained_model_name, \n",
        "            num_labels = num_classes\n",
        "        )\n",
        "\n",
        "        self.model = AutoModel.from_pretrained(pretrained_model_name, config=config)\n",
        "        self.fc = nn.Linear(config.hidden_size, config.hidden_size)\n",
        "        self.classifier = nn.Linear(config.hidden_size, num_classes)\n",
        "        self.dropout = nn.Dropout(dropout)\n",
        "    \n",
        "    def forward(self, features, attention_mask = None, head_mask = None):\n",
        "\n",
        "        assert attention_mask is not None, \"attention mask is none!\"\n",
        "\n",
        "        bert_output = self.model(input_ids=features,\n",
        "                                 attention_mask=attention_mask,\n",
        "                                 head_mask=head_mask\n",
        "                                 )\n",
        "        \n",
        "        seq_output = bert_output[0]\n",
        "\n",
        "        pooled_output = seq_output.mean(axis=1)\n",
        "        pooled_output = self.dropout(pooled_output)\n",
        "        pooled_output = self.fc(pooled_output)\n",
        "        pooled_output = self.dropout(pooled_output)\n",
        "        scores = self.classifier(pooled_output)\n",
        "\n",
        "        return scores"
      ]
    },
    {
      "cell_type": "markdown",
      "metadata": {
        "id": "_UqhsNUfll-p"
      },
      "source": [
        "# 4. Training"
      ]
    },
    {
      "cell_type": "markdown",
      "metadata": {
        "id": "0-xowSvZofJw"
      },
      "source": [
        "Для упрощения обучения и последующей воспроизводимости результатов я буду использовать библиотеку Catalyst"
      ]
    },
    {
      "cell_type": "code",
      "execution_count": null,
      "metadata": {
        "id": "SGp_wvoC2tOL"
      },
      "outputs": [],
      "source": [
        "import torch\n",
        "from catalyst.dl import SupervisedRunner\n",
        "from catalyst.callbacks import (\n",
        "    AccuracyCallback,\n",
        "    CheckpointCallback,\n",
        "    OptimizerCallback,\n",
        "    PrecisionRecallF1SupportCallback,\n",
        ")\n",
        "from catalyst.utils import prepare_cudnn, set_global_seed\n",
        "from catalyst import utils"
      ]
    },
    {
      "cell_type": "code",
      "execution_count": null,
      "metadata": {
        "id": "446895TYpjvE"
      },
      "outputs": [],
      "source": [
        "set_global_seed(RANDOM_STATE)\n",
        "prepare_cudnn(deterministic=True)"
      ]
    },
    {
      "cell_type": "code",
      "execution_count": null,
      "metadata": {
        "id": "B1dCmXDfsVyZ"
      },
      "outputs": [],
      "source": [
        "train_val_loaders = {\n",
        "    \"train\": DataLoader(\n",
        "        dataset=train_dataset,\n",
        "        batch_size=32,\n",
        "        shuffle=True,\n",
        "    ),\n",
        "    \"valid\": DataLoader(\n",
        "        dataset=valid_dataset,\n",
        "        batch_size=32,\n",
        "        shuffle=True,\n",
        "    ),\n",
        "}\n",
        "\n",
        "test_loader = {\n",
        "    \"test\": DataLoader(\n",
        "        dataset=test_dataset,\n",
        "        batch_size=32,\n",
        "        shuffle=False,\n",
        "    )\n",
        "}"
      ]
    },
    {
      "cell_type": "code",
      "execution_count": null,
      "metadata": {
        "colab": {
          "base_uri": "https://localhost:8080/"
        },
        "id": "6Li2ggVFSWVb",
        "outputId": "539c67f8-3c97-4d74-996b-f105a57ed644"
      },
      "outputs": [
        {
          "output_type": "stream",
          "name": "stderr",
          "text": [
            "Some weights of the model checkpoint at SkolkovoInstitute/russian_toxicity_classifier were not used when initializing BertModel: ['classifier.weight', 'classifier.bias']\n",
            "- This IS expected if you are initializing BertModel from the checkpoint of a model trained on another task or with another architecture (e.g. initializing a BertForSequenceClassification model from a BertForPreTraining model).\n",
            "- This IS NOT expected if you are initializing BertModel from the checkpoint of a model that you expect to be exactly identical (initializing a BertForSequenceClassification model from a BertForSequenceClassification model).\n"
          ]
        }
      ],
      "source": [
        "model = BertForSequenceClassification(MODEL_NAME, num_classes=2, dropout=0.3)"
      ]
    },
    {
      "cell_type": "code",
      "execution_count": null,
      "metadata": {
        "id": "zDKyyjtyoTqa"
      },
      "outputs": [],
      "source": [
        "criterion = torch.nn.CrossEntropyLoss()\n",
        "optimizer = torch.optim.AdamW(\n",
        "    model.parameters(), lr=3e-5\n",
        ")\n",
        "scheduler = torch.optim.lr_scheduler.MultiStepLR(optimizer, [2,4], )"
      ]
    },
    {
      "cell_type": "code",
      "execution_count": null,
      "metadata": {
        "id": "lLJ8fpeTqdx1"
      },
      "outputs": [],
      "source": [
        "runner = SupervisedRunner(input_key=(\"features\", \"attention_mask\"))\n",
        "logdir = '/content/drive/MyDrive/Colab Notebooks/kontur/test_task/logdir/'"
      ]
    },
    {
      "cell_type": "code",
      "execution_count": null,
      "metadata": {
        "colab": {
          "base_uri": "https://localhost:8080/",
          "height": 864,
          "referenced_widgets": [
            "89895a01f460490f8955e804f0aaa961",
            "216d7fed266d4619be0955c838d00e98",
            "7a38a91c24664fe6beba111f43ccafa4",
            "1448dd19eb98426694e1499aaebf44aa",
            "517a1aa6000d4125916d54bc66b75bd4",
            "9e02f6910a4043eebabd81c0aa260917",
            "391ce09ba3b2404b9909ec728319b426",
            "1c982c99d34b4031becce3e8339a1c48",
            "9cae4a79ceff49a6981592a14aafa859",
            "89bea2f9c89248ef9386449ce0444a56",
            "26fed95447d548d9ad4e1d1ec823b8a4",
            "ad5f0c80eae842caac954877d72d11d3",
            "3e98902f806b48f490bba76194f6c8c3",
            "329bd497e2704727a8c5cff3ae8dc901",
            "e32372d0c1f74ae1adb49730cb191157",
            "43325aa3d7e242de8eaad783abdbc0a3",
            "1e51d8ddc81e4ba5b93e78c39be5b349",
            "c34a4488fd0a4491a0caf023e07d2341",
            "d032fcce09e44ec6bbe54f2e7177fefd",
            "b1af3a4472ad400a9b8e51573381d341",
            "96cb5dd477cd4bc3aa52cf1f8cc0c8e2",
            "996999271e3e41eda667c96d4d608207",
            "119135db3c9847a7aae3555550d31de0",
            "5b82177634ec477aaff9034438a12293",
            "47e38efd9b0b446882309e76fec122af",
            "8dbe2d3921c5435ba700e813087ff6c6",
            "842d9f260fdc4a78ba9d389f6d2e0783",
            "49023f3a1c064f219c610709fb00c3ad",
            "e661130079ae42528764ffb555148988",
            "5060b59891b54b90ba56b136d1898374",
            "ae9c906f576a4c57a46026981c74e72d",
            "f81563788a464d229be876883c36dd17",
            "aebd55d4b32f4d26873bc07e37071617",
            "4d64cb5ff2e14a2fbb758739e6300e05",
            "aecf5b6e3cf7477a8b34641f468313df",
            "1f4245221f854b3fb7511cb455130ee6",
            "c869195ffc8e496b977d36182cbe9326",
            "06d7d2f10f0b49c6ad70215b7de00755",
            "410fd8a0fb1544a5b3f10b033471ca71",
            "98d8b4441b35418fb4ea198b4fad8eae",
            "a27b6b4b364e4fb29ab9651c2b454448",
            "3bf65b5faa36443ba14c2445e2b92c2a",
            "590bd2245a22461b90f978eacf7519ae",
            "d975a1426d7644ca80d2e956fabe6644",
            "1eb97952b5e940d083f6df51e37ab0d6",
            "3225c2828d0e48edbdbca23a4205c23e",
            "a5bd46194eb64c4da2dd353cc4707821",
            "17b2bffec85f43a6af702084ba05b2e2",
            "1b315e7f7dbd48149f1c4fa347e93215",
            "0ad84b226e524f7e80c2a31a8afef171",
            "7f805cfbfabd4f39bbde8c423c72e02b",
            "a11a276a3ebb44d0907ca0673d4a7209",
            "af55aef317b44dd5b2cb221d3df1f3b6",
            "50e5654d3b4b41b08c5b66d94a9a7982",
            "088ba17f0e2540e790e1c40ad56563d2",
            "0f6e7d94a5d44b20ac6b4282281f6aa5",
            "ce0dee0878ec4ec8bfa67fc02d07a1cc",
            "4b9f16fd383a4922bd38201808dbdbb2",
            "48fc62e7301f4266bca000b99ca1a704",
            "fe23d464ed9a4ab4b773e51a855bbcef",
            "431eadd4a4734e1eb6aab4d32738f9d9",
            "a8af34e6e3364f519732590a0100d963",
            "bef8a03ca3ae4fe3a7272e2c8e5bb7b0",
            "0192bad830824bd69ddf19da2664f1b9",
            "da136272df79421392382b93ae69ccfa",
            "c18621175247424c8d24a50cc56b817f",
            "b6154a54b40347b5bb9a68bb0406f59d",
            "b2e20f2b9f2d4896ba433bf59292cac6",
            "f77717fc8f68466a86fc27818e89f366",
            "5858d15d4f474846a03a257e52568bcf",
            "5613dc8cdd0b4d70b032ff7f515e80bf",
            "810a1ecc660841da821a5185f9c336b4",
            "0eaeb7ff83604e5fa577a2f9a33967b1",
            "0a2458f7be0448d8bffb215043d9b262",
            "7c0b330c6e5440978c3c131e47dd94c8",
            "000049bda828430cbb2fd34334228667",
            "5957e849f18a4afb93b231cdc6da4f62",
            "a2501d4eb0bb4092a510fb9ec94178c8",
            "6188e6157e924e1994814a23f42d4136",
            "98f379880d0d422b916b1a5f80f360f1",
            "eba6dda766fc4438a452aba1029a2adc",
            "c178be271cdb473f9e915f71fc76891f",
            "381b858a32e04444a889a51011013c38",
            "2411e8b266e04d898ceb5ebeed0c5b15",
            "6a70ba39bf234b9784c2eaf2fd8077e3",
            "7121239e451847f89ec3470d98a64877",
            "e9902668031c4f9babf826c620bee6a2",
            "b1e8e99f086244aabcf8a35b362a8373",
            "e90c916fe3184600a5c58e183f667335",
            "3a22a7d182354f26818452a39d3e6ac1",
            "882441394955425ebfd57d1a9783039b",
            "f61a7868760e4c39a2b1376a7c2927eb",
            "6faf919f710c43ef97d250c7179cc5b4",
            "b0bc65b0138d4e3cb68ad9d57085d9e3",
            "680d13c08300441488d395173240068f",
            "f84f8ee2022a4326b602fa941862d82e",
            "8afe50b0a2e74fbf8fba0ae60a3080d7",
            "22681d149033455bb3fcdd3b5e2684d1",
            "ff0a5b3e808f4ad0ae4e99cb75cc32c1",
            "937d1873a5bb4c8da6ff2fbb71a60805",
            "664e4cb15dc14bb58b6a0df01d8113e6",
            "45c3928ec62044b784b2ec39b9226af1",
            "4ac40c01f2ba47bea7b19b1633ba5bbf",
            "22ef336492dc4b6aa7ced0e6e14f0095",
            "c3eb3df0314944dabfdb6f917ac27901",
            "b17ede2a89ba49d1bc2f35a7b8e0ec5e",
            "d96d298c6c97447f99268cc78be05aa6",
            "54f50d63b92d4cfda700229afb0a5f96",
            "1e0b8e6b6a1f42188de103683f91d499",
            "91cf6977b6be49d0bd594a08d921238d"
          ]
        },
        "id": "qjC9ShVNqipC",
        "outputId": "d8bf64ad-c906-48f6-db44-1c6db353f723"
      },
      "outputs": [
        {
          "output_type": "display_data",
          "data": {
            "text/plain": [
              "1/5 * Epoch (train):   0%|          | 0/162 [00:00<?, ?it/s]"
            ],
            "application/vnd.jupyter.widget-view+json": {
              "version_major": 2,
              "version_minor": 0,
              "model_id": "89895a01f460490f8955e804f0aaa961"
            }
          },
          "metadata": {}
        },
        {
          "output_type": "stream",
          "name": "stdout",
          "text": [
            "train (1/5) accuracy01: 0.04920879969123894 | accuracy01/std: 0.038004170066333776 | f1/_macro: 0.8519802192718774 | f1/_micro: 0.8519826495854989 | f1/_weighted: 0.8519767467034132 | loss: 0.3340510782221025 | loss/mean: 0.3340510782221025 | loss/std: 0.14883043206754504 | lr: 3e-05 | momentum: 0.9 | precision/_macro: 0.8520958405002395 | precision/_micro: 0.8519876495561559 | precision/_weighted: 0.8521409200602743 | recall/_macro: 0.8520396671798954 | recall/_micro: 0.8519876495561559 | recall/_weighted: 0.8519876495561559\n"
          ]
        },
        {
          "output_type": "display_data",
          "data": {
            "text/plain": [
              "1/5 * Epoch (valid):   0%|          | 0/18 [00:00<?, ?it/s]"
            ],
            "application/vnd.jupyter.widget-view+json": {
              "version_major": 2,
              "version_minor": 0,
              "model_id": "ad5f0c80eae842caac954877d72d11d3"
            }
          },
          "metadata": {}
        },
        {
          "output_type": "stream",
          "name": "stdout",
          "text": [
            "valid (1/5) accuracy01: 0.0642361111111111 | accuracy01/std: 0.052618626044047226 | f1/_macro: 0.8853439646561847 | f1/_micro: 0.8854116666949018 | f1/_weighted: 0.8851988263020132 | loss: 0.2500993692212634 | loss/mean: 0.2500993692212634 | loss/std: 0.09933841402811089 | lr: 3e-05 | momentum: 0.9 | precision/_macro: 0.8920136901209457 | precision/_micro: 0.8854166666666666 | precision/_weighted: 0.8954259436317795 | recall/_macro: 0.8890944039458891 | recall/_micro: 0.8854166666666666 | recall/_weighted: 0.8854166666666666\n",
            "* Epoch (1/5) lr: 3e-05 | momentum: 0.9\n"
          ]
        },
        {
          "output_type": "display_data",
          "data": {
            "text/plain": [
              "2/5 * Epoch (train):   0%|          | 0/162 [00:00<?, ?it/s]"
            ],
            "application/vnd.jupyter.widget-view+json": {
              "version_major": 2,
              "version_minor": 0,
              "model_id": "119135db3c9847a7aae3555550d31de0"
            }
          },
          "metadata": {}
        },
        {
          "output_type": "stream",
          "name": "stdout",
          "text": [
            "train (2/5) accuracy01: 0.0492087996912389 | accuracy01/std: 0.04134863629851857 | f1/_macro: 0.9640960470277702 | f1/_micro: 0.9641015226040857 | f1/_weighted: 0.9640986138050784 | loss: 0.10433876550307444 | loss/mean: 0.10433876550307444 | loss/std: 0.08199255873317635 | lr: 3e-05 | momentum: 0.9 | precision/_macro: 0.9642178075006557 | precision/_micro: 0.9641065225781551 | precision/_weighted: 0.9641837406876452 | recall/_macro: 0.9640673338640404 | recall/_micro: 0.9641065225781551 | recall/_weighted: 0.9641065225781551\n"
          ]
        },
        {
          "output_type": "display_data",
          "data": {
            "text/plain": [
              "2/5 * Epoch (valid):   0%|          | 0/18 [00:00<?, ?it/s]"
            ],
            "application/vnd.jupyter.widget-view+json": {
              "version_major": 2,
              "version_minor": 0,
              "model_id": "4d64cb5ff2e14a2fbb758739e6300e05"
            }
          },
          "metadata": {}
        },
        {
          "output_type": "stream",
          "name": "stdout",
          "text": [
            "valid (2/5) accuracy01: 0.0642361111111111 | accuracy01/std: 0.04717246597215074 | f1/_macro: 0.8940203841728738 | f1/_micro: 0.8940922222501831 | f1/_weighted: 0.8938766469423591 | loss: 0.24383036295572916 | loss/mean: 0.24383036295572916 | loss/std: 0.13624584417111152 | lr: 3e-05 | momentum: 0.9 | precision/_macro: 0.9011627906976745 | precision/_micro: 0.8940972222222222 | precision/_weighted: 0.9046955749354004 | recall/_macro: 0.8978892394733979 | recall/_micro: 0.8940972222222222 | recall/_weighted: 0.8940972222222221\n",
            "* Epoch (2/5) lr: 3e-06 | momentum: 0.9\n"
          ]
        },
        {
          "output_type": "display_data",
          "data": {
            "text/plain": [
              "3/5 * Epoch (train):   0%|          | 0/162 [00:00<?, ?it/s]"
            ],
            "application/vnd.jupyter.widget-view+json": {
              "version_major": 2,
              "version_minor": 0,
              "model_id": "1eb97952b5e940d083f6df51e37ab0d6"
            }
          },
          "metadata": {}
        },
        {
          "output_type": "stream",
          "name": "stdout",
          "text": [
            "train (3/5) accuracy01: 0.04920879971136783 | accuracy01/std: 0.03942708660816228 | f1/_macro: 0.9955562814283145 | f1/_micro: 0.9955565592686466 | f1/_weighted: 0.9955564847426048 | loss: 0.025004235976736875 | loss/mean: 0.025004235976736875 | loss/std: 0.02460191954794233 | lr: 3e-06 | momentum: 0.9 | precision/_macro: 0.9955824154705959 | precision/_micro: 0.9955615592435353 | precision/_weighted: 0.9955703830319071 | recall/_macro: 0.9955491209964582 | recall/_micro: 0.9955615592435353 | recall/_weighted: 0.9955615592435354\n"
          ]
        },
        {
          "output_type": "display_data",
          "data": {
            "text/plain": [
              "3/5 * Epoch (valid):   0%|          | 0/18 [00:00<?, ?it/s]"
            ],
            "application/vnd.jupyter.widget-view+json": {
              "version_major": 2,
              "version_minor": 0,
              "model_id": "0f6e7d94a5d44b20ac6b4282281f6aa5"
            }
          },
          "metadata": {}
        },
        {
          "output_type": "stream",
          "name": "stdout",
          "text": [
            "valid (3/5) accuracy01: 0.0642361111111111 | accuracy01/std: 0.05157542200107889 | f1/_macro: 0.9373863049198587 | f1/_micro: 0.9374950000266665 | f1/_weighted: 0.9375221744827092 | loss: 0.18997583186460862 | loss/mean: 0.18997583186460862 | loss/std: 0.09378561654668305 | lr: 3e-06 | momentum: 0.9 | precision/_macro: 0.9371130661453242 | precision/_micro: 0.9375 | precision/_weighted: 0.9377579559031171 | recall/_macro: 0.9378740071809378 | recall/_micro: 0.9375 | recall/_weighted: 0.9374999999999999\n",
            "* Epoch (3/5) lr: 3e-06 | momentum: 0.9\n"
          ]
        },
        {
          "output_type": "display_data",
          "data": {
            "text/plain": [
              "4/5 * Epoch (train):   0%|          | 0/162 [00:00<?, ?it/s]"
            ],
            "application/vnd.jupyter.widget-view+json": {
              "version_major": 2,
              "version_minor": 0,
              "model_id": "b6154a54b40347b5bb9a68bb0406f59d"
            }
          },
          "metadata": {}
        },
        {
          "output_type": "stream",
          "name": "stdout",
          "text": [
            "train (4/5) accuracy01: 0.04920879969123891 | accuracy01/std: 0.0386337957674033 | f1/_macro: 0.9982581567027755 | f1/_micro: 0.9982582188594701 | f1/_weighted: 0.9982582168545957 | loss: 0.010532464273130164 | loss/mean: 0.010532464273130164 | loss/std: 0.015072569952961652 | lr: 3e-06 | momentum: 0.9 | precision/_macro: 0.9982643443157146 | precision/_micro: 0.9982632188344268 | precision/_weighted: 0.9982632891770074 | recall/_macro: 0.9982620433972247 | recall/_micro: 0.9982632188344268 | recall/_weighted: 0.9982632188344269\n"
          ]
        },
        {
          "output_type": "display_data",
          "data": {
            "text/plain": [
              "4/5 * Epoch (valid):   0%|          | 0/18 [00:00<?, ?it/s]"
            ],
            "application/vnd.jupyter.widget-view+json": {
              "version_major": 2,
              "version_minor": 0,
              "model_id": "a2501d4eb0bb4092a510fb9ec94178c8"
            }
          },
          "metadata": {}
        },
        {
          "output_type": "stream",
          "name": "stdout",
          "text": [
            "valid (4/5) accuracy01: 0.0642361111111111 | accuracy01/std: 0.04600593324474362 | f1/_macro: 0.9339263968637932 | f1/_micro: 0.9340227778045435 | f1/_weighted: 0.934057826736505 | loss: 0.2054093410778377 | loss/mean: 0.2054093410778377 | loss/std: 0.14102402863035196 | lr: 3e-06 | momentum: 0.9 | precision/_macro: 0.9336510042825261 | precision/_micro: 0.9340277777777778 | precision/_weighted: 0.9344583760580654 | recall/_macro: 0.9345736771479345 | recall/_micro: 0.9340277777777778 | recall/_weighted: 0.9340277777777777\n",
            "* Epoch (4/5) lr: 3.0000000000000004e-07 | momentum: 0.9\n"
          ]
        },
        {
          "output_type": "display_data",
          "data": {
            "text/plain": [
              "5/5 * Epoch (train):   0%|          | 0/162 [00:00<?, ?it/s]"
            ],
            "application/vnd.jupyter.widget-view+json": {
              "version_major": 2,
              "version_minor": 0,
              "model_id": "e90c916fe3184600a5c58e183f667335"
            }
          },
          "metadata": {}
        },
        {
          "output_type": "stream",
          "name": "stdout",
          "text": [
            "train (5/5) accuracy01: 0.04920879971136781 | accuracy01/std: 0.03656987298388921 | f1/_macro: 0.9988370960710247 | f1/_micro: 0.9988371459146467 | f1/_weighted: 0.99883714005332 | loss: 0.007099606404249924 | loss/mean: 0.007099606404249924 | loss/std: 0.01148913146786479 | lr: 3.0000000000000004e-07 | momentum: 0.9 | precision/_macro: 0.9988477443497017 | precision/_micro: 0.998842145889618 | precision/_weighted: 0.9988433245127935 | recall/_macro: 0.9988376381784987 | recall/_micro: 0.998842145889618 | recall/_weighted: 0.998842145889618\n"
          ]
        },
        {
          "output_type": "display_data",
          "data": {
            "text/plain": [
              "5/5 * Epoch (valid):   0%|          | 0/18 [00:00<?, ?it/s]"
            ],
            "application/vnd.jupyter.widget-view+json": {
              "version_major": 2,
              "version_minor": 0,
              "model_id": "937d1873a5bb4c8da6ff2fbb71a60805"
            }
          },
          "metadata": {}
        },
        {
          "output_type": "stream",
          "name": "stdout",
          "text": [
            "valid (5/5) accuracy01: 0.06423611111111112 | accuracy01/std: 0.044809041961928774 | f1/_macro: 0.9373863049198587 | f1/_micro: 0.9374950000266665 | f1/_weighted: 0.9375221744827092 | loss: 0.20487390463757849 | loss/mean: 0.20487390463757849 | loss/std: 0.14322397290709996 | lr: 3.0000000000000004e-07 | momentum: 0.9 | precision/_macro: 0.9371130661453242 | precision/_micro: 0.9375 | precision/_weighted: 0.9377579559031171 | recall/_macro: 0.9378740071809378 | recall/_micro: 0.9375 | recall/_weighted: 0.9374999999999999\n",
            "* Epoch (5/5) lr: 3.0000000000000004e-07 | momentum: 0.9\n"
          ]
        }
      ],
      "source": [
        "runner.train( \n",
        "    model=model,\n",
        "    criterion=criterion,\n",
        "    optimizer=optimizer,\n",
        "    scheduler=scheduler,\n",
        "    loaders=train_val_loaders,\n",
        "    callbacks=[\n",
        "               AccuracyCallback(num_classes=2, input_key=\"features\", target_key='targets'),\n",
        "               OptimizerCallback(metric_key=\"loss\"),\n",
        "               PrecisionRecallF1SupportCallback(\n",
        "                   input_key=\"logits\", target_key=\"targets\", num_classes=2,\n",
        "               ),\n",
        "    ],\n",
        "    # logdir=logdir,\n",
        "    num_epochs=5,\n",
        "    load_best_on_end=True,\n",
        "    verbose=True,\n",
        ")"
      ]
    },
    {
      "cell_type": "markdown",
      "metadata": {
        "id": "pwqGGRP_IxIf"
      },
      "source": [
        "# 5. Evaluation predictions"
      ]
    },
    {
      "cell_type": "code",
      "execution_count": null,
      "metadata": {
        "id": "9ECmX-vlMGxX"
      },
      "outputs": [],
      "source": [
        "model = runner.model"
      ]
    },
    {
      "cell_type": "code",
      "execution_count": null,
      "metadata": {
        "id": "91M1sTIpI0QJ"
      },
      "outputs": [],
      "source": [
        "from sklearn.metrics import f1_score, confusion_matrix, classification_report"
      ]
    },
    {
      "cell_type": "code",
      "source": [
        "device = 'cuda' if torch.cuda.is_available() else 'cpu'"
      ],
      "metadata": {
        "id": "zbSS_L4dE7Eq"
      },
      "execution_count": null,
      "outputs": []
    },
    {
      "cell_type": "code",
      "execution_count": null,
      "metadata": {
        "colab": {
          "base_uri": "https://localhost:8080/"
        },
        "id": "obG4pM47RIQY",
        "outputId": "1761bb3f-2b8d-4ebd-db01-af4a39b523b8"
      },
      "outputs": [
        {
          "output_type": "stream",
          "name": "stderr",
          "text": [
            "18it [00:02,  8.21it/s]"
          ]
        },
        {
          "output_type": "stream",
          "name": "stdout",
          "text": [
            "\n",
            "f1_score: 0.9400000000000001\n",
            "              precision    recall  f1-score   support\n",
            "\n",
            "           0       0.92      0.95      0.93       273\n",
            "           1       0.95      0.93      0.94       303\n",
            "\n",
            "    accuracy                           0.94       576\n",
            "   macro avg       0.94      0.94      0.94       576\n",
            "weighted avg       0.94      0.94      0.94       576\n",
            "\n"
          ]
        },
        {
          "output_type": "stream",
          "name": "stderr",
          "text": [
            "\n"
          ]
        }
      ],
      "source": [
        "pred_labels = []\n",
        "true_labels = []\n",
        "\n",
        "for i, batch in tqdm(enumerate(train_val_loaders[\"valid\"])):\n",
        "    inputs = batch['features'].to(device)\n",
        "    labels = batch['targets'].to(device)\n",
        "    attention_mask = batch['attention_mask'].to(device)\n",
        "    output = model(inputs, attention_mask).argmax(axis=1).cpu()\n",
        "    pred_labels.append(output)\n",
        "    true_labels.append(labels.cpu().numpy())\n",
        "\n",
        "true_labels = np.concatenate(true_labels, axis=0)\n",
        "pred_labels = np.concatenate(pred_labels, axis=0)\n",
        "\n",
        "from sklearn.metrics import f1_score\n",
        "print(f\"\\nf1_score: {f1_score(true_labels, pred_labels)}\")\n",
        "print(classification_report(true_labels, pred_labels))"
      ]
    },
    {
      "cell_type": "code",
      "source": [
        "torch.save(runner.model, \"logdir/best_model.pth\")"
      ],
      "metadata": {
        "id": "aWpy9ENE4roj"
      },
      "execution_count": null,
      "outputs": []
    },
    {
      "cell_type": "markdown",
      "source": [
        "# 6. Prediction"
      ],
      "metadata": {
        "id": "qluBzmtnb1Zo"
      }
    },
    {
      "cell_type": "code",
      "execution_count": null,
      "metadata": {
        "id": "JleFhhD70I11"
      },
      "outputs": [],
      "source": [
        "# model = BertForSequenceClassification(MODEL_NAME, num_classes=2)\n",
        "# checkpoint = torch.load(\"logdir/best_model.pth\", map_location=torch.device(device))\n",
        "model = torch.load(\"logdir/best_model.pth\")\n",
        "model.to(device)"
      ]
    },
    {
      "cell_type": "code",
      "source": [
        "pred_labels = []\n",
        "\n",
        "for i, batch in tqdm(enumerate(test_loader[\"test\"])):\n",
        "    inputs = batch['features'].to(device)\n",
        "    # labels = batch['targets'].to(device)\n",
        "    attention_mask = batch['attention_mask'].to(device)\n",
        "    output = model(inputs, attention_mask).argmax(axis=1).cpu()\n",
        "    pred_labels.append(output)\n",
        "\n",
        "pred_labels = np.concatenate(pred_labels, axis=0)\n",
        "\n",
        "test_df.is_fake = pred_labels"
      ],
      "metadata": {
        "colab": {
          "base_uri": "https://localhost:8080/"
        },
        "id": "1nZEMhJkde04",
        "outputId": "29aa0ae4-7db4-47d2-8a68-9c227ce2f092"
      },
      "execution_count": null,
      "outputs": [
        {
          "output_type": "stream",
          "name": "stderr",
          "text": [
            "32it [00:04,  7.47it/s]\n"
          ]
        }
      ]
    },
    {
      "cell_type": "code",
      "source": [
        "test_df.head()"
      ],
      "metadata": {
        "colab": {
          "base_uri": "https://localhost:8080/",
          "height": 201
        },
        "id": "09-yDNwUfvbU",
        "outputId": "3d328603-6b98-4796-89e4-8f55a00a9eb9"
      },
      "execution_count": null,
      "outputs": [
        {
          "output_type": "execute_result",
          "data": {
            "text/plain": [
              "                                               title  is_fake  \\\n",
              "0  Роскомнадзор представил реестр сочетаний цвето...        1   \n",
              "1  Ночью под Минском на президентской горе Белара...        1   \n",
              "2  Бывший спичрайтер Юрия Лозы рассказал о трудно...        1   \n",
              "3  Сельская церковь, собравшая рекордно низкое ко...        1   \n",
              "4  Акции Google рухнули после объявления о переза...        0   \n",
              "\n",
              "                                          clean_text  \n",
              "0  роскомнадзор представил реестр сочетаний цвето...  \n",
              "1  ночью под минском на президентской горе белара...  \n",
              "2  бывший спичрайтер юрия лозы рассказал о трудно...  \n",
              "3  сельская церковь, собравшая рекордно низкое ко...  \n",
              "4  акции google рухнули после объявления о переза...  "
            ],
            "text/html": [
              "\n",
              "  <div id=\"df-8bcf508e-77a0-4464-b649-4b7017f954a9\">\n",
              "    <div class=\"colab-df-container\">\n",
              "      <div>\n",
              "<style scoped>\n",
              "    .dataframe tbody tr th:only-of-type {\n",
              "        vertical-align: middle;\n",
              "    }\n",
              "\n",
              "    .dataframe tbody tr th {\n",
              "        vertical-align: top;\n",
              "    }\n",
              "\n",
              "    .dataframe thead th {\n",
              "        text-align: right;\n",
              "    }\n",
              "</style>\n",
              "<table border=\"1\" class=\"dataframe\">\n",
              "  <thead>\n",
              "    <tr style=\"text-align: right;\">\n",
              "      <th></th>\n",
              "      <th>title</th>\n",
              "      <th>is_fake</th>\n",
              "      <th>clean_text</th>\n",
              "    </tr>\n",
              "  </thead>\n",
              "  <tbody>\n",
              "    <tr>\n",
              "      <th>0</th>\n",
              "      <td>Роскомнадзор представил реестр сочетаний цвето...</td>\n",
              "      <td>1</td>\n",
              "      <td>роскомнадзор представил реестр сочетаний цвето...</td>\n",
              "    </tr>\n",
              "    <tr>\n",
              "      <th>1</th>\n",
              "      <td>Ночью под Минском на президентской горе Белара...</td>\n",
              "      <td>1</td>\n",
              "      <td>ночью под минском на президентской горе белара...</td>\n",
              "    </tr>\n",
              "    <tr>\n",
              "      <th>2</th>\n",
              "      <td>Бывший спичрайтер Юрия Лозы рассказал о трудно...</td>\n",
              "      <td>1</td>\n",
              "      <td>бывший спичрайтер юрия лозы рассказал о трудно...</td>\n",
              "    </tr>\n",
              "    <tr>\n",
              "      <th>3</th>\n",
              "      <td>Сельская церковь, собравшая рекордно низкое ко...</td>\n",
              "      <td>1</td>\n",
              "      <td>сельская церковь, собравшая рекордно низкое ко...</td>\n",
              "    </tr>\n",
              "    <tr>\n",
              "      <th>4</th>\n",
              "      <td>Акции Google рухнули после объявления о переза...</td>\n",
              "      <td>0</td>\n",
              "      <td>акции google рухнули после объявления о переза...</td>\n",
              "    </tr>\n",
              "  </tbody>\n",
              "</table>\n",
              "</div>\n",
              "      <button class=\"colab-df-convert\" onclick=\"convertToInteractive('df-8bcf508e-77a0-4464-b649-4b7017f954a9')\"\n",
              "              title=\"Convert this dataframe to an interactive table.\"\n",
              "              style=\"display:none;\">\n",
              "        \n",
              "  <svg xmlns=\"http://www.w3.org/2000/svg\" height=\"24px\"viewBox=\"0 0 24 24\"\n",
              "       width=\"24px\">\n",
              "    <path d=\"M0 0h24v24H0V0z\" fill=\"none\"/>\n",
              "    <path d=\"M18.56 5.44l.94 2.06.94-2.06 2.06-.94-2.06-.94-.94-2.06-.94 2.06-2.06.94zm-11 1L8.5 8.5l.94-2.06 2.06-.94-2.06-.94L8.5 2.5l-.94 2.06-2.06.94zm10 10l.94 2.06.94-2.06 2.06-.94-2.06-.94-.94-2.06-.94 2.06-2.06.94z\"/><path d=\"M17.41 7.96l-1.37-1.37c-.4-.4-.92-.59-1.43-.59-.52 0-1.04.2-1.43.59L10.3 9.45l-7.72 7.72c-.78.78-.78 2.05 0 2.83L4 21.41c.39.39.9.59 1.41.59.51 0 1.02-.2 1.41-.59l7.78-7.78 2.81-2.81c.8-.78.8-2.07 0-2.86zM5.41 20L4 18.59l7.72-7.72 1.47 1.35L5.41 20z\"/>\n",
              "  </svg>\n",
              "      </button>\n",
              "      \n",
              "  <style>\n",
              "    .colab-df-container {\n",
              "      display:flex;\n",
              "      flex-wrap:wrap;\n",
              "      gap: 12px;\n",
              "    }\n",
              "\n",
              "    .colab-df-convert {\n",
              "      background-color: #E8F0FE;\n",
              "      border: none;\n",
              "      border-radius: 50%;\n",
              "      cursor: pointer;\n",
              "      display: none;\n",
              "      fill: #1967D2;\n",
              "      height: 32px;\n",
              "      padding: 0 0 0 0;\n",
              "      width: 32px;\n",
              "    }\n",
              "\n",
              "    .colab-df-convert:hover {\n",
              "      background-color: #E2EBFA;\n",
              "      box-shadow: 0px 1px 2px rgba(60, 64, 67, 0.3), 0px 1px 3px 1px rgba(60, 64, 67, 0.15);\n",
              "      fill: #174EA6;\n",
              "    }\n",
              "\n",
              "    [theme=dark] .colab-df-convert {\n",
              "      background-color: #3B4455;\n",
              "      fill: #D2E3FC;\n",
              "    }\n",
              "\n",
              "    [theme=dark] .colab-df-convert:hover {\n",
              "      background-color: #434B5C;\n",
              "      box-shadow: 0px 1px 3px 1px rgba(0, 0, 0, 0.15);\n",
              "      filter: drop-shadow(0px 1px 2px rgba(0, 0, 0, 0.3));\n",
              "      fill: #FFFFFF;\n",
              "    }\n",
              "  </style>\n",
              "\n",
              "      <script>\n",
              "        const buttonEl =\n",
              "          document.querySelector('#df-8bcf508e-77a0-4464-b649-4b7017f954a9 button.colab-df-convert');\n",
              "        buttonEl.style.display =\n",
              "          google.colab.kernel.accessAllowed ? 'block' : 'none';\n",
              "\n",
              "        async function convertToInteractive(key) {\n",
              "          const element = document.querySelector('#df-8bcf508e-77a0-4464-b649-4b7017f954a9');\n",
              "          const dataTable =\n",
              "            await google.colab.kernel.invokeFunction('convertToInteractive',\n",
              "                                                     [key], {});\n",
              "          if (!dataTable) return;\n",
              "\n",
              "          const docLinkHtml = 'Like what you see? Visit the ' +\n",
              "            '<a target=\"_blank\" href=https://colab.research.google.com/notebooks/data_table.ipynb>data table notebook</a>'\n",
              "            + ' to learn more about interactive tables.';\n",
              "          element.innerHTML = '';\n",
              "          dataTable['output_type'] = 'display_data';\n",
              "          await google.colab.output.renderOutput(dataTable, element);\n",
              "          const docLink = document.createElement('div');\n",
              "          docLink.innerHTML = docLinkHtml;\n",
              "          element.appendChild(docLink);\n",
              "        }\n",
              "      </script>\n",
              "    </div>\n",
              "  </div>\n",
              "  "
            ]
          },
          "metadata": {},
          "execution_count": 36
        }
      ]
    },
    {
      "cell_type": "code",
      "source": [
        "test_df.is_fake.value_counts()"
      ],
      "metadata": {
        "colab": {
          "base_uri": "https://localhost:8080/"
        },
        "id": "MfZSOIYsetfw",
        "outputId": "7d1b0970-9908-4d46-bd0f-753e90201bc2"
      },
      "execution_count": null,
      "outputs": [
        {
          "output_type": "execute_result",
          "data": {
            "text/plain": [
              "0    509\n",
              "1    491\n",
              "Name: is_fake, dtype: int64"
            ]
          },
          "metadata": {},
          "execution_count": 37
        }
      ]
    },
    {
      "cell_type": "code",
      "source": [
        "test_df[['title','is_fake']].to_csv('predictions.tsv', sep=\"\\t\")"
      ],
      "metadata": {
        "id": "LrWgopRHfh4F"
      },
      "execution_count": null,
      "outputs": []
    }
  ],
  "metadata": {
    "accelerator": "GPU",
    "colab": {
      "collapsed_sections": [],
      "name": "rubert_and_catalyst.ipynb",
      "provenance": []
    },
    "kernelspec": {
      "display_name": "Python 3",
      "name": "python3"
    },
    "language_info": {
      "name": "python"
    },
    "widgets": {
      "application/vnd.jupyter.widget-state+json": {
        "89895a01f460490f8955e804f0aaa961": {
          "model_module": "@jupyter-widgets/controls",
          "model_name": "HBoxModel",
          "model_module_version": "1.5.0",
          "state": {
            "_dom_classes": [],
            "_model_module": "@jupyter-widgets/controls",
            "_model_module_version": "1.5.0",
            "_model_name": "HBoxModel",
            "_view_count": null,
            "_view_module": "@jupyter-widgets/controls",
            "_view_module_version": "1.5.0",
            "_view_name": "HBoxView",
            "box_style": "",
            "children": [
              "IPY_MODEL_216d7fed266d4619be0955c838d00e98",
              "IPY_MODEL_7a38a91c24664fe6beba111f43ccafa4",
              "IPY_MODEL_1448dd19eb98426694e1499aaebf44aa"
            ],
            "layout": "IPY_MODEL_517a1aa6000d4125916d54bc66b75bd4"
          }
        },
        "216d7fed266d4619be0955c838d00e98": {
          "model_module": "@jupyter-widgets/controls",
          "model_name": "HTMLModel",
          "model_module_version": "1.5.0",
          "state": {
            "_dom_classes": [],
            "_model_module": "@jupyter-widgets/controls",
            "_model_module_version": "1.5.0",
            "_model_name": "HTMLModel",
            "_view_count": null,
            "_view_module": "@jupyter-widgets/controls",
            "_view_module_version": "1.5.0",
            "_view_name": "HTMLView",
            "description": "",
            "description_tooltip": null,
            "layout": "IPY_MODEL_9e02f6910a4043eebabd81c0aa260917",
            "placeholder": "​",
            "style": "IPY_MODEL_391ce09ba3b2404b9909ec728319b426",
            "value": "1/5 * Epoch (train): 100%"
          }
        },
        "7a38a91c24664fe6beba111f43ccafa4": {
          "model_module": "@jupyter-widgets/controls",
          "model_name": "FloatProgressModel",
          "model_module_version": "1.5.0",
          "state": {
            "_dom_classes": [],
            "_model_module": "@jupyter-widgets/controls",
            "_model_module_version": "1.5.0",
            "_model_name": "FloatProgressModel",
            "_view_count": null,
            "_view_module": "@jupyter-widgets/controls",
            "_view_module_version": "1.5.0",
            "_view_name": "ProgressView",
            "bar_style": "success",
            "description": "",
            "description_tooltip": null,
            "layout": "IPY_MODEL_1c982c99d34b4031becce3e8339a1c48",
            "max": 162,
            "min": 0,
            "orientation": "horizontal",
            "style": "IPY_MODEL_9cae4a79ceff49a6981592a14aafa859",
            "value": 162
          }
        },
        "1448dd19eb98426694e1499aaebf44aa": {
          "model_module": "@jupyter-widgets/controls",
          "model_name": "HTMLModel",
          "model_module_version": "1.5.0",
          "state": {
            "_dom_classes": [],
            "_model_module": "@jupyter-widgets/controls",
            "_model_module_version": "1.5.0",
            "_model_name": "HTMLModel",
            "_view_count": null,
            "_view_module": "@jupyter-widgets/controls",
            "_view_module_version": "1.5.0",
            "_view_name": "HTMLView",
            "description": "",
            "description_tooltip": null,
            "layout": "IPY_MODEL_89bea2f9c89248ef9386449ce0444a56",
            "placeholder": "​",
            "style": "IPY_MODEL_26fed95447d548d9ad4e1d1ec823b8a4",
            "value": " 162/162 [01:12&lt;00:00,  2.26it/s, accuracy01=0.000e+00, f1/_macro=0.933, f1/_micro=0.933, f1/_weighted=0.933, loss=0.254, lr=3.000e-05, momentum=0.900, precision/_macro=0.941, precision/_micro=0.933, precision/_weighted=0.941, recall/_macro=0.933, recall/_micro=0.933, recall/_weighted=0.933]"
          }
        },
        "517a1aa6000d4125916d54bc66b75bd4": {
          "model_module": "@jupyter-widgets/base",
          "model_name": "LayoutModel",
          "model_module_version": "1.2.0",
          "state": {
            "_model_module": "@jupyter-widgets/base",
            "_model_module_version": "1.2.0",
            "_model_name": "LayoutModel",
            "_view_count": null,
            "_view_module": "@jupyter-widgets/base",
            "_view_module_version": "1.2.0",
            "_view_name": "LayoutView",
            "align_content": null,
            "align_items": null,
            "align_self": null,
            "border": null,
            "bottom": null,
            "display": null,
            "flex": null,
            "flex_flow": null,
            "grid_area": null,
            "grid_auto_columns": null,
            "grid_auto_flow": null,
            "grid_auto_rows": null,
            "grid_column": null,
            "grid_gap": null,
            "grid_row": null,
            "grid_template_areas": null,
            "grid_template_columns": null,
            "grid_template_rows": null,
            "height": null,
            "justify_content": null,
            "justify_items": null,
            "left": null,
            "margin": null,
            "max_height": null,
            "max_width": null,
            "min_height": null,
            "min_width": null,
            "object_fit": null,
            "object_position": null,
            "order": null,
            "overflow": null,
            "overflow_x": null,
            "overflow_y": null,
            "padding": null,
            "right": null,
            "top": null,
            "visibility": null,
            "width": null
          }
        },
        "9e02f6910a4043eebabd81c0aa260917": {
          "model_module": "@jupyter-widgets/base",
          "model_name": "LayoutModel",
          "model_module_version": "1.2.0",
          "state": {
            "_model_module": "@jupyter-widgets/base",
            "_model_module_version": "1.2.0",
            "_model_name": "LayoutModel",
            "_view_count": null,
            "_view_module": "@jupyter-widgets/base",
            "_view_module_version": "1.2.0",
            "_view_name": "LayoutView",
            "align_content": null,
            "align_items": null,
            "align_self": null,
            "border": null,
            "bottom": null,
            "display": null,
            "flex": null,
            "flex_flow": null,
            "grid_area": null,
            "grid_auto_columns": null,
            "grid_auto_flow": null,
            "grid_auto_rows": null,
            "grid_column": null,
            "grid_gap": null,
            "grid_row": null,
            "grid_template_areas": null,
            "grid_template_columns": null,
            "grid_template_rows": null,
            "height": null,
            "justify_content": null,
            "justify_items": null,
            "left": null,
            "margin": null,
            "max_height": null,
            "max_width": null,
            "min_height": null,
            "min_width": null,
            "object_fit": null,
            "object_position": null,
            "order": null,
            "overflow": null,
            "overflow_x": null,
            "overflow_y": null,
            "padding": null,
            "right": null,
            "top": null,
            "visibility": null,
            "width": null
          }
        },
        "391ce09ba3b2404b9909ec728319b426": {
          "model_module": "@jupyter-widgets/controls",
          "model_name": "DescriptionStyleModel",
          "model_module_version": "1.5.0",
          "state": {
            "_model_module": "@jupyter-widgets/controls",
            "_model_module_version": "1.5.0",
            "_model_name": "DescriptionStyleModel",
            "_view_count": null,
            "_view_module": "@jupyter-widgets/base",
            "_view_module_version": "1.2.0",
            "_view_name": "StyleView",
            "description_width": ""
          }
        },
        "1c982c99d34b4031becce3e8339a1c48": {
          "model_module": "@jupyter-widgets/base",
          "model_name": "LayoutModel",
          "model_module_version": "1.2.0",
          "state": {
            "_model_module": "@jupyter-widgets/base",
            "_model_module_version": "1.2.0",
            "_model_name": "LayoutModel",
            "_view_count": null,
            "_view_module": "@jupyter-widgets/base",
            "_view_module_version": "1.2.0",
            "_view_name": "LayoutView",
            "align_content": null,
            "align_items": null,
            "align_self": null,
            "border": null,
            "bottom": null,
            "display": null,
            "flex": null,
            "flex_flow": null,
            "grid_area": null,
            "grid_auto_columns": null,
            "grid_auto_flow": null,
            "grid_auto_rows": null,
            "grid_column": null,
            "grid_gap": null,
            "grid_row": null,
            "grid_template_areas": null,
            "grid_template_columns": null,
            "grid_template_rows": null,
            "height": null,
            "justify_content": null,
            "justify_items": null,
            "left": null,
            "margin": null,
            "max_height": null,
            "max_width": null,
            "min_height": null,
            "min_width": null,
            "object_fit": null,
            "object_position": null,
            "order": null,
            "overflow": null,
            "overflow_x": null,
            "overflow_y": null,
            "padding": null,
            "right": null,
            "top": null,
            "visibility": null,
            "width": null
          }
        },
        "9cae4a79ceff49a6981592a14aafa859": {
          "model_module": "@jupyter-widgets/controls",
          "model_name": "ProgressStyleModel",
          "model_module_version": "1.5.0",
          "state": {
            "_model_module": "@jupyter-widgets/controls",
            "_model_module_version": "1.5.0",
            "_model_name": "ProgressStyleModel",
            "_view_count": null,
            "_view_module": "@jupyter-widgets/base",
            "_view_module_version": "1.2.0",
            "_view_name": "StyleView",
            "bar_color": null,
            "description_width": ""
          }
        },
        "89bea2f9c89248ef9386449ce0444a56": {
          "model_module": "@jupyter-widgets/base",
          "model_name": "LayoutModel",
          "model_module_version": "1.2.0",
          "state": {
            "_model_module": "@jupyter-widgets/base",
            "_model_module_version": "1.2.0",
            "_model_name": "LayoutModel",
            "_view_count": null,
            "_view_module": "@jupyter-widgets/base",
            "_view_module_version": "1.2.0",
            "_view_name": "LayoutView",
            "align_content": null,
            "align_items": null,
            "align_self": null,
            "border": null,
            "bottom": null,
            "display": null,
            "flex": null,
            "flex_flow": null,
            "grid_area": null,
            "grid_auto_columns": null,
            "grid_auto_flow": null,
            "grid_auto_rows": null,
            "grid_column": null,
            "grid_gap": null,
            "grid_row": null,
            "grid_template_areas": null,
            "grid_template_columns": null,
            "grid_template_rows": null,
            "height": null,
            "justify_content": null,
            "justify_items": null,
            "left": null,
            "margin": null,
            "max_height": null,
            "max_width": null,
            "min_height": null,
            "min_width": null,
            "object_fit": null,
            "object_position": null,
            "order": null,
            "overflow": null,
            "overflow_x": null,
            "overflow_y": null,
            "padding": null,
            "right": null,
            "top": null,
            "visibility": null,
            "width": null
          }
        },
        "26fed95447d548d9ad4e1d1ec823b8a4": {
          "model_module": "@jupyter-widgets/controls",
          "model_name": "DescriptionStyleModel",
          "model_module_version": "1.5.0",
          "state": {
            "_model_module": "@jupyter-widgets/controls",
            "_model_module_version": "1.5.0",
            "_model_name": "DescriptionStyleModel",
            "_view_count": null,
            "_view_module": "@jupyter-widgets/base",
            "_view_module_version": "1.2.0",
            "_view_name": "StyleView",
            "description_width": ""
          }
        },
        "ad5f0c80eae842caac954877d72d11d3": {
          "model_module": "@jupyter-widgets/controls",
          "model_name": "HBoxModel",
          "model_module_version": "1.5.0",
          "state": {
            "_dom_classes": [],
            "_model_module": "@jupyter-widgets/controls",
            "_model_module_version": "1.5.0",
            "_model_name": "HBoxModel",
            "_view_count": null,
            "_view_module": "@jupyter-widgets/controls",
            "_view_module_version": "1.5.0",
            "_view_name": "HBoxView",
            "box_style": "",
            "children": [
              "IPY_MODEL_3e98902f806b48f490bba76194f6c8c3",
              "IPY_MODEL_329bd497e2704727a8c5cff3ae8dc901",
              "IPY_MODEL_e32372d0c1f74ae1adb49730cb191157"
            ],
            "layout": "IPY_MODEL_43325aa3d7e242de8eaad783abdbc0a3"
          }
        },
        "3e98902f806b48f490bba76194f6c8c3": {
          "model_module": "@jupyter-widgets/controls",
          "model_name": "HTMLModel",
          "model_module_version": "1.5.0",
          "state": {
            "_dom_classes": [],
            "_model_module": "@jupyter-widgets/controls",
            "_model_module_version": "1.5.0",
            "_model_name": "HTMLModel",
            "_view_count": null,
            "_view_module": "@jupyter-widgets/controls",
            "_view_module_version": "1.5.0",
            "_view_name": "HTMLView",
            "description": "",
            "description_tooltip": null,
            "layout": "IPY_MODEL_1e51d8ddc81e4ba5b93e78c39be5b349",
            "placeholder": "​",
            "style": "IPY_MODEL_c34a4488fd0a4491a0caf023e07d2341",
            "value": "1/5 * Epoch (valid): 100%"
          }
        },
        "329bd497e2704727a8c5cff3ae8dc901": {
          "model_module": "@jupyter-widgets/controls",
          "model_name": "FloatProgressModel",
          "model_module_version": "1.5.0",
          "state": {
            "_dom_classes": [],
            "_model_module": "@jupyter-widgets/controls",
            "_model_module_version": "1.5.0",
            "_model_name": "FloatProgressModel",
            "_view_count": null,
            "_view_module": "@jupyter-widgets/controls",
            "_view_module_version": "1.5.0",
            "_view_name": "ProgressView",
            "bar_style": "success",
            "description": "",
            "description_tooltip": null,
            "layout": "IPY_MODEL_d032fcce09e44ec6bbe54f2e7177fefd",
            "max": 18,
            "min": 0,
            "orientation": "horizontal",
            "style": "IPY_MODEL_b1af3a4472ad400a9b8e51573381d341",
            "value": 18
          }
        },
        "e32372d0c1f74ae1adb49730cb191157": {
          "model_module": "@jupyter-widgets/controls",
          "model_name": "HTMLModel",
          "model_module_version": "1.5.0",
          "state": {
            "_dom_classes": [],
            "_model_module": "@jupyter-widgets/controls",
            "_model_module_version": "1.5.0",
            "_model_name": "HTMLModel",
            "_view_count": null,
            "_view_module": "@jupyter-widgets/controls",
            "_view_module_version": "1.5.0",
            "_view_name": "HTMLView",
            "description": "",
            "description_tooltip": null,
            "layout": "IPY_MODEL_96cb5dd477cd4bc3aa52cf1f8cc0c8e2",
            "placeholder": "​",
            "style": "IPY_MODEL_996999271e3e41eda667c96d4d608207",
            "value": " 18/18 [00:02&lt;00:00,  7.83it/s, accuracy01=0.125, f1/_macro=0.904, f1/_micro=0.906, f1/_weighted=0.908, loss=0.239, lr=3.000e-05, momentum=0.900, precision/_macro=0.900, precision/_micro=0.906, precision/_weighted=0.925, recall/_macro=0.925, recall/_micro=0.906, recall/_weighted=0.906]"
          }
        },
        "43325aa3d7e242de8eaad783abdbc0a3": {
          "model_module": "@jupyter-widgets/base",
          "model_name": "LayoutModel",
          "model_module_version": "1.2.0",
          "state": {
            "_model_module": "@jupyter-widgets/base",
            "_model_module_version": "1.2.0",
            "_model_name": "LayoutModel",
            "_view_count": null,
            "_view_module": "@jupyter-widgets/base",
            "_view_module_version": "1.2.0",
            "_view_name": "LayoutView",
            "align_content": null,
            "align_items": null,
            "align_self": null,
            "border": null,
            "bottom": null,
            "display": null,
            "flex": null,
            "flex_flow": null,
            "grid_area": null,
            "grid_auto_columns": null,
            "grid_auto_flow": null,
            "grid_auto_rows": null,
            "grid_column": null,
            "grid_gap": null,
            "grid_row": null,
            "grid_template_areas": null,
            "grid_template_columns": null,
            "grid_template_rows": null,
            "height": null,
            "justify_content": null,
            "justify_items": null,
            "left": null,
            "margin": null,
            "max_height": null,
            "max_width": null,
            "min_height": null,
            "min_width": null,
            "object_fit": null,
            "object_position": null,
            "order": null,
            "overflow": null,
            "overflow_x": null,
            "overflow_y": null,
            "padding": null,
            "right": null,
            "top": null,
            "visibility": null,
            "width": null
          }
        },
        "1e51d8ddc81e4ba5b93e78c39be5b349": {
          "model_module": "@jupyter-widgets/base",
          "model_name": "LayoutModel",
          "model_module_version": "1.2.0",
          "state": {
            "_model_module": "@jupyter-widgets/base",
            "_model_module_version": "1.2.0",
            "_model_name": "LayoutModel",
            "_view_count": null,
            "_view_module": "@jupyter-widgets/base",
            "_view_module_version": "1.2.0",
            "_view_name": "LayoutView",
            "align_content": null,
            "align_items": null,
            "align_self": null,
            "border": null,
            "bottom": null,
            "display": null,
            "flex": null,
            "flex_flow": null,
            "grid_area": null,
            "grid_auto_columns": null,
            "grid_auto_flow": null,
            "grid_auto_rows": null,
            "grid_column": null,
            "grid_gap": null,
            "grid_row": null,
            "grid_template_areas": null,
            "grid_template_columns": null,
            "grid_template_rows": null,
            "height": null,
            "justify_content": null,
            "justify_items": null,
            "left": null,
            "margin": null,
            "max_height": null,
            "max_width": null,
            "min_height": null,
            "min_width": null,
            "object_fit": null,
            "object_position": null,
            "order": null,
            "overflow": null,
            "overflow_x": null,
            "overflow_y": null,
            "padding": null,
            "right": null,
            "top": null,
            "visibility": null,
            "width": null
          }
        },
        "c34a4488fd0a4491a0caf023e07d2341": {
          "model_module": "@jupyter-widgets/controls",
          "model_name": "DescriptionStyleModel",
          "model_module_version": "1.5.0",
          "state": {
            "_model_module": "@jupyter-widgets/controls",
            "_model_module_version": "1.5.0",
            "_model_name": "DescriptionStyleModel",
            "_view_count": null,
            "_view_module": "@jupyter-widgets/base",
            "_view_module_version": "1.2.0",
            "_view_name": "StyleView",
            "description_width": ""
          }
        },
        "d032fcce09e44ec6bbe54f2e7177fefd": {
          "model_module": "@jupyter-widgets/base",
          "model_name": "LayoutModel",
          "model_module_version": "1.2.0",
          "state": {
            "_model_module": "@jupyter-widgets/base",
            "_model_module_version": "1.2.0",
            "_model_name": "LayoutModel",
            "_view_count": null,
            "_view_module": "@jupyter-widgets/base",
            "_view_module_version": "1.2.0",
            "_view_name": "LayoutView",
            "align_content": null,
            "align_items": null,
            "align_self": null,
            "border": null,
            "bottom": null,
            "display": null,
            "flex": null,
            "flex_flow": null,
            "grid_area": null,
            "grid_auto_columns": null,
            "grid_auto_flow": null,
            "grid_auto_rows": null,
            "grid_column": null,
            "grid_gap": null,
            "grid_row": null,
            "grid_template_areas": null,
            "grid_template_columns": null,
            "grid_template_rows": null,
            "height": null,
            "justify_content": null,
            "justify_items": null,
            "left": null,
            "margin": null,
            "max_height": null,
            "max_width": null,
            "min_height": null,
            "min_width": null,
            "object_fit": null,
            "object_position": null,
            "order": null,
            "overflow": null,
            "overflow_x": null,
            "overflow_y": null,
            "padding": null,
            "right": null,
            "top": null,
            "visibility": null,
            "width": null
          }
        },
        "b1af3a4472ad400a9b8e51573381d341": {
          "model_module": "@jupyter-widgets/controls",
          "model_name": "ProgressStyleModel",
          "model_module_version": "1.5.0",
          "state": {
            "_model_module": "@jupyter-widgets/controls",
            "_model_module_version": "1.5.0",
            "_model_name": "ProgressStyleModel",
            "_view_count": null,
            "_view_module": "@jupyter-widgets/base",
            "_view_module_version": "1.2.0",
            "_view_name": "StyleView",
            "bar_color": null,
            "description_width": ""
          }
        },
        "96cb5dd477cd4bc3aa52cf1f8cc0c8e2": {
          "model_module": "@jupyter-widgets/base",
          "model_name": "LayoutModel",
          "model_module_version": "1.2.0",
          "state": {
            "_model_module": "@jupyter-widgets/base",
            "_model_module_version": "1.2.0",
            "_model_name": "LayoutModel",
            "_view_count": null,
            "_view_module": "@jupyter-widgets/base",
            "_view_module_version": "1.2.0",
            "_view_name": "LayoutView",
            "align_content": null,
            "align_items": null,
            "align_self": null,
            "border": null,
            "bottom": null,
            "display": null,
            "flex": null,
            "flex_flow": null,
            "grid_area": null,
            "grid_auto_columns": null,
            "grid_auto_flow": null,
            "grid_auto_rows": null,
            "grid_column": null,
            "grid_gap": null,
            "grid_row": null,
            "grid_template_areas": null,
            "grid_template_columns": null,
            "grid_template_rows": null,
            "height": null,
            "justify_content": null,
            "justify_items": null,
            "left": null,
            "margin": null,
            "max_height": null,
            "max_width": null,
            "min_height": null,
            "min_width": null,
            "object_fit": null,
            "object_position": null,
            "order": null,
            "overflow": null,
            "overflow_x": null,
            "overflow_y": null,
            "padding": null,
            "right": null,
            "top": null,
            "visibility": null,
            "width": null
          }
        },
        "996999271e3e41eda667c96d4d608207": {
          "model_module": "@jupyter-widgets/controls",
          "model_name": "DescriptionStyleModel",
          "model_module_version": "1.5.0",
          "state": {
            "_model_module": "@jupyter-widgets/controls",
            "_model_module_version": "1.5.0",
            "_model_name": "DescriptionStyleModel",
            "_view_count": null,
            "_view_module": "@jupyter-widgets/base",
            "_view_module_version": "1.2.0",
            "_view_name": "StyleView",
            "description_width": ""
          }
        },
        "119135db3c9847a7aae3555550d31de0": {
          "model_module": "@jupyter-widgets/controls",
          "model_name": "HBoxModel",
          "model_module_version": "1.5.0",
          "state": {
            "_dom_classes": [],
            "_model_module": "@jupyter-widgets/controls",
            "_model_module_version": "1.5.0",
            "_model_name": "HBoxModel",
            "_view_count": null,
            "_view_module": "@jupyter-widgets/controls",
            "_view_module_version": "1.5.0",
            "_view_name": "HBoxView",
            "box_style": "",
            "children": [
              "IPY_MODEL_5b82177634ec477aaff9034438a12293",
              "IPY_MODEL_47e38efd9b0b446882309e76fec122af",
              "IPY_MODEL_8dbe2d3921c5435ba700e813087ff6c6"
            ],
            "layout": "IPY_MODEL_842d9f260fdc4a78ba9d389f6d2e0783"
          }
        },
        "5b82177634ec477aaff9034438a12293": {
          "model_module": "@jupyter-widgets/controls",
          "model_name": "HTMLModel",
          "model_module_version": "1.5.0",
          "state": {
            "_dom_classes": [],
            "_model_module": "@jupyter-widgets/controls",
            "_model_module_version": "1.5.0",
            "_model_name": "HTMLModel",
            "_view_count": null,
            "_view_module": "@jupyter-widgets/controls",
            "_view_module_version": "1.5.0",
            "_view_name": "HTMLView",
            "description": "",
            "description_tooltip": null,
            "layout": "IPY_MODEL_49023f3a1c064f219c610709fb00c3ad",
            "placeholder": "​",
            "style": "IPY_MODEL_e661130079ae42528764ffb555148988",
            "value": "2/5 * Epoch (train): 100%"
          }
        },
        "47e38efd9b0b446882309e76fec122af": {
          "model_module": "@jupyter-widgets/controls",
          "model_name": "FloatProgressModel",
          "model_module_version": "1.5.0",
          "state": {
            "_dom_classes": [],
            "_model_module": "@jupyter-widgets/controls",
            "_model_module_version": "1.5.0",
            "_model_name": "FloatProgressModel",
            "_view_count": null,
            "_view_module": "@jupyter-widgets/controls",
            "_view_module_version": "1.5.0",
            "_view_name": "ProgressView",
            "bar_style": "success",
            "description": "",
            "description_tooltip": null,
            "layout": "IPY_MODEL_5060b59891b54b90ba56b136d1898374",
            "max": 162,
            "min": 0,
            "orientation": "horizontal",
            "style": "IPY_MODEL_ae9c906f576a4c57a46026981c74e72d",
            "value": 162
          }
        },
        "8dbe2d3921c5435ba700e813087ff6c6": {
          "model_module": "@jupyter-widgets/controls",
          "model_name": "HTMLModel",
          "model_module_version": "1.5.0",
          "state": {
            "_dom_classes": [],
            "_model_module": "@jupyter-widgets/controls",
            "_model_module_version": "1.5.0",
            "_model_name": "HTMLModel",
            "_view_count": null,
            "_view_module": "@jupyter-widgets/controls",
            "_view_module_version": "1.5.0",
            "_view_name": "HTMLView",
            "description": "",
            "description_tooltip": null,
            "layout": "IPY_MODEL_f81563788a464d229be876883c36dd17",
            "placeholder": "​",
            "style": "IPY_MODEL_aebd55d4b32f4d26873bc07e37071617",
            "value": " 162/162 [01:12&lt;00:00,  2.25it/s, accuracy01=0.000e+00, f1/_macro=1.000, f1/_micro=1.000, f1/_weighted=1.000, loss=0.025, lr=3.000e-05, momentum=0.900, precision/_macro=1.000, precision/_micro=1.000, precision/_weighted=1.000, recall/_macro=1.000, recall/_micro=1.000, recall/_weighted=1.000]"
          }
        },
        "842d9f260fdc4a78ba9d389f6d2e0783": {
          "model_module": "@jupyter-widgets/base",
          "model_name": "LayoutModel",
          "model_module_version": "1.2.0",
          "state": {
            "_model_module": "@jupyter-widgets/base",
            "_model_module_version": "1.2.0",
            "_model_name": "LayoutModel",
            "_view_count": null,
            "_view_module": "@jupyter-widgets/base",
            "_view_module_version": "1.2.0",
            "_view_name": "LayoutView",
            "align_content": null,
            "align_items": null,
            "align_self": null,
            "border": null,
            "bottom": null,
            "display": null,
            "flex": null,
            "flex_flow": null,
            "grid_area": null,
            "grid_auto_columns": null,
            "grid_auto_flow": null,
            "grid_auto_rows": null,
            "grid_column": null,
            "grid_gap": null,
            "grid_row": null,
            "grid_template_areas": null,
            "grid_template_columns": null,
            "grid_template_rows": null,
            "height": null,
            "justify_content": null,
            "justify_items": null,
            "left": null,
            "margin": null,
            "max_height": null,
            "max_width": null,
            "min_height": null,
            "min_width": null,
            "object_fit": null,
            "object_position": null,
            "order": null,
            "overflow": null,
            "overflow_x": null,
            "overflow_y": null,
            "padding": null,
            "right": null,
            "top": null,
            "visibility": null,
            "width": null
          }
        },
        "49023f3a1c064f219c610709fb00c3ad": {
          "model_module": "@jupyter-widgets/base",
          "model_name": "LayoutModel",
          "model_module_version": "1.2.0",
          "state": {
            "_model_module": "@jupyter-widgets/base",
            "_model_module_version": "1.2.0",
            "_model_name": "LayoutModel",
            "_view_count": null,
            "_view_module": "@jupyter-widgets/base",
            "_view_module_version": "1.2.0",
            "_view_name": "LayoutView",
            "align_content": null,
            "align_items": null,
            "align_self": null,
            "border": null,
            "bottom": null,
            "display": null,
            "flex": null,
            "flex_flow": null,
            "grid_area": null,
            "grid_auto_columns": null,
            "grid_auto_flow": null,
            "grid_auto_rows": null,
            "grid_column": null,
            "grid_gap": null,
            "grid_row": null,
            "grid_template_areas": null,
            "grid_template_columns": null,
            "grid_template_rows": null,
            "height": null,
            "justify_content": null,
            "justify_items": null,
            "left": null,
            "margin": null,
            "max_height": null,
            "max_width": null,
            "min_height": null,
            "min_width": null,
            "object_fit": null,
            "object_position": null,
            "order": null,
            "overflow": null,
            "overflow_x": null,
            "overflow_y": null,
            "padding": null,
            "right": null,
            "top": null,
            "visibility": null,
            "width": null
          }
        },
        "e661130079ae42528764ffb555148988": {
          "model_module": "@jupyter-widgets/controls",
          "model_name": "DescriptionStyleModel",
          "model_module_version": "1.5.0",
          "state": {
            "_model_module": "@jupyter-widgets/controls",
            "_model_module_version": "1.5.0",
            "_model_name": "DescriptionStyleModel",
            "_view_count": null,
            "_view_module": "@jupyter-widgets/base",
            "_view_module_version": "1.2.0",
            "_view_name": "StyleView",
            "description_width": ""
          }
        },
        "5060b59891b54b90ba56b136d1898374": {
          "model_module": "@jupyter-widgets/base",
          "model_name": "LayoutModel",
          "model_module_version": "1.2.0",
          "state": {
            "_model_module": "@jupyter-widgets/base",
            "_model_module_version": "1.2.0",
            "_model_name": "LayoutModel",
            "_view_count": null,
            "_view_module": "@jupyter-widgets/base",
            "_view_module_version": "1.2.0",
            "_view_name": "LayoutView",
            "align_content": null,
            "align_items": null,
            "align_self": null,
            "border": null,
            "bottom": null,
            "display": null,
            "flex": null,
            "flex_flow": null,
            "grid_area": null,
            "grid_auto_columns": null,
            "grid_auto_flow": null,
            "grid_auto_rows": null,
            "grid_column": null,
            "grid_gap": null,
            "grid_row": null,
            "grid_template_areas": null,
            "grid_template_columns": null,
            "grid_template_rows": null,
            "height": null,
            "justify_content": null,
            "justify_items": null,
            "left": null,
            "margin": null,
            "max_height": null,
            "max_width": null,
            "min_height": null,
            "min_width": null,
            "object_fit": null,
            "object_position": null,
            "order": null,
            "overflow": null,
            "overflow_x": null,
            "overflow_y": null,
            "padding": null,
            "right": null,
            "top": null,
            "visibility": null,
            "width": null
          }
        },
        "ae9c906f576a4c57a46026981c74e72d": {
          "model_module": "@jupyter-widgets/controls",
          "model_name": "ProgressStyleModel",
          "model_module_version": "1.5.0",
          "state": {
            "_model_module": "@jupyter-widgets/controls",
            "_model_module_version": "1.5.0",
            "_model_name": "ProgressStyleModel",
            "_view_count": null,
            "_view_module": "@jupyter-widgets/base",
            "_view_module_version": "1.2.0",
            "_view_name": "StyleView",
            "bar_color": null,
            "description_width": ""
          }
        },
        "f81563788a464d229be876883c36dd17": {
          "model_module": "@jupyter-widgets/base",
          "model_name": "LayoutModel",
          "model_module_version": "1.2.0",
          "state": {
            "_model_module": "@jupyter-widgets/base",
            "_model_module_version": "1.2.0",
            "_model_name": "LayoutModel",
            "_view_count": null,
            "_view_module": "@jupyter-widgets/base",
            "_view_module_version": "1.2.0",
            "_view_name": "LayoutView",
            "align_content": null,
            "align_items": null,
            "align_self": null,
            "border": null,
            "bottom": null,
            "display": null,
            "flex": null,
            "flex_flow": null,
            "grid_area": null,
            "grid_auto_columns": null,
            "grid_auto_flow": null,
            "grid_auto_rows": null,
            "grid_column": null,
            "grid_gap": null,
            "grid_row": null,
            "grid_template_areas": null,
            "grid_template_columns": null,
            "grid_template_rows": null,
            "height": null,
            "justify_content": null,
            "justify_items": null,
            "left": null,
            "margin": null,
            "max_height": null,
            "max_width": null,
            "min_height": null,
            "min_width": null,
            "object_fit": null,
            "object_position": null,
            "order": null,
            "overflow": null,
            "overflow_x": null,
            "overflow_y": null,
            "padding": null,
            "right": null,
            "top": null,
            "visibility": null,
            "width": null
          }
        },
        "aebd55d4b32f4d26873bc07e37071617": {
          "model_module": "@jupyter-widgets/controls",
          "model_name": "DescriptionStyleModel",
          "model_module_version": "1.5.0",
          "state": {
            "_model_module": "@jupyter-widgets/controls",
            "_model_module_version": "1.5.0",
            "_model_name": "DescriptionStyleModel",
            "_view_count": null,
            "_view_module": "@jupyter-widgets/base",
            "_view_module_version": "1.2.0",
            "_view_name": "StyleView",
            "description_width": ""
          }
        },
        "4d64cb5ff2e14a2fbb758739e6300e05": {
          "model_module": "@jupyter-widgets/controls",
          "model_name": "HBoxModel",
          "model_module_version": "1.5.0",
          "state": {
            "_dom_classes": [],
            "_model_module": "@jupyter-widgets/controls",
            "_model_module_version": "1.5.0",
            "_model_name": "HBoxModel",
            "_view_count": null,
            "_view_module": "@jupyter-widgets/controls",
            "_view_module_version": "1.5.0",
            "_view_name": "HBoxView",
            "box_style": "",
            "children": [
              "IPY_MODEL_aecf5b6e3cf7477a8b34641f468313df",
              "IPY_MODEL_1f4245221f854b3fb7511cb455130ee6",
              "IPY_MODEL_c869195ffc8e496b977d36182cbe9326"
            ],
            "layout": "IPY_MODEL_06d7d2f10f0b49c6ad70215b7de00755"
          }
        },
        "aecf5b6e3cf7477a8b34641f468313df": {
          "model_module": "@jupyter-widgets/controls",
          "model_name": "HTMLModel",
          "model_module_version": "1.5.0",
          "state": {
            "_dom_classes": [],
            "_model_module": "@jupyter-widgets/controls",
            "_model_module_version": "1.5.0",
            "_model_name": "HTMLModel",
            "_view_count": null,
            "_view_module": "@jupyter-widgets/controls",
            "_view_module_version": "1.5.0",
            "_view_name": "HTMLView",
            "description": "",
            "description_tooltip": null,
            "layout": "IPY_MODEL_410fd8a0fb1544a5b3f10b033471ca71",
            "placeholder": "​",
            "style": "IPY_MODEL_98d8b4441b35418fb4ea198b4fad8eae",
            "value": "2/5 * Epoch (valid): 100%"
          }
        },
        "1f4245221f854b3fb7511cb455130ee6": {
          "model_module": "@jupyter-widgets/controls",
          "model_name": "FloatProgressModel",
          "model_module_version": "1.5.0",
          "state": {
            "_dom_classes": [],
            "_model_module": "@jupyter-widgets/controls",
            "_model_module_version": "1.5.0",
            "_model_name": "FloatProgressModel",
            "_view_count": null,
            "_view_module": "@jupyter-widgets/controls",
            "_view_module_version": "1.5.0",
            "_view_name": "ProgressView",
            "bar_style": "success",
            "description": "",
            "description_tooltip": null,
            "layout": "IPY_MODEL_a27b6b4b364e4fb29ab9651c2b454448",
            "max": 18,
            "min": 0,
            "orientation": "horizontal",
            "style": "IPY_MODEL_3bf65b5faa36443ba14c2445e2b92c2a",
            "value": 18
          }
        },
        "c869195ffc8e496b977d36182cbe9326": {
          "model_module": "@jupyter-widgets/controls",
          "model_name": "HTMLModel",
          "model_module_version": "1.5.0",
          "state": {
            "_dom_classes": [],
            "_model_module": "@jupyter-widgets/controls",
            "_model_module_version": "1.5.0",
            "_model_name": "HTMLModel",
            "_view_count": null,
            "_view_module": "@jupyter-widgets/controls",
            "_view_module_version": "1.5.0",
            "_view_name": "HTMLView",
            "description": "",
            "description_tooltip": null,
            "layout": "IPY_MODEL_590bd2245a22461b90f978eacf7519ae",
            "placeholder": "​",
            "style": "IPY_MODEL_d975a1426d7644ca80d2e956fabe6644",
            "value": " 18/18 [00:02&lt;00:00,  7.70it/s, accuracy01=0.094, f1/_macro=0.935, f1/_micro=0.937, f1/_weighted=0.938, loss=0.119, lr=3.000e-05, momentum=0.900, precision/_macro=0.929, precision/_micro=0.938, precision/_weighted=0.946, recall/_macro=0.950, recall/_micro=0.938, recall/_weighted=0.937]"
          }
        },
        "06d7d2f10f0b49c6ad70215b7de00755": {
          "model_module": "@jupyter-widgets/base",
          "model_name": "LayoutModel",
          "model_module_version": "1.2.0",
          "state": {
            "_model_module": "@jupyter-widgets/base",
            "_model_module_version": "1.2.0",
            "_model_name": "LayoutModel",
            "_view_count": null,
            "_view_module": "@jupyter-widgets/base",
            "_view_module_version": "1.2.0",
            "_view_name": "LayoutView",
            "align_content": null,
            "align_items": null,
            "align_self": null,
            "border": null,
            "bottom": null,
            "display": null,
            "flex": null,
            "flex_flow": null,
            "grid_area": null,
            "grid_auto_columns": null,
            "grid_auto_flow": null,
            "grid_auto_rows": null,
            "grid_column": null,
            "grid_gap": null,
            "grid_row": null,
            "grid_template_areas": null,
            "grid_template_columns": null,
            "grid_template_rows": null,
            "height": null,
            "justify_content": null,
            "justify_items": null,
            "left": null,
            "margin": null,
            "max_height": null,
            "max_width": null,
            "min_height": null,
            "min_width": null,
            "object_fit": null,
            "object_position": null,
            "order": null,
            "overflow": null,
            "overflow_x": null,
            "overflow_y": null,
            "padding": null,
            "right": null,
            "top": null,
            "visibility": null,
            "width": null
          }
        },
        "410fd8a0fb1544a5b3f10b033471ca71": {
          "model_module": "@jupyter-widgets/base",
          "model_name": "LayoutModel",
          "model_module_version": "1.2.0",
          "state": {
            "_model_module": "@jupyter-widgets/base",
            "_model_module_version": "1.2.0",
            "_model_name": "LayoutModel",
            "_view_count": null,
            "_view_module": "@jupyter-widgets/base",
            "_view_module_version": "1.2.0",
            "_view_name": "LayoutView",
            "align_content": null,
            "align_items": null,
            "align_self": null,
            "border": null,
            "bottom": null,
            "display": null,
            "flex": null,
            "flex_flow": null,
            "grid_area": null,
            "grid_auto_columns": null,
            "grid_auto_flow": null,
            "grid_auto_rows": null,
            "grid_column": null,
            "grid_gap": null,
            "grid_row": null,
            "grid_template_areas": null,
            "grid_template_columns": null,
            "grid_template_rows": null,
            "height": null,
            "justify_content": null,
            "justify_items": null,
            "left": null,
            "margin": null,
            "max_height": null,
            "max_width": null,
            "min_height": null,
            "min_width": null,
            "object_fit": null,
            "object_position": null,
            "order": null,
            "overflow": null,
            "overflow_x": null,
            "overflow_y": null,
            "padding": null,
            "right": null,
            "top": null,
            "visibility": null,
            "width": null
          }
        },
        "98d8b4441b35418fb4ea198b4fad8eae": {
          "model_module": "@jupyter-widgets/controls",
          "model_name": "DescriptionStyleModel",
          "model_module_version": "1.5.0",
          "state": {
            "_model_module": "@jupyter-widgets/controls",
            "_model_module_version": "1.5.0",
            "_model_name": "DescriptionStyleModel",
            "_view_count": null,
            "_view_module": "@jupyter-widgets/base",
            "_view_module_version": "1.2.0",
            "_view_name": "StyleView",
            "description_width": ""
          }
        },
        "a27b6b4b364e4fb29ab9651c2b454448": {
          "model_module": "@jupyter-widgets/base",
          "model_name": "LayoutModel",
          "model_module_version": "1.2.0",
          "state": {
            "_model_module": "@jupyter-widgets/base",
            "_model_module_version": "1.2.0",
            "_model_name": "LayoutModel",
            "_view_count": null,
            "_view_module": "@jupyter-widgets/base",
            "_view_module_version": "1.2.0",
            "_view_name": "LayoutView",
            "align_content": null,
            "align_items": null,
            "align_self": null,
            "border": null,
            "bottom": null,
            "display": null,
            "flex": null,
            "flex_flow": null,
            "grid_area": null,
            "grid_auto_columns": null,
            "grid_auto_flow": null,
            "grid_auto_rows": null,
            "grid_column": null,
            "grid_gap": null,
            "grid_row": null,
            "grid_template_areas": null,
            "grid_template_columns": null,
            "grid_template_rows": null,
            "height": null,
            "justify_content": null,
            "justify_items": null,
            "left": null,
            "margin": null,
            "max_height": null,
            "max_width": null,
            "min_height": null,
            "min_width": null,
            "object_fit": null,
            "object_position": null,
            "order": null,
            "overflow": null,
            "overflow_x": null,
            "overflow_y": null,
            "padding": null,
            "right": null,
            "top": null,
            "visibility": null,
            "width": null
          }
        },
        "3bf65b5faa36443ba14c2445e2b92c2a": {
          "model_module": "@jupyter-widgets/controls",
          "model_name": "ProgressStyleModel",
          "model_module_version": "1.5.0",
          "state": {
            "_model_module": "@jupyter-widgets/controls",
            "_model_module_version": "1.5.0",
            "_model_name": "ProgressStyleModel",
            "_view_count": null,
            "_view_module": "@jupyter-widgets/base",
            "_view_module_version": "1.2.0",
            "_view_name": "StyleView",
            "bar_color": null,
            "description_width": ""
          }
        },
        "590bd2245a22461b90f978eacf7519ae": {
          "model_module": "@jupyter-widgets/base",
          "model_name": "LayoutModel",
          "model_module_version": "1.2.0",
          "state": {
            "_model_module": "@jupyter-widgets/base",
            "_model_module_version": "1.2.0",
            "_model_name": "LayoutModel",
            "_view_count": null,
            "_view_module": "@jupyter-widgets/base",
            "_view_module_version": "1.2.0",
            "_view_name": "LayoutView",
            "align_content": null,
            "align_items": null,
            "align_self": null,
            "border": null,
            "bottom": null,
            "display": null,
            "flex": null,
            "flex_flow": null,
            "grid_area": null,
            "grid_auto_columns": null,
            "grid_auto_flow": null,
            "grid_auto_rows": null,
            "grid_column": null,
            "grid_gap": null,
            "grid_row": null,
            "grid_template_areas": null,
            "grid_template_columns": null,
            "grid_template_rows": null,
            "height": null,
            "justify_content": null,
            "justify_items": null,
            "left": null,
            "margin": null,
            "max_height": null,
            "max_width": null,
            "min_height": null,
            "min_width": null,
            "object_fit": null,
            "object_position": null,
            "order": null,
            "overflow": null,
            "overflow_x": null,
            "overflow_y": null,
            "padding": null,
            "right": null,
            "top": null,
            "visibility": null,
            "width": null
          }
        },
        "d975a1426d7644ca80d2e956fabe6644": {
          "model_module": "@jupyter-widgets/controls",
          "model_name": "DescriptionStyleModel",
          "model_module_version": "1.5.0",
          "state": {
            "_model_module": "@jupyter-widgets/controls",
            "_model_module_version": "1.5.0",
            "_model_name": "DescriptionStyleModel",
            "_view_count": null,
            "_view_module": "@jupyter-widgets/base",
            "_view_module_version": "1.2.0",
            "_view_name": "StyleView",
            "description_width": ""
          }
        },
        "1eb97952b5e940d083f6df51e37ab0d6": {
          "model_module": "@jupyter-widgets/controls",
          "model_name": "HBoxModel",
          "model_module_version": "1.5.0",
          "state": {
            "_dom_classes": [],
            "_model_module": "@jupyter-widgets/controls",
            "_model_module_version": "1.5.0",
            "_model_name": "HBoxModel",
            "_view_count": null,
            "_view_module": "@jupyter-widgets/controls",
            "_view_module_version": "1.5.0",
            "_view_name": "HBoxView",
            "box_style": "",
            "children": [
              "IPY_MODEL_3225c2828d0e48edbdbca23a4205c23e",
              "IPY_MODEL_a5bd46194eb64c4da2dd353cc4707821",
              "IPY_MODEL_17b2bffec85f43a6af702084ba05b2e2"
            ],
            "layout": "IPY_MODEL_1b315e7f7dbd48149f1c4fa347e93215"
          }
        },
        "3225c2828d0e48edbdbca23a4205c23e": {
          "model_module": "@jupyter-widgets/controls",
          "model_name": "HTMLModel",
          "model_module_version": "1.5.0",
          "state": {
            "_dom_classes": [],
            "_model_module": "@jupyter-widgets/controls",
            "_model_module_version": "1.5.0",
            "_model_name": "HTMLModel",
            "_view_count": null,
            "_view_module": "@jupyter-widgets/controls",
            "_view_module_version": "1.5.0",
            "_view_name": "HTMLView",
            "description": "",
            "description_tooltip": null,
            "layout": "IPY_MODEL_0ad84b226e524f7e80c2a31a8afef171",
            "placeholder": "​",
            "style": "IPY_MODEL_7f805cfbfabd4f39bbde8c423c72e02b",
            "value": "3/5 * Epoch (train): 100%"
          }
        },
        "a5bd46194eb64c4da2dd353cc4707821": {
          "model_module": "@jupyter-widgets/controls",
          "model_name": "FloatProgressModel",
          "model_module_version": "1.5.0",
          "state": {
            "_dom_classes": [],
            "_model_module": "@jupyter-widgets/controls",
            "_model_module_version": "1.5.0",
            "_model_name": "FloatProgressModel",
            "_view_count": null,
            "_view_module": "@jupyter-widgets/controls",
            "_view_module_version": "1.5.0",
            "_view_name": "ProgressView",
            "bar_style": "success",
            "description": "",
            "description_tooltip": null,
            "layout": "IPY_MODEL_a11a276a3ebb44d0907ca0673d4a7209",
            "max": 162,
            "min": 0,
            "orientation": "horizontal",
            "style": "IPY_MODEL_af55aef317b44dd5b2cb221d3df1f3b6",
            "value": 162
          }
        },
        "17b2bffec85f43a6af702084ba05b2e2": {
          "model_module": "@jupyter-widgets/controls",
          "model_name": "HTMLModel",
          "model_module_version": "1.5.0",
          "state": {
            "_dom_classes": [],
            "_model_module": "@jupyter-widgets/controls",
            "_model_module_version": "1.5.0",
            "_model_name": "HTMLModel",
            "_view_count": null,
            "_view_module": "@jupyter-widgets/controls",
            "_view_module_version": "1.5.0",
            "_view_name": "HTMLView",
            "description": "",
            "description_tooltip": null,
            "layout": "IPY_MODEL_50e5654d3b4b41b08c5b66d94a9a7982",
            "placeholder": "​",
            "style": "IPY_MODEL_088ba17f0e2540e790e1c40ad56563d2",
            "value": " 162/162 [01:12&lt;00:00,  2.25it/s, accuracy01=0.067, f1/_macro=1.000, f1/_micro=1.000, f1/_weighted=1.000, loss=0.003, lr=3.000e-06, momentum=0.900, precision/_macro=1.000, precision/_micro=1.000, precision/_weighted=1.000, recall/_macro=1.000, recall/_micro=1.000, recall/_weighted=1.000]"
          }
        },
        "1b315e7f7dbd48149f1c4fa347e93215": {
          "model_module": "@jupyter-widgets/base",
          "model_name": "LayoutModel",
          "model_module_version": "1.2.0",
          "state": {
            "_model_module": "@jupyter-widgets/base",
            "_model_module_version": "1.2.0",
            "_model_name": "LayoutModel",
            "_view_count": null,
            "_view_module": "@jupyter-widgets/base",
            "_view_module_version": "1.2.0",
            "_view_name": "LayoutView",
            "align_content": null,
            "align_items": null,
            "align_self": null,
            "border": null,
            "bottom": null,
            "display": null,
            "flex": null,
            "flex_flow": null,
            "grid_area": null,
            "grid_auto_columns": null,
            "grid_auto_flow": null,
            "grid_auto_rows": null,
            "grid_column": null,
            "grid_gap": null,
            "grid_row": null,
            "grid_template_areas": null,
            "grid_template_columns": null,
            "grid_template_rows": null,
            "height": null,
            "justify_content": null,
            "justify_items": null,
            "left": null,
            "margin": null,
            "max_height": null,
            "max_width": null,
            "min_height": null,
            "min_width": null,
            "object_fit": null,
            "object_position": null,
            "order": null,
            "overflow": null,
            "overflow_x": null,
            "overflow_y": null,
            "padding": null,
            "right": null,
            "top": null,
            "visibility": null,
            "width": null
          }
        },
        "0ad84b226e524f7e80c2a31a8afef171": {
          "model_module": "@jupyter-widgets/base",
          "model_name": "LayoutModel",
          "model_module_version": "1.2.0",
          "state": {
            "_model_module": "@jupyter-widgets/base",
            "_model_module_version": "1.2.0",
            "_model_name": "LayoutModel",
            "_view_count": null,
            "_view_module": "@jupyter-widgets/base",
            "_view_module_version": "1.2.0",
            "_view_name": "LayoutView",
            "align_content": null,
            "align_items": null,
            "align_self": null,
            "border": null,
            "bottom": null,
            "display": null,
            "flex": null,
            "flex_flow": null,
            "grid_area": null,
            "grid_auto_columns": null,
            "grid_auto_flow": null,
            "grid_auto_rows": null,
            "grid_column": null,
            "grid_gap": null,
            "grid_row": null,
            "grid_template_areas": null,
            "grid_template_columns": null,
            "grid_template_rows": null,
            "height": null,
            "justify_content": null,
            "justify_items": null,
            "left": null,
            "margin": null,
            "max_height": null,
            "max_width": null,
            "min_height": null,
            "min_width": null,
            "object_fit": null,
            "object_position": null,
            "order": null,
            "overflow": null,
            "overflow_x": null,
            "overflow_y": null,
            "padding": null,
            "right": null,
            "top": null,
            "visibility": null,
            "width": null
          }
        },
        "7f805cfbfabd4f39bbde8c423c72e02b": {
          "model_module": "@jupyter-widgets/controls",
          "model_name": "DescriptionStyleModel",
          "model_module_version": "1.5.0",
          "state": {
            "_model_module": "@jupyter-widgets/controls",
            "_model_module_version": "1.5.0",
            "_model_name": "DescriptionStyleModel",
            "_view_count": null,
            "_view_module": "@jupyter-widgets/base",
            "_view_module_version": "1.2.0",
            "_view_name": "StyleView",
            "description_width": ""
          }
        },
        "a11a276a3ebb44d0907ca0673d4a7209": {
          "model_module": "@jupyter-widgets/base",
          "model_name": "LayoutModel",
          "model_module_version": "1.2.0",
          "state": {
            "_model_module": "@jupyter-widgets/base",
            "_model_module_version": "1.2.0",
            "_model_name": "LayoutModel",
            "_view_count": null,
            "_view_module": "@jupyter-widgets/base",
            "_view_module_version": "1.2.0",
            "_view_name": "LayoutView",
            "align_content": null,
            "align_items": null,
            "align_self": null,
            "border": null,
            "bottom": null,
            "display": null,
            "flex": null,
            "flex_flow": null,
            "grid_area": null,
            "grid_auto_columns": null,
            "grid_auto_flow": null,
            "grid_auto_rows": null,
            "grid_column": null,
            "grid_gap": null,
            "grid_row": null,
            "grid_template_areas": null,
            "grid_template_columns": null,
            "grid_template_rows": null,
            "height": null,
            "justify_content": null,
            "justify_items": null,
            "left": null,
            "margin": null,
            "max_height": null,
            "max_width": null,
            "min_height": null,
            "min_width": null,
            "object_fit": null,
            "object_position": null,
            "order": null,
            "overflow": null,
            "overflow_x": null,
            "overflow_y": null,
            "padding": null,
            "right": null,
            "top": null,
            "visibility": null,
            "width": null
          }
        },
        "af55aef317b44dd5b2cb221d3df1f3b6": {
          "model_module": "@jupyter-widgets/controls",
          "model_name": "ProgressStyleModel",
          "model_module_version": "1.5.0",
          "state": {
            "_model_module": "@jupyter-widgets/controls",
            "_model_module_version": "1.5.0",
            "_model_name": "ProgressStyleModel",
            "_view_count": null,
            "_view_module": "@jupyter-widgets/base",
            "_view_module_version": "1.2.0",
            "_view_name": "StyleView",
            "bar_color": null,
            "description_width": ""
          }
        },
        "50e5654d3b4b41b08c5b66d94a9a7982": {
          "model_module": "@jupyter-widgets/base",
          "model_name": "LayoutModel",
          "model_module_version": "1.2.0",
          "state": {
            "_model_module": "@jupyter-widgets/base",
            "_model_module_version": "1.2.0",
            "_model_name": "LayoutModel",
            "_view_count": null,
            "_view_module": "@jupyter-widgets/base",
            "_view_module_version": "1.2.0",
            "_view_name": "LayoutView",
            "align_content": null,
            "align_items": null,
            "align_self": null,
            "border": null,
            "bottom": null,
            "display": null,
            "flex": null,
            "flex_flow": null,
            "grid_area": null,
            "grid_auto_columns": null,
            "grid_auto_flow": null,
            "grid_auto_rows": null,
            "grid_column": null,
            "grid_gap": null,
            "grid_row": null,
            "grid_template_areas": null,
            "grid_template_columns": null,
            "grid_template_rows": null,
            "height": null,
            "justify_content": null,
            "justify_items": null,
            "left": null,
            "margin": null,
            "max_height": null,
            "max_width": null,
            "min_height": null,
            "min_width": null,
            "object_fit": null,
            "object_position": null,
            "order": null,
            "overflow": null,
            "overflow_x": null,
            "overflow_y": null,
            "padding": null,
            "right": null,
            "top": null,
            "visibility": null,
            "width": null
          }
        },
        "088ba17f0e2540e790e1c40ad56563d2": {
          "model_module": "@jupyter-widgets/controls",
          "model_name": "DescriptionStyleModel",
          "model_module_version": "1.5.0",
          "state": {
            "_model_module": "@jupyter-widgets/controls",
            "_model_module_version": "1.5.0",
            "_model_name": "DescriptionStyleModel",
            "_view_count": null,
            "_view_module": "@jupyter-widgets/base",
            "_view_module_version": "1.2.0",
            "_view_name": "StyleView",
            "description_width": ""
          }
        },
        "0f6e7d94a5d44b20ac6b4282281f6aa5": {
          "model_module": "@jupyter-widgets/controls",
          "model_name": "HBoxModel",
          "model_module_version": "1.5.0",
          "state": {
            "_dom_classes": [],
            "_model_module": "@jupyter-widgets/controls",
            "_model_module_version": "1.5.0",
            "_model_name": "HBoxModel",
            "_view_count": null,
            "_view_module": "@jupyter-widgets/controls",
            "_view_module_version": "1.5.0",
            "_view_name": "HBoxView",
            "box_style": "",
            "children": [
              "IPY_MODEL_ce0dee0878ec4ec8bfa67fc02d07a1cc",
              "IPY_MODEL_4b9f16fd383a4922bd38201808dbdbb2",
              "IPY_MODEL_48fc62e7301f4266bca000b99ca1a704"
            ],
            "layout": "IPY_MODEL_fe23d464ed9a4ab4b773e51a855bbcef"
          }
        },
        "ce0dee0878ec4ec8bfa67fc02d07a1cc": {
          "model_module": "@jupyter-widgets/controls",
          "model_name": "HTMLModel",
          "model_module_version": "1.5.0",
          "state": {
            "_dom_classes": [],
            "_model_module": "@jupyter-widgets/controls",
            "_model_module_version": "1.5.0",
            "_model_name": "HTMLModel",
            "_view_count": null,
            "_view_module": "@jupyter-widgets/controls",
            "_view_module_version": "1.5.0",
            "_view_name": "HTMLView",
            "description": "",
            "description_tooltip": null,
            "layout": "IPY_MODEL_431eadd4a4734e1eb6aab4d32738f9d9",
            "placeholder": "​",
            "style": "IPY_MODEL_a8af34e6e3364f519732590a0100d963",
            "value": "3/5 * Epoch (valid): 100%"
          }
        },
        "4b9f16fd383a4922bd38201808dbdbb2": {
          "model_module": "@jupyter-widgets/controls",
          "model_name": "FloatProgressModel",
          "model_module_version": "1.5.0",
          "state": {
            "_dom_classes": [],
            "_model_module": "@jupyter-widgets/controls",
            "_model_module_version": "1.5.0",
            "_model_name": "FloatProgressModel",
            "_view_count": null,
            "_view_module": "@jupyter-widgets/controls",
            "_view_module_version": "1.5.0",
            "_view_name": "ProgressView",
            "bar_style": "success",
            "description": "",
            "description_tooltip": null,
            "layout": "IPY_MODEL_bef8a03ca3ae4fe3a7272e2c8e5bb7b0",
            "max": 18,
            "min": 0,
            "orientation": "horizontal",
            "style": "IPY_MODEL_0192bad830824bd69ddf19da2664f1b9",
            "value": 18
          }
        },
        "48fc62e7301f4266bca000b99ca1a704": {
          "model_module": "@jupyter-widgets/controls",
          "model_name": "HTMLModel",
          "model_module_version": "1.5.0",
          "state": {
            "_dom_classes": [],
            "_model_module": "@jupyter-widgets/controls",
            "_model_module_version": "1.5.0",
            "_model_name": "HTMLModel",
            "_view_count": null,
            "_view_module": "@jupyter-widgets/controls",
            "_view_module_version": "1.5.0",
            "_view_name": "HTMLView",
            "description": "",
            "description_tooltip": null,
            "layout": "IPY_MODEL_da136272df79421392382b93ae69ccfa",
            "placeholder": "​",
            "style": "IPY_MODEL_c18621175247424c8d24a50cc56b817f",
            "value": " 18/18 [00:02&lt;00:00,  7.80it/s, accuracy01=0.156, f1/_macro=0.967, f1/_micro=0.969, f1/_weighted=0.969, loss=0.100, lr=3.000e-06, momentum=0.900, precision/_macro=0.962, precision/_micro=0.969, precision/_weighted=0.971, recall/_macro=0.975, recall/_micro=0.969, recall/_weighted=0.969]"
          }
        },
        "fe23d464ed9a4ab4b773e51a855bbcef": {
          "model_module": "@jupyter-widgets/base",
          "model_name": "LayoutModel",
          "model_module_version": "1.2.0",
          "state": {
            "_model_module": "@jupyter-widgets/base",
            "_model_module_version": "1.2.0",
            "_model_name": "LayoutModel",
            "_view_count": null,
            "_view_module": "@jupyter-widgets/base",
            "_view_module_version": "1.2.0",
            "_view_name": "LayoutView",
            "align_content": null,
            "align_items": null,
            "align_self": null,
            "border": null,
            "bottom": null,
            "display": null,
            "flex": null,
            "flex_flow": null,
            "grid_area": null,
            "grid_auto_columns": null,
            "grid_auto_flow": null,
            "grid_auto_rows": null,
            "grid_column": null,
            "grid_gap": null,
            "grid_row": null,
            "grid_template_areas": null,
            "grid_template_columns": null,
            "grid_template_rows": null,
            "height": null,
            "justify_content": null,
            "justify_items": null,
            "left": null,
            "margin": null,
            "max_height": null,
            "max_width": null,
            "min_height": null,
            "min_width": null,
            "object_fit": null,
            "object_position": null,
            "order": null,
            "overflow": null,
            "overflow_x": null,
            "overflow_y": null,
            "padding": null,
            "right": null,
            "top": null,
            "visibility": null,
            "width": null
          }
        },
        "431eadd4a4734e1eb6aab4d32738f9d9": {
          "model_module": "@jupyter-widgets/base",
          "model_name": "LayoutModel",
          "model_module_version": "1.2.0",
          "state": {
            "_model_module": "@jupyter-widgets/base",
            "_model_module_version": "1.2.0",
            "_model_name": "LayoutModel",
            "_view_count": null,
            "_view_module": "@jupyter-widgets/base",
            "_view_module_version": "1.2.0",
            "_view_name": "LayoutView",
            "align_content": null,
            "align_items": null,
            "align_self": null,
            "border": null,
            "bottom": null,
            "display": null,
            "flex": null,
            "flex_flow": null,
            "grid_area": null,
            "grid_auto_columns": null,
            "grid_auto_flow": null,
            "grid_auto_rows": null,
            "grid_column": null,
            "grid_gap": null,
            "grid_row": null,
            "grid_template_areas": null,
            "grid_template_columns": null,
            "grid_template_rows": null,
            "height": null,
            "justify_content": null,
            "justify_items": null,
            "left": null,
            "margin": null,
            "max_height": null,
            "max_width": null,
            "min_height": null,
            "min_width": null,
            "object_fit": null,
            "object_position": null,
            "order": null,
            "overflow": null,
            "overflow_x": null,
            "overflow_y": null,
            "padding": null,
            "right": null,
            "top": null,
            "visibility": null,
            "width": null
          }
        },
        "a8af34e6e3364f519732590a0100d963": {
          "model_module": "@jupyter-widgets/controls",
          "model_name": "DescriptionStyleModel",
          "model_module_version": "1.5.0",
          "state": {
            "_model_module": "@jupyter-widgets/controls",
            "_model_module_version": "1.5.0",
            "_model_name": "DescriptionStyleModel",
            "_view_count": null,
            "_view_module": "@jupyter-widgets/base",
            "_view_module_version": "1.2.0",
            "_view_name": "StyleView",
            "description_width": ""
          }
        },
        "bef8a03ca3ae4fe3a7272e2c8e5bb7b0": {
          "model_module": "@jupyter-widgets/base",
          "model_name": "LayoutModel",
          "model_module_version": "1.2.0",
          "state": {
            "_model_module": "@jupyter-widgets/base",
            "_model_module_version": "1.2.0",
            "_model_name": "LayoutModel",
            "_view_count": null,
            "_view_module": "@jupyter-widgets/base",
            "_view_module_version": "1.2.0",
            "_view_name": "LayoutView",
            "align_content": null,
            "align_items": null,
            "align_self": null,
            "border": null,
            "bottom": null,
            "display": null,
            "flex": null,
            "flex_flow": null,
            "grid_area": null,
            "grid_auto_columns": null,
            "grid_auto_flow": null,
            "grid_auto_rows": null,
            "grid_column": null,
            "grid_gap": null,
            "grid_row": null,
            "grid_template_areas": null,
            "grid_template_columns": null,
            "grid_template_rows": null,
            "height": null,
            "justify_content": null,
            "justify_items": null,
            "left": null,
            "margin": null,
            "max_height": null,
            "max_width": null,
            "min_height": null,
            "min_width": null,
            "object_fit": null,
            "object_position": null,
            "order": null,
            "overflow": null,
            "overflow_x": null,
            "overflow_y": null,
            "padding": null,
            "right": null,
            "top": null,
            "visibility": null,
            "width": null
          }
        },
        "0192bad830824bd69ddf19da2664f1b9": {
          "model_module": "@jupyter-widgets/controls",
          "model_name": "ProgressStyleModel",
          "model_module_version": "1.5.0",
          "state": {
            "_model_module": "@jupyter-widgets/controls",
            "_model_module_version": "1.5.0",
            "_model_name": "ProgressStyleModel",
            "_view_count": null,
            "_view_module": "@jupyter-widgets/base",
            "_view_module_version": "1.2.0",
            "_view_name": "StyleView",
            "bar_color": null,
            "description_width": ""
          }
        },
        "da136272df79421392382b93ae69ccfa": {
          "model_module": "@jupyter-widgets/base",
          "model_name": "LayoutModel",
          "model_module_version": "1.2.0",
          "state": {
            "_model_module": "@jupyter-widgets/base",
            "_model_module_version": "1.2.0",
            "_model_name": "LayoutModel",
            "_view_count": null,
            "_view_module": "@jupyter-widgets/base",
            "_view_module_version": "1.2.0",
            "_view_name": "LayoutView",
            "align_content": null,
            "align_items": null,
            "align_self": null,
            "border": null,
            "bottom": null,
            "display": null,
            "flex": null,
            "flex_flow": null,
            "grid_area": null,
            "grid_auto_columns": null,
            "grid_auto_flow": null,
            "grid_auto_rows": null,
            "grid_column": null,
            "grid_gap": null,
            "grid_row": null,
            "grid_template_areas": null,
            "grid_template_columns": null,
            "grid_template_rows": null,
            "height": null,
            "justify_content": null,
            "justify_items": null,
            "left": null,
            "margin": null,
            "max_height": null,
            "max_width": null,
            "min_height": null,
            "min_width": null,
            "object_fit": null,
            "object_position": null,
            "order": null,
            "overflow": null,
            "overflow_x": null,
            "overflow_y": null,
            "padding": null,
            "right": null,
            "top": null,
            "visibility": null,
            "width": null
          }
        },
        "c18621175247424c8d24a50cc56b817f": {
          "model_module": "@jupyter-widgets/controls",
          "model_name": "DescriptionStyleModel",
          "model_module_version": "1.5.0",
          "state": {
            "_model_module": "@jupyter-widgets/controls",
            "_model_module_version": "1.5.0",
            "_model_name": "DescriptionStyleModel",
            "_view_count": null,
            "_view_module": "@jupyter-widgets/base",
            "_view_module_version": "1.2.0",
            "_view_name": "StyleView",
            "description_width": ""
          }
        },
        "b6154a54b40347b5bb9a68bb0406f59d": {
          "model_module": "@jupyter-widgets/controls",
          "model_name": "HBoxModel",
          "model_module_version": "1.5.0",
          "state": {
            "_dom_classes": [],
            "_model_module": "@jupyter-widgets/controls",
            "_model_module_version": "1.5.0",
            "_model_name": "HBoxModel",
            "_view_count": null,
            "_view_module": "@jupyter-widgets/controls",
            "_view_module_version": "1.5.0",
            "_view_name": "HBoxView",
            "box_style": "",
            "children": [
              "IPY_MODEL_b2e20f2b9f2d4896ba433bf59292cac6",
              "IPY_MODEL_f77717fc8f68466a86fc27818e89f366",
              "IPY_MODEL_5858d15d4f474846a03a257e52568bcf"
            ],
            "layout": "IPY_MODEL_5613dc8cdd0b4d70b032ff7f515e80bf"
          }
        },
        "b2e20f2b9f2d4896ba433bf59292cac6": {
          "model_module": "@jupyter-widgets/controls",
          "model_name": "HTMLModel",
          "model_module_version": "1.5.0",
          "state": {
            "_dom_classes": [],
            "_model_module": "@jupyter-widgets/controls",
            "_model_module_version": "1.5.0",
            "_model_name": "HTMLModel",
            "_view_count": null,
            "_view_module": "@jupyter-widgets/controls",
            "_view_module_version": "1.5.0",
            "_view_name": "HTMLView",
            "description": "",
            "description_tooltip": null,
            "layout": "IPY_MODEL_810a1ecc660841da821a5185f9c336b4",
            "placeholder": "​",
            "style": "IPY_MODEL_0eaeb7ff83604e5fa577a2f9a33967b1",
            "value": "4/5 * Epoch (train): 100%"
          }
        },
        "f77717fc8f68466a86fc27818e89f366": {
          "model_module": "@jupyter-widgets/controls",
          "model_name": "FloatProgressModel",
          "model_module_version": "1.5.0",
          "state": {
            "_dom_classes": [],
            "_model_module": "@jupyter-widgets/controls",
            "_model_module_version": "1.5.0",
            "_model_name": "FloatProgressModel",
            "_view_count": null,
            "_view_module": "@jupyter-widgets/controls",
            "_view_module_version": "1.5.0",
            "_view_name": "ProgressView",
            "bar_style": "success",
            "description": "",
            "description_tooltip": null,
            "layout": "IPY_MODEL_0a2458f7be0448d8bffb215043d9b262",
            "max": 162,
            "min": 0,
            "orientation": "horizontal",
            "style": "IPY_MODEL_7c0b330c6e5440978c3c131e47dd94c8",
            "value": 162
          }
        },
        "5858d15d4f474846a03a257e52568bcf": {
          "model_module": "@jupyter-widgets/controls",
          "model_name": "HTMLModel",
          "model_module_version": "1.5.0",
          "state": {
            "_dom_classes": [],
            "_model_module": "@jupyter-widgets/controls",
            "_model_module_version": "1.5.0",
            "_model_name": "HTMLModel",
            "_view_count": null,
            "_view_module": "@jupyter-widgets/controls",
            "_view_module_version": "1.5.0",
            "_view_name": "HTMLView",
            "description": "",
            "description_tooltip": null,
            "layout": "IPY_MODEL_000049bda828430cbb2fd34334228667",
            "placeholder": "​",
            "style": "IPY_MODEL_5957e849f18a4afb93b231cdc6da4f62",
            "value": " 162/162 [01:12&lt;00:00,  2.24it/s, accuracy01=0.000e+00, f1/_macro=1.000, f1/_micro=1.000, f1/_weighted=1.000, loss=0.009, lr=3.000e-06, momentum=0.900, precision/_macro=1.000, precision/_micro=1.000, precision/_weighted=1.000, recall/_macro=1.000, recall/_micro=1.000, recall/_weighted=1.000]"
          }
        },
        "5613dc8cdd0b4d70b032ff7f515e80bf": {
          "model_module": "@jupyter-widgets/base",
          "model_name": "LayoutModel",
          "model_module_version": "1.2.0",
          "state": {
            "_model_module": "@jupyter-widgets/base",
            "_model_module_version": "1.2.0",
            "_model_name": "LayoutModel",
            "_view_count": null,
            "_view_module": "@jupyter-widgets/base",
            "_view_module_version": "1.2.0",
            "_view_name": "LayoutView",
            "align_content": null,
            "align_items": null,
            "align_self": null,
            "border": null,
            "bottom": null,
            "display": null,
            "flex": null,
            "flex_flow": null,
            "grid_area": null,
            "grid_auto_columns": null,
            "grid_auto_flow": null,
            "grid_auto_rows": null,
            "grid_column": null,
            "grid_gap": null,
            "grid_row": null,
            "grid_template_areas": null,
            "grid_template_columns": null,
            "grid_template_rows": null,
            "height": null,
            "justify_content": null,
            "justify_items": null,
            "left": null,
            "margin": null,
            "max_height": null,
            "max_width": null,
            "min_height": null,
            "min_width": null,
            "object_fit": null,
            "object_position": null,
            "order": null,
            "overflow": null,
            "overflow_x": null,
            "overflow_y": null,
            "padding": null,
            "right": null,
            "top": null,
            "visibility": null,
            "width": null
          }
        },
        "810a1ecc660841da821a5185f9c336b4": {
          "model_module": "@jupyter-widgets/base",
          "model_name": "LayoutModel",
          "model_module_version": "1.2.0",
          "state": {
            "_model_module": "@jupyter-widgets/base",
            "_model_module_version": "1.2.0",
            "_model_name": "LayoutModel",
            "_view_count": null,
            "_view_module": "@jupyter-widgets/base",
            "_view_module_version": "1.2.0",
            "_view_name": "LayoutView",
            "align_content": null,
            "align_items": null,
            "align_self": null,
            "border": null,
            "bottom": null,
            "display": null,
            "flex": null,
            "flex_flow": null,
            "grid_area": null,
            "grid_auto_columns": null,
            "grid_auto_flow": null,
            "grid_auto_rows": null,
            "grid_column": null,
            "grid_gap": null,
            "grid_row": null,
            "grid_template_areas": null,
            "grid_template_columns": null,
            "grid_template_rows": null,
            "height": null,
            "justify_content": null,
            "justify_items": null,
            "left": null,
            "margin": null,
            "max_height": null,
            "max_width": null,
            "min_height": null,
            "min_width": null,
            "object_fit": null,
            "object_position": null,
            "order": null,
            "overflow": null,
            "overflow_x": null,
            "overflow_y": null,
            "padding": null,
            "right": null,
            "top": null,
            "visibility": null,
            "width": null
          }
        },
        "0eaeb7ff83604e5fa577a2f9a33967b1": {
          "model_module": "@jupyter-widgets/controls",
          "model_name": "DescriptionStyleModel",
          "model_module_version": "1.5.0",
          "state": {
            "_model_module": "@jupyter-widgets/controls",
            "_model_module_version": "1.5.0",
            "_model_name": "DescriptionStyleModel",
            "_view_count": null,
            "_view_module": "@jupyter-widgets/base",
            "_view_module_version": "1.2.0",
            "_view_name": "StyleView",
            "description_width": ""
          }
        },
        "0a2458f7be0448d8bffb215043d9b262": {
          "model_module": "@jupyter-widgets/base",
          "model_name": "LayoutModel",
          "model_module_version": "1.2.0",
          "state": {
            "_model_module": "@jupyter-widgets/base",
            "_model_module_version": "1.2.0",
            "_model_name": "LayoutModel",
            "_view_count": null,
            "_view_module": "@jupyter-widgets/base",
            "_view_module_version": "1.2.0",
            "_view_name": "LayoutView",
            "align_content": null,
            "align_items": null,
            "align_self": null,
            "border": null,
            "bottom": null,
            "display": null,
            "flex": null,
            "flex_flow": null,
            "grid_area": null,
            "grid_auto_columns": null,
            "grid_auto_flow": null,
            "grid_auto_rows": null,
            "grid_column": null,
            "grid_gap": null,
            "grid_row": null,
            "grid_template_areas": null,
            "grid_template_columns": null,
            "grid_template_rows": null,
            "height": null,
            "justify_content": null,
            "justify_items": null,
            "left": null,
            "margin": null,
            "max_height": null,
            "max_width": null,
            "min_height": null,
            "min_width": null,
            "object_fit": null,
            "object_position": null,
            "order": null,
            "overflow": null,
            "overflow_x": null,
            "overflow_y": null,
            "padding": null,
            "right": null,
            "top": null,
            "visibility": null,
            "width": null
          }
        },
        "7c0b330c6e5440978c3c131e47dd94c8": {
          "model_module": "@jupyter-widgets/controls",
          "model_name": "ProgressStyleModel",
          "model_module_version": "1.5.0",
          "state": {
            "_model_module": "@jupyter-widgets/controls",
            "_model_module_version": "1.5.0",
            "_model_name": "ProgressStyleModel",
            "_view_count": null,
            "_view_module": "@jupyter-widgets/base",
            "_view_module_version": "1.2.0",
            "_view_name": "StyleView",
            "bar_color": null,
            "description_width": ""
          }
        },
        "000049bda828430cbb2fd34334228667": {
          "model_module": "@jupyter-widgets/base",
          "model_name": "LayoutModel",
          "model_module_version": "1.2.0",
          "state": {
            "_model_module": "@jupyter-widgets/base",
            "_model_module_version": "1.2.0",
            "_model_name": "LayoutModel",
            "_view_count": null,
            "_view_module": "@jupyter-widgets/base",
            "_view_module_version": "1.2.0",
            "_view_name": "LayoutView",
            "align_content": null,
            "align_items": null,
            "align_self": null,
            "border": null,
            "bottom": null,
            "display": null,
            "flex": null,
            "flex_flow": null,
            "grid_area": null,
            "grid_auto_columns": null,
            "grid_auto_flow": null,
            "grid_auto_rows": null,
            "grid_column": null,
            "grid_gap": null,
            "grid_row": null,
            "grid_template_areas": null,
            "grid_template_columns": null,
            "grid_template_rows": null,
            "height": null,
            "justify_content": null,
            "justify_items": null,
            "left": null,
            "margin": null,
            "max_height": null,
            "max_width": null,
            "min_height": null,
            "min_width": null,
            "object_fit": null,
            "object_position": null,
            "order": null,
            "overflow": null,
            "overflow_x": null,
            "overflow_y": null,
            "padding": null,
            "right": null,
            "top": null,
            "visibility": null,
            "width": null
          }
        },
        "5957e849f18a4afb93b231cdc6da4f62": {
          "model_module": "@jupyter-widgets/controls",
          "model_name": "DescriptionStyleModel",
          "model_module_version": "1.5.0",
          "state": {
            "_model_module": "@jupyter-widgets/controls",
            "_model_module_version": "1.5.0",
            "_model_name": "DescriptionStyleModel",
            "_view_count": null,
            "_view_module": "@jupyter-widgets/base",
            "_view_module_version": "1.2.0",
            "_view_name": "StyleView",
            "description_width": ""
          }
        },
        "a2501d4eb0bb4092a510fb9ec94178c8": {
          "model_module": "@jupyter-widgets/controls",
          "model_name": "HBoxModel",
          "model_module_version": "1.5.0",
          "state": {
            "_dom_classes": [],
            "_model_module": "@jupyter-widgets/controls",
            "_model_module_version": "1.5.0",
            "_model_name": "HBoxModel",
            "_view_count": null,
            "_view_module": "@jupyter-widgets/controls",
            "_view_module_version": "1.5.0",
            "_view_name": "HBoxView",
            "box_style": "",
            "children": [
              "IPY_MODEL_6188e6157e924e1994814a23f42d4136",
              "IPY_MODEL_98f379880d0d422b916b1a5f80f360f1",
              "IPY_MODEL_eba6dda766fc4438a452aba1029a2adc"
            ],
            "layout": "IPY_MODEL_c178be271cdb473f9e915f71fc76891f"
          }
        },
        "6188e6157e924e1994814a23f42d4136": {
          "model_module": "@jupyter-widgets/controls",
          "model_name": "HTMLModel",
          "model_module_version": "1.5.0",
          "state": {
            "_dom_classes": [],
            "_model_module": "@jupyter-widgets/controls",
            "_model_module_version": "1.5.0",
            "_model_name": "HTMLModel",
            "_view_count": null,
            "_view_module": "@jupyter-widgets/controls",
            "_view_module_version": "1.5.0",
            "_view_name": "HTMLView",
            "description": "",
            "description_tooltip": null,
            "layout": "IPY_MODEL_381b858a32e04444a889a51011013c38",
            "placeholder": "​",
            "style": "IPY_MODEL_2411e8b266e04d898ceb5ebeed0c5b15",
            "value": "4/5 * Epoch (valid): 100%"
          }
        },
        "98f379880d0d422b916b1a5f80f360f1": {
          "model_module": "@jupyter-widgets/controls",
          "model_name": "FloatProgressModel",
          "model_module_version": "1.5.0",
          "state": {
            "_dom_classes": [],
            "_model_module": "@jupyter-widgets/controls",
            "_model_module_version": "1.5.0",
            "_model_name": "FloatProgressModel",
            "_view_count": null,
            "_view_module": "@jupyter-widgets/controls",
            "_view_module_version": "1.5.0",
            "_view_name": "ProgressView",
            "bar_style": "success",
            "description": "",
            "description_tooltip": null,
            "layout": "IPY_MODEL_6a70ba39bf234b9784c2eaf2fd8077e3",
            "max": 18,
            "min": 0,
            "orientation": "horizontal",
            "style": "IPY_MODEL_7121239e451847f89ec3470d98a64877",
            "value": 18
          }
        },
        "eba6dda766fc4438a452aba1029a2adc": {
          "model_module": "@jupyter-widgets/controls",
          "model_name": "HTMLModel",
          "model_module_version": "1.5.0",
          "state": {
            "_dom_classes": [],
            "_model_module": "@jupyter-widgets/controls",
            "_model_module_version": "1.5.0",
            "_model_name": "HTMLModel",
            "_view_count": null,
            "_view_module": "@jupyter-widgets/controls",
            "_view_module_version": "1.5.0",
            "_view_name": "HTMLView",
            "description": "",
            "description_tooltip": null,
            "layout": "IPY_MODEL_e9902668031c4f9babf826c620bee6a2",
            "placeholder": "​",
            "style": "IPY_MODEL_b1e8e99f086244aabcf8a35b362a8373",
            "value": " 18/18 [00:02&lt;00:00,  7.73it/s, accuracy01=0.125, f1/_macro=0.842, f1/_micro=0.844, f1/_weighted=0.846, loss=0.282, lr=3.000e-06, momentum=0.900, precision/_macro=0.853, precision/_micro=0.844, precision/_weighted=0.890, recall/_macro=0.875, recall/_micro=0.844, recall/_weighted=0.844]"
          }
        },
        "c178be271cdb473f9e915f71fc76891f": {
          "model_module": "@jupyter-widgets/base",
          "model_name": "LayoutModel",
          "model_module_version": "1.2.0",
          "state": {
            "_model_module": "@jupyter-widgets/base",
            "_model_module_version": "1.2.0",
            "_model_name": "LayoutModel",
            "_view_count": null,
            "_view_module": "@jupyter-widgets/base",
            "_view_module_version": "1.2.0",
            "_view_name": "LayoutView",
            "align_content": null,
            "align_items": null,
            "align_self": null,
            "border": null,
            "bottom": null,
            "display": null,
            "flex": null,
            "flex_flow": null,
            "grid_area": null,
            "grid_auto_columns": null,
            "grid_auto_flow": null,
            "grid_auto_rows": null,
            "grid_column": null,
            "grid_gap": null,
            "grid_row": null,
            "grid_template_areas": null,
            "grid_template_columns": null,
            "grid_template_rows": null,
            "height": null,
            "justify_content": null,
            "justify_items": null,
            "left": null,
            "margin": null,
            "max_height": null,
            "max_width": null,
            "min_height": null,
            "min_width": null,
            "object_fit": null,
            "object_position": null,
            "order": null,
            "overflow": null,
            "overflow_x": null,
            "overflow_y": null,
            "padding": null,
            "right": null,
            "top": null,
            "visibility": null,
            "width": null
          }
        },
        "381b858a32e04444a889a51011013c38": {
          "model_module": "@jupyter-widgets/base",
          "model_name": "LayoutModel",
          "model_module_version": "1.2.0",
          "state": {
            "_model_module": "@jupyter-widgets/base",
            "_model_module_version": "1.2.0",
            "_model_name": "LayoutModel",
            "_view_count": null,
            "_view_module": "@jupyter-widgets/base",
            "_view_module_version": "1.2.0",
            "_view_name": "LayoutView",
            "align_content": null,
            "align_items": null,
            "align_self": null,
            "border": null,
            "bottom": null,
            "display": null,
            "flex": null,
            "flex_flow": null,
            "grid_area": null,
            "grid_auto_columns": null,
            "grid_auto_flow": null,
            "grid_auto_rows": null,
            "grid_column": null,
            "grid_gap": null,
            "grid_row": null,
            "grid_template_areas": null,
            "grid_template_columns": null,
            "grid_template_rows": null,
            "height": null,
            "justify_content": null,
            "justify_items": null,
            "left": null,
            "margin": null,
            "max_height": null,
            "max_width": null,
            "min_height": null,
            "min_width": null,
            "object_fit": null,
            "object_position": null,
            "order": null,
            "overflow": null,
            "overflow_x": null,
            "overflow_y": null,
            "padding": null,
            "right": null,
            "top": null,
            "visibility": null,
            "width": null
          }
        },
        "2411e8b266e04d898ceb5ebeed0c5b15": {
          "model_module": "@jupyter-widgets/controls",
          "model_name": "DescriptionStyleModel",
          "model_module_version": "1.5.0",
          "state": {
            "_model_module": "@jupyter-widgets/controls",
            "_model_module_version": "1.5.0",
            "_model_name": "DescriptionStyleModel",
            "_view_count": null,
            "_view_module": "@jupyter-widgets/base",
            "_view_module_version": "1.2.0",
            "_view_name": "StyleView",
            "description_width": ""
          }
        },
        "6a70ba39bf234b9784c2eaf2fd8077e3": {
          "model_module": "@jupyter-widgets/base",
          "model_name": "LayoutModel",
          "model_module_version": "1.2.0",
          "state": {
            "_model_module": "@jupyter-widgets/base",
            "_model_module_version": "1.2.0",
            "_model_name": "LayoutModel",
            "_view_count": null,
            "_view_module": "@jupyter-widgets/base",
            "_view_module_version": "1.2.0",
            "_view_name": "LayoutView",
            "align_content": null,
            "align_items": null,
            "align_self": null,
            "border": null,
            "bottom": null,
            "display": null,
            "flex": null,
            "flex_flow": null,
            "grid_area": null,
            "grid_auto_columns": null,
            "grid_auto_flow": null,
            "grid_auto_rows": null,
            "grid_column": null,
            "grid_gap": null,
            "grid_row": null,
            "grid_template_areas": null,
            "grid_template_columns": null,
            "grid_template_rows": null,
            "height": null,
            "justify_content": null,
            "justify_items": null,
            "left": null,
            "margin": null,
            "max_height": null,
            "max_width": null,
            "min_height": null,
            "min_width": null,
            "object_fit": null,
            "object_position": null,
            "order": null,
            "overflow": null,
            "overflow_x": null,
            "overflow_y": null,
            "padding": null,
            "right": null,
            "top": null,
            "visibility": null,
            "width": null
          }
        },
        "7121239e451847f89ec3470d98a64877": {
          "model_module": "@jupyter-widgets/controls",
          "model_name": "ProgressStyleModel",
          "model_module_version": "1.5.0",
          "state": {
            "_model_module": "@jupyter-widgets/controls",
            "_model_module_version": "1.5.0",
            "_model_name": "ProgressStyleModel",
            "_view_count": null,
            "_view_module": "@jupyter-widgets/base",
            "_view_module_version": "1.2.0",
            "_view_name": "StyleView",
            "bar_color": null,
            "description_width": ""
          }
        },
        "e9902668031c4f9babf826c620bee6a2": {
          "model_module": "@jupyter-widgets/base",
          "model_name": "LayoutModel",
          "model_module_version": "1.2.0",
          "state": {
            "_model_module": "@jupyter-widgets/base",
            "_model_module_version": "1.2.0",
            "_model_name": "LayoutModel",
            "_view_count": null,
            "_view_module": "@jupyter-widgets/base",
            "_view_module_version": "1.2.0",
            "_view_name": "LayoutView",
            "align_content": null,
            "align_items": null,
            "align_self": null,
            "border": null,
            "bottom": null,
            "display": null,
            "flex": null,
            "flex_flow": null,
            "grid_area": null,
            "grid_auto_columns": null,
            "grid_auto_flow": null,
            "grid_auto_rows": null,
            "grid_column": null,
            "grid_gap": null,
            "grid_row": null,
            "grid_template_areas": null,
            "grid_template_columns": null,
            "grid_template_rows": null,
            "height": null,
            "justify_content": null,
            "justify_items": null,
            "left": null,
            "margin": null,
            "max_height": null,
            "max_width": null,
            "min_height": null,
            "min_width": null,
            "object_fit": null,
            "object_position": null,
            "order": null,
            "overflow": null,
            "overflow_x": null,
            "overflow_y": null,
            "padding": null,
            "right": null,
            "top": null,
            "visibility": null,
            "width": null
          }
        },
        "b1e8e99f086244aabcf8a35b362a8373": {
          "model_module": "@jupyter-widgets/controls",
          "model_name": "DescriptionStyleModel",
          "model_module_version": "1.5.0",
          "state": {
            "_model_module": "@jupyter-widgets/controls",
            "_model_module_version": "1.5.0",
            "_model_name": "DescriptionStyleModel",
            "_view_count": null,
            "_view_module": "@jupyter-widgets/base",
            "_view_module_version": "1.2.0",
            "_view_name": "StyleView",
            "description_width": ""
          }
        },
        "e90c916fe3184600a5c58e183f667335": {
          "model_module": "@jupyter-widgets/controls",
          "model_name": "HBoxModel",
          "model_module_version": "1.5.0",
          "state": {
            "_dom_classes": [],
            "_model_module": "@jupyter-widgets/controls",
            "_model_module_version": "1.5.0",
            "_model_name": "HBoxModel",
            "_view_count": null,
            "_view_module": "@jupyter-widgets/controls",
            "_view_module_version": "1.5.0",
            "_view_name": "HBoxView",
            "box_style": "",
            "children": [
              "IPY_MODEL_3a22a7d182354f26818452a39d3e6ac1",
              "IPY_MODEL_882441394955425ebfd57d1a9783039b",
              "IPY_MODEL_f61a7868760e4c39a2b1376a7c2927eb"
            ],
            "layout": "IPY_MODEL_6faf919f710c43ef97d250c7179cc5b4"
          }
        },
        "3a22a7d182354f26818452a39d3e6ac1": {
          "model_module": "@jupyter-widgets/controls",
          "model_name": "HTMLModel",
          "model_module_version": "1.5.0",
          "state": {
            "_dom_classes": [],
            "_model_module": "@jupyter-widgets/controls",
            "_model_module_version": "1.5.0",
            "_model_name": "HTMLModel",
            "_view_count": null,
            "_view_module": "@jupyter-widgets/controls",
            "_view_module_version": "1.5.0",
            "_view_name": "HTMLView",
            "description": "",
            "description_tooltip": null,
            "layout": "IPY_MODEL_b0bc65b0138d4e3cb68ad9d57085d9e3",
            "placeholder": "​",
            "style": "IPY_MODEL_680d13c08300441488d395173240068f",
            "value": "5/5 * Epoch (train): 100%"
          }
        },
        "882441394955425ebfd57d1a9783039b": {
          "model_module": "@jupyter-widgets/controls",
          "model_name": "FloatProgressModel",
          "model_module_version": "1.5.0",
          "state": {
            "_dom_classes": [],
            "_model_module": "@jupyter-widgets/controls",
            "_model_module_version": "1.5.0",
            "_model_name": "FloatProgressModel",
            "_view_count": null,
            "_view_module": "@jupyter-widgets/controls",
            "_view_module_version": "1.5.0",
            "_view_name": "ProgressView",
            "bar_style": "success",
            "description": "",
            "description_tooltip": null,
            "layout": "IPY_MODEL_f84f8ee2022a4326b602fa941862d82e",
            "max": 162,
            "min": 0,
            "orientation": "horizontal",
            "style": "IPY_MODEL_8afe50b0a2e74fbf8fba0ae60a3080d7",
            "value": 162
          }
        },
        "f61a7868760e4c39a2b1376a7c2927eb": {
          "model_module": "@jupyter-widgets/controls",
          "model_name": "HTMLModel",
          "model_module_version": "1.5.0",
          "state": {
            "_dom_classes": [],
            "_model_module": "@jupyter-widgets/controls",
            "_model_module_version": "1.5.0",
            "_model_name": "HTMLModel",
            "_view_count": null,
            "_view_module": "@jupyter-widgets/controls",
            "_view_module_version": "1.5.0",
            "_view_name": "HTMLView",
            "description": "",
            "description_tooltip": null,
            "layout": "IPY_MODEL_22681d149033455bb3fcdd3b5e2684d1",
            "placeholder": "​",
            "style": "IPY_MODEL_ff0a5b3e808f4ad0ae4e99cb75cc32c1",
            "value": " 162/162 [01:12&lt;00:00,  2.24it/s, accuracy01=0.067, f1/_macro=1.000, f1/_micro=1.000, f1/_weighted=1.000, loss=0.004, lr=3.000e-07, momentum=0.900, precision/_macro=1.000, precision/_micro=1.000, precision/_weighted=1.000, recall/_macro=1.000, recall/_micro=1.000, recall/_weighted=1.000]"
          }
        },
        "6faf919f710c43ef97d250c7179cc5b4": {
          "model_module": "@jupyter-widgets/base",
          "model_name": "LayoutModel",
          "model_module_version": "1.2.0",
          "state": {
            "_model_module": "@jupyter-widgets/base",
            "_model_module_version": "1.2.0",
            "_model_name": "LayoutModel",
            "_view_count": null,
            "_view_module": "@jupyter-widgets/base",
            "_view_module_version": "1.2.0",
            "_view_name": "LayoutView",
            "align_content": null,
            "align_items": null,
            "align_self": null,
            "border": null,
            "bottom": null,
            "display": null,
            "flex": null,
            "flex_flow": null,
            "grid_area": null,
            "grid_auto_columns": null,
            "grid_auto_flow": null,
            "grid_auto_rows": null,
            "grid_column": null,
            "grid_gap": null,
            "grid_row": null,
            "grid_template_areas": null,
            "grid_template_columns": null,
            "grid_template_rows": null,
            "height": null,
            "justify_content": null,
            "justify_items": null,
            "left": null,
            "margin": null,
            "max_height": null,
            "max_width": null,
            "min_height": null,
            "min_width": null,
            "object_fit": null,
            "object_position": null,
            "order": null,
            "overflow": null,
            "overflow_x": null,
            "overflow_y": null,
            "padding": null,
            "right": null,
            "top": null,
            "visibility": null,
            "width": null
          }
        },
        "b0bc65b0138d4e3cb68ad9d57085d9e3": {
          "model_module": "@jupyter-widgets/base",
          "model_name": "LayoutModel",
          "model_module_version": "1.2.0",
          "state": {
            "_model_module": "@jupyter-widgets/base",
            "_model_module_version": "1.2.0",
            "_model_name": "LayoutModel",
            "_view_count": null,
            "_view_module": "@jupyter-widgets/base",
            "_view_module_version": "1.2.0",
            "_view_name": "LayoutView",
            "align_content": null,
            "align_items": null,
            "align_self": null,
            "border": null,
            "bottom": null,
            "display": null,
            "flex": null,
            "flex_flow": null,
            "grid_area": null,
            "grid_auto_columns": null,
            "grid_auto_flow": null,
            "grid_auto_rows": null,
            "grid_column": null,
            "grid_gap": null,
            "grid_row": null,
            "grid_template_areas": null,
            "grid_template_columns": null,
            "grid_template_rows": null,
            "height": null,
            "justify_content": null,
            "justify_items": null,
            "left": null,
            "margin": null,
            "max_height": null,
            "max_width": null,
            "min_height": null,
            "min_width": null,
            "object_fit": null,
            "object_position": null,
            "order": null,
            "overflow": null,
            "overflow_x": null,
            "overflow_y": null,
            "padding": null,
            "right": null,
            "top": null,
            "visibility": null,
            "width": null
          }
        },
        "680d13c08300441488d395173240068f": {
          "model_module": "@jupyter-widgets/controls",
          "model_name": "DescriptionStyleModel",
          "model_module_version": "1.5.0",
          "state": {
            "_model_module": "@jupyter-widgets/controls",
            "_model_module_version": "1.5.0",
            "_model_name": "DescriptionStyleModel",
            "_view_count": null,
            "_view_module": "@jupyter-widgets/base",
            "_view_module_version": "1.2.0",
            "_view_name": "StyleView",
            "description_width": ""
          }
        },
        "f84f8ee2022a4326b602fa941862d82e": {
          "model_module": "@jupyter-widgets/base",
          "model_name": "LayoutModel",
          "model_module_version": "1.2.0",
          "state": {
            "_model_module": "@jupyter-widgets/base",
            "_model_module_version": "1.2.0",
            "_model_name": "LayoutModel",
            "_view_count": null,
            "_view_module": "@jupyter-widgets/base",
            "_view_module_version": "1.2.0",
            "_view_name": "LayoutView",
            "align_content": null,
            "align_items": null,
            "align_self": null,
            "border": null,
            "bottom": null,
            "display": null,
            "flex": null,
            "flex_flow": null,
            "grid_area": null,
            "grid_auto_columns": null,
            "grid_auto_flow": null,
            "grid_auto_rows": null,
            "grid_column": null,
            "grid_gap": null,
            "grid_row": null,
            "grid_template_areas": null,
            "grid_template_columns": null,
            "grid_template_rows": null,
            "height": null,
            "justify_content": null,
            "justify_items": null,
            "left": null,
            "margin": null,
            "max_height": null,
            "max_width": null,
            "min_height": null,
            "min_width": null,
            "object_fit": null,
            "object_position": null,
            "order": null,
            "overflow": null,
            "overflow_x": null,
            "overflow_y": null,
            "padding": null,
            "right": null,
            "top": null,
            "visibility": null,
            "width": null
          }
        },
        "8afe50b0a2e74fbf8fba0ae60a3080d7": {
          "model_module": "@jupyter-widgets/controls",
          "model_name": "ProgressStyleModel",
          "model_module_version": "1.5.0",
          "state": {
            "_model_module": "@jupyter-widgets/controls",
            "_model_module_version": "1.5.0",
            "_model_name": "ProgressStyleModel",
            "_view_count": null,
            "_view_module": "@jupyter-widgets/base",
            "_view_module_version": "1.2.0",
            "_view_name": "StyleView",
            "bar_color": null,
            "description_width": ""
          }
        },
        "22681d149033455bb3fcdd3b5e2684d1": {
          "model_module": "@jupyter-widgets/base",
          "model_name": "LayoutModel",
          "model_module_version": "1.2.0",
          "state": {
            "_model_module": "@jupyter-widgets/base",
            "_model_module_version": "1.2.0",
            "_model_name": "LayoutModel",
            "_view_count": null,
            "_view_module": "@jupyter-widgets/base",
            "_view_module_version": "1.2.0",
            "_view_name": "LayoutView",
            "align_content": null,
            "align_items": null,
            "align_self": null,
            "border": null,
            "bottom": null,
            "display": null,
            "flex": null,
            "flex_flow": null,
            "grid_area": null,
            "grid_auto_columns": null,
            "grid_auto_flow": null,
            "grid_auto_rows": null,
            "grid_column": null,
            "grid_gap": null,
            "grid_row": null,
            "grid_template_areas": null,
            "grid_template_columns": null,
            "grid_template_rows": null,
            "height": null,
            "justify_content": null,
            "justify_items": null,
            "left": null,
            "margin": null,
            "max_height": null,
            "max_width": null,
            "min_height": null,
            "min_width": null,
            "object_fit": null,
            "object_position": null,
            "order": null,
            "overflow": null,
            "overflow_x": null,
            "overflow_y": null,
            "padding": null,
            "right": null,
            "top": null,
            "visibility": null,
            "width": null
          }
        },
        "ff0a5b3e808f4ad0ae4e99cb75cc32c1": {
          "model_module": "@jupyter-widgets/controls",
          "model_name": "DescriptionStyleModel",
          "model_module_version": "1.5.0",
          "state": {
            "_model_module": "@jupyter-widgets/controls",
            "_model_module_version": "1.5.0",
            "_model_name": "DescriptionStyleModel",
            "_view_count": null,
            "_view_module": "@jupyter-widgets/base",
            "_view_module_version": "1.2.0",
            "_view_name": "StyleView",
            "description_width": ""
          }
        },
        "937d1873a5bb4c8da6ff2fbb71a60805": {
          "model_module": "@jupyter-widgets/controls",
          "model_name": "HBoxModel",
          "model_module_version": "1.5.0",
          "state": {
            "_dom_classes": [],
            "_model_module": "@jupyter-widgets/controls",
            "_model_module_version": "1.5.0",
            "_model_name": "HBoxModel",
            "_view_count": null,
            "_view_module": "@jupyter-widgets/controls",
            "_view_module_version": "1.5.0",
            "_view_name": "HBoxView",
            "box_style": "",
            "children": [
              "IPY_MODEL_664e4cb15dc14bb58b6a0df01d8113e6",
              "IPY_MODEL_45c3928ec62044b784b2ec39b9226af1",
              "IPY_MODEL_4ac40c01f2ba47bea7b19b1633ba5bbf"
            ],
            "layout": "IPY_MODEL_22ef336492dc4b6aa7ced0e6e14f0095"
          }
        },
        "664e4cb15dc14bb58b6a0df01d8113e6": {
          "model_module": "@jupyter-widgets/controls",
          "model_name": "HTMLModel",
          "model_module_version": "1.5.0",
          "state": {
            "_dom_classes": [],
            "_model_module": "@jupyter-widgets/controls",
            "_model_module_version": "1.5.0",
            "_model_name": "HTMLModel",
            "_view_count": null,
            "_view_module": "@jupyter-widgets/controls",
            "_view_module_version": "1.5.0",
            "_view_name": "HTMLView",
            "description": "",
            "description_tooltip": null,
            "layout": "IPY_MODEL_c3eb3df0314944dabfdb6f917ac27901",
            "placeholder": "​",
            "style": "IPY_MODEL_b17ede2a89ba49d1bc2f35a7b8e0ec5e",
            "value": "5/5 * Epoch (valid): 100%"
          }
        },
        "45c3928ec62044b784b2ec39b9226af1": {
          "model_module": "@jupyter-widgets/controls",
          "model_name": "FloatProgressModel",
          "model_module_version": "1.5.0",
          "state": {
            "_dom_classes": [],
            "_model_module": "@jupyter-widgets/controls",
            "_model_module_version": "1.5.0",
            "_model_name": "FloatProgressModel",
            "_view_count": null,
            "_view_module": "@jupyter-widgets/controls",
            "_view_module_version": "1.5.0",
            "_view_name": "ProgressView",
            "bar_style": "success",
            "description": "",
            "description_tooltip": null,
            "layout": "IPY_MODEL_d96d298c6c97447f99268cc78be05aa6",
            "max": 18,
            "min": 0,
            "orientation": "horizontal",
            "style": "IPY_MODEL_54f50d63b92d4cfda700229afb0a5f96",
            "value": 18
          }
        },
        "4ac40c01f2ba47bea7b19b1633ba5bbf": {
          "model_module": "@jupyter-widgets/controls",
          "model_name": "HTMLModel",
          "model_module_version": "1.5.0",
          "state": {
            "_dom_classes": [],
            "_model_module": "@jupyter-widgets/controls",
            "_model_module_version": "1.5.0",
            "_model_name": "HTMLModel",
            "_view_count": null,
            "_view_module": "@jupyter-widgets/controls",
            "_view_module_version": "1.5.0",
            "_view_name": "HTMLView",
            "description": "",
            "description_tooltip": null,
            "layout": "IPY_MODEL_1e0b8e6b6a1f42188de103683f91d499",
            "placeholder": "​",
            "style": "IPY_MODEL_91cf6977b6be49d0bd594a08d921238d",
            "value": " 18/18 [00:02&lt;00:00,  7.77it/s, accuracy01=0.125, f1/_macro=0.906, f1/_micro=0.906, f1/_weighted=0.906, loss=0.275, lr=3.000e-07, momentum=0.900, precision/_macro=0.917, precision/_micro=0.906, precision/_weighted=0.922, recall/_macro=0.912, recall/_micro=0.906, recall/_weighted=0.906]"
          }
        },
        "22ef336492dc4b6aa7ced0e6e14f0095": {
          "model_module": "@jupyter-widgets/base",
          "model_name": "LayoutModel",
          "model_module_version": "1.2.0",
          "state": {
            "_model_module": "@jupyter-widgets/base",
            "_model_module_version": "1.2.0",
            "_model_name": "LayoutModel",
            "_view_count": null,
            "_view_module": "@jupyter-widgets/base",
            "_view_module_version": "1.2.0",
            "_view_name": "LayoutView",
            "align_content": null,
            "align_items": null,
            "align_self": null,
            "border": null,
            "bottom": null,
            "display": null,
            "flex": null,
            "flex_flow": null,
            "grid_area": null,
            "grid_auto_columns": null,
            "grid_auto_flow": null,
            "grid_auto_rows": null,
            "grid_column": null,
            "grid_gap": null,
            "grid_row": null,
            "grid_template_areas": null,
            "grid_template_columns": null,
            "grid_template_rows": null,
            "height": null,
            "justify_content": null,
            "justify_items": null,
            "left": null,
            "margin": null,
            "max_height": null,
            "max_width": null,
            "min_height": null,
            "min_width": null,
            "object_fit": null,
            "object_position": null,
            "order": null,
            "overflow": null,
            "overflow_x": null,
            "overflow_y": null,
            "padding": null,
            "right": null,
            "top": null,
            "visibility": null,
            "width": null
          }
        },
        "c3eb3df0314944dabfdb6f917ac27901": {
          "model_module": "@jupyter-widgets/base",
          "model_name": "LayoutModel",
          "model_module_version": "1.2.0",
          "state": {
            "_model_module": "@jupyter-widgets/base",
            "_model_module_version": "1.2.0",
            "_model_name": "LayoutModel",
            "_view_count": null,
            "_view_module": "@jupyter-widgets/base",
            "_view_module_version": "1.2.0",
            "_view_name": "LayoutView",
            "align_content": null,
            "align_items": null,
            "align_self": null,
            "border": null,
            "bottom": null,
            "display": null,
            "flex": null,
            "flex_flow": null,
            "grid_area": null,
            "grid_auto_columns": null,
            "grid_auto_flow": null,
            "grid_auto_rows": null,
            "grid_column": null,
            "grid_gap": null,
            "grid_row": null,
            "grid_template_areas": null,
            "grid_template_columns": null,
            "grid_template_rows": null,
            "height": null,
            "justify_content": null,
            "justify_items": null,
            "left": null,
            "margin": null,
            "max_height": null,
            "max_width": null,
            "min_height": null,
            "min_width": null,
            "object_fit": null,
            "object_position": null,
            "order": null,
            "overflow": null,
            "overflow_x": null,
            "overflow_y": null,
            "padding": null,
            "right": null,
            "top": null,
            "visibility": null,
            "width": null
          }
        },
        "b17ede2a89ba49d1bc2f35a7b8e0ec5e": {
          "model_module": "@jupyter-widgets/controls",
          "model_name": "DescriptionStyleModel",
          "model_module_version": "1.5.0",
          "state": {
            "_model_module": "@jupyter-widgets/controls",
            "_model_module_version": "1.5.0",
            "_model_name": "DescriptionStyleModel",
            "_view_count": null,
            "_view_module": "@jupyter-widgets/base",
            "_view_module_version": "1.2.0",
            "_view_name": "StyleView",
            "description_width": ""
          }
        },
        "d96d298c6c97447f99268cc78be05aa6": {
          "model_module": "@jupyter-widgets/base",
          "model_name": "LayoutModel",
          "model_module_version": "1.2.0",
          "state": {
            "_model_module": "@jupyter-widgets/base",
            "_model_module_version": "1.2.0",
            "_model_name": "LayoutModel",
            "_view_count": null,
            "_view_module": "@jupyter-widgets/base",
            "_view_module_version": "1.2.0",
            "_view_name": "LayoutView",
            "align_content": null,
            "align_items": null,
            "align_self": null,
            "border": null,
            "bottom": null,
            "display": null,
            "flex": null,
            "flex_flow": null,
            "grid_area": null,
            "grid_auto_columns": null,
            "grid_auto_flow": null,
            "grid_auto_rows": null,
            "grid_column": null,
            "grid_gap": null,
            "grid_row": null,
            "grid_template_areas": null,
            "grid_template_columns": null,
            "grid_template_rows": null,
            "height": null,
            "justify_content": null,
            "justify_items": null,
            "left": null,
            "margin": null,
            "max_height": null,
            "max_width": null,
            "min_height": null,
            "min_width": null,
            "object_fit": null,
            "object_position": null,
            "order": null,
            "overflow": null,
            "overflow_x": null,
            "overflow_y": null,
            "padding": null,
            "right": null,
            "top": null,
            "visibility": null,
            "width": null
          }
        },
        "54f50d63b92d4cfda700229afb0a5f96": {
          "model_module": "@jupyter-widgets/controls",
          "model_name": "ProgressStyleModel",
          "model_module_version": "1.5.0",
          "state": {
            "_model_module": "@jupyter-widgets/controls",
            "_model_module_version": "1.5.0",
            "_model_name": "ProgressStyleModel",
            "_view_count": null,
            "_view_module": "@jupyter-widgets/base",
            "_view_module_version": "1.2.0",
            "_view_name": "StyleView",
            "bar_color": null,
            "description_width": ""
          }
        },
        "1e0b8e6b6a1f42188de103683f91d499": {
          "model_module": "@jupyter-widgets/base",
          "model_name": "LayoutModel",
          "model_module_version": "1.2.0",
          "state": {
            "_model_module": "@jupyter-widgets/base",
            "_model_module_version": "1.2.0",
            "_model_name": "LayoutModel",
            "_view_count": null,
            "_view_module": "@jupyter-widgets/base",
            "_view_module_version": "1.2.0",
            "_view_name": "LayoutView",
            "align_content": null,
            "align_items": null,
            "align_self": null,
            "border": null,
            "bottom": null,
            "display": null,
            "flex": null,
            "flex_flow": null,
            "grid_area": null,
            "grid_auto_columns": null,
            "grid_auto_flow": null,
            "grid_auto_rows": null,
            "grid_column": null,
            "grid_gap": null,
            "grid_row": null,
            "grid_template_areas": null,
            "grid_template_columns": null,
            "grid_template_rows": null,
            "height": null,
            "justify_content": null,
            "justify_items": null,
            "left": null,
            "margin": null,
            "max_height": null,
            "max_width": null,
            "min_height": null,
            "min_width": null,
            "object_fit": null,
            "object_position": null,
            "order": null,
            "overflow": null,
            "overflow_x": null,
            "overflow_y": null,
            "padding": null,
            "right": null,
            "top": null,
            "visibility": null,
            "width": null
          }
        },
        "91cf6977b6be49d0bd594a08d921238d": {
          "model_module": "@jupyter-widgets/controls",
          "model_name": "DescriptionStyleModel",
          "model_module_version": "1.5.0",
          "state": {
            "_model_module": "@jupyter-widgets/controls",
            "_model_module_version": "1.5.0",
            "_model_name": "DescriptionStyleModel",
            "_view_count": null,
            "_view_module": "@jupyter-widgets/base",
            "_view_module_version": "1.2.0",
            "_view_name": "StyleView",
            "description_width": ""
          }
        }
      }
    }
  },
  "nbformat": 4,
  "nbformat_minor": 0
}