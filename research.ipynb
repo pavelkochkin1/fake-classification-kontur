{
 "cells": [
  {
   "cell_type": "code",
   "execution_count": 1,
   "id": "074a8fbc",
   "metadata": {},
   "outputs": [],
   "source": [
    "import numpy as np\n",
    "import pandas as pd\n",
    "import matplotlib.pyplot as plt\n",
    "import seaborn as sns \n",
    "sns.set(style=\"whitegrid\", palette='Dark2')"
   ]
  },
  {
   "cell_type": "code",
   "execution_count": 2,
   "id": "fb4fd364",
   "metadata": {},
   "outputs": [],
   "source": [
    "train_df = pd.read_table(\"dataset/train.tsv\")\n",
    "test_df = pd.read_table(\"dataset/test.tsv\")"
   ]
  },
  {
   "cell_type": "code",
   "execution_count": 3,
   "id": "a866ae4c",
   "metadata": {
    "scrolled": true
   },
   "outputs": [
    {
     "data": {
      "text/html": [
       "<div>\n",
       "<style scoped>\n",
       "    .dataframe tbody tr th:only-of-type {\n",
       "        vertical-align: middle;\n",
       "    }\n",
       "\n",
       "    .dataframe tbody tr th {\n",
       "        vertical-align: top;\n",
       "    }\n",
       "\n",
       "    .dataframe thead th {\n",
       "        text-align: right;\n",
       "    }\n",
       "</style>\n",
       "<table border=\"1\" class=\"dataframe\">\n",
       "  <thead>\n",
       "    <tr style=\"text-align: right;\">\n",
       "      <th></th>\n",
       "      <th>title</th>\n",
       "      <th>is_fake</th>\n",
       "    </tr>\n",
       "  </thead>\n",
       "  <tbody>\n",
       "    <tr>\n",
       "      <th>0</th>\n",
       "      <td>Москвичу Владимиру Клутину пришёл счёт за вмеш...</td>\n",
       "      <td>1</td>\n",
       "    </tr>\n",
       "    <tr>\n",
       "      <th>1</th>\n",
       "      <td>Агент Кокорина назвал езду по встречке житейск...</td>\n",
       "      <td>0</td>\n",
       "    </tr>\n",
       "    <tr>\n",
       "      <th>2</th>\n",
       "      <td>Госдума рассмотрит возможность введения секрет...</td>\n",
       "      <td>1</td>\n",
       "    </tr>\n",
       "    <tr>\n",
       "      <th>3</th>\n",
       "      <td>ФАС заблокировала поставку скоростных трамваев...</td>\n",
       "      <td>0</td>\n",
       "    </tr>\n",
       "    <tr>\n",
       "      <th>4</th>\n",
       "      <td>Против Навального завели дело о недоносительст...</td>\n",
       "      <td>1</td>\n",
       "    </tr>\n",
       "  </tbody>\n",
       "</table>\n",
       "</div>"
      ],
      "text/plain": [
       "                                               title  is_fake\n",
       "0  Москвичу Владимиру Клутину пришёл счёт за вмеш...        1\n",
       "1  Агент Кокорина назвал езду по встречке житейск...        0\n",
       "2  Госдума рассмотрит возможность введения секрет...        1\n",
       "3  ФАС заблокировала поставку скоростных трамваев...        0\n",
       "4  Против Навального завели дело о недоносительст...        1"
      ]
     },
     "execution_count": 3,
     "metadata": {},
     "output_type": "execute_result"
    }
   ],
   "source": [
    "train_df.head()"
   ]
  },
  {
   "cell_type": "code",
   "execution_count": 4,
   "id": "dcf1930d",
   "metadata": {},
   "outputs": [
    {
     "data": {
      "text/plain": [
       "<AxesSubplot:xlabel='is_fake', ylabel='is_fake'>"
      ]
     },
     "execution_count": 4,
     "metadata": {},
     "output_type": "execute_result"
    },
    {
     "data": {
      "image/png": "[encoded data removed]",
      "text/plain": [
       "<Figure size 432x288 with 1 Axes>"
      ]
     },
     "metadata": {},
     "output_type": "display_data"
    }
   ],
   "source": [
    "sns.barplot(data=train_df, y = train_df['is_fake'].value_counts(), x = train_df['is_fake'])"
   ]
  },
  {
   "cell_type": "code",
   "execution_count": 6,
   "id": "0c8b4aa9",
   "metadata": {},
   "outputs": [
    {
     "ename": "ModuleNotFoundError",
     "evalue": "No module named 'WordCloud'",
     "output_type": "error",
     "traceback": [
      "\u001b[0;31m---------------------------------------------------------------------------\u001b[0m",
      "\u001b[0;31mModuleNotFoundError\u001b[0m                       Traceback (most recent call last)",
      "\u001b[0;32m/var/folders/m0/9677s49d3bvfjvgs4x4b64w00000gn/T/ipykernel_66869/1510708960.py\u001b[0m in \u001b[0;36m<module>\u001b[0;34m\u001b[0m\n\u001b[0;32m----> 1\u001b[0;31m \u001b[0;32mimport\u001b[0m \u001b[0mWordCloud\u001b[0m\u001b[0;34m\u001b[0m\u001b[0;34m\u001b[0m\u001b[0m\n\u001b[0m",
      "\u001b[0;31mModuleNotFoundError\u001b[0m: No module named 'WordCloud'"
     ]
    }
   ],
   "source": [
    "import WordCloud"
   ]
  },
  {
   "cell_type": "markdown",
   "id": "f7862d6e",
   "metadata": {},
   "source": [
    "## Baseline"
   ]
  },
  {
   "cell_type": "code",
   "execution_count": 72,
   "id": "c1077fdb",
   "metadata": {},
   "outputs": [],
   "source": [
    "from sklearn.feature_extraction.text import CountVectorizer\n",
    "from sklearn.feature_extraction.text import TfidfTransformer\n",
    "from sklearn.naive_bayes import MultinomialNB\n",
    "from sklearn.pipeline import Pipeline\n",
    "from sklearn.model_selection import train_test_split\n",
    "from sklearn import metrics"
   ]
  },
  {
   "cell_type": "code",
   "execution_count": 73,
   "id": "c599c577",
   "metadata": {},
   "outputs": [],
   "source": [
    "text_clf = Pipeline([('vect', CountVectorizer()),\n",
    "                     ('tfidf', TfidfTransformer()),\n",
    "                     ('clf', MultinomialNB()),\n",
    "                     ])"
   ]
  },
  {
   "cell_type": "code",
   "execution_count": 74,
   "id": "dadc861e",
   "metadata": {},
   "outputs": [],
   "source": [
    "X_train, X_val, y_train, y_val = train_test_split(train_df['title'], train_df['is_fake'], test_size=0.33)"
   ]
  },
  {
   "cell_type": "code",
   "execution_count": 75,
   "id": "367e6577",
   "metadata": {},
   "outputs": [
    {
     "name": "stdout",
     "output_type": "stream",
     "text": [
      "X_train:  (3857,)\n",
      "y_train:  (3857,)\n",
      "X_val:  (1901,)\n",
      "y_val:  (1901,)\n"
     ]
    }
   ],
   "source": [
    "print('X_train: ',X_train.shape)\n",
    "print('y_train: ',y_train.shape)\n",
    "print('X_val: ',X_val.shape)\n",
    "print('y_val: ',y_val.shape)"
   ]
  },
  {
   "cell_type": "code",
   "execution_count": 76,
   "id": "620cfde9",
   "metadata": {},
   "outputs": [],
   "source": [
    "text_clf = text_clf.fit(X_train, y_train)"
   ]
  },
  {
   "cell_type": "code",
   "execution_count": 77,
   "id": "ac9f6670",
   "metadata": {},
   "outputs": [],
   "source": [
    "predicted = text_clf.predict(X_val)"
   ]
  },
  {
   "cell_type": "code",
   "execution_count": 78,
   "id": "25e3d710",
   "metadata": {},
   "outputs": [
    {
     "name": "stdout",
     "output_type": "stream",
     "text": [
      "              precision    recall  f1-score   support\n",
      "\n",
      "           0       0.88      0.74      0.81       965\n",
      "           1       0.77      0.90      0.83       936\n",
      "\n",
      "    accuracy                           0.82      1901\n",
      "   macro avg       0.83      0.82      0.82      1901\n",
      "weighted avg       0.83      0.82      0.82      1901\n",
      "\n"
     ]
    }
   ],
   "source": [
    "print(metrics.classification_report(y_val, predicted))"
   ]
  },
  {
   "cell_type": "code",
   "execution_count": 79,
   "id": "c94d7cb8",
   "metadata": {},
   "outputs": [
    {
     "data": {
      "text/plain": [
       "0.8300395256916997"
      ]
     },
     "execution_count": 79,
     "metadata": {},
     "output_type": "execute_result"
    }
   ],
   "source": [
    "metrics.f1_score(y_val, predicted)"
   ]
  },
  {
   "cell_type": "code",
   "execution_count": null,
   "id": "16798def",
   "metadata": {},
   "outputs": [],
   "source": []
  }
 ],
 "metadata": {
  "kernelspec": {
   "display_name": "Python 3.8.10 64-bit ('ml_env': conda)",
   "language": "python",
   "name": "python3810jvsc74a57bd098070679efb9d2a77062be855c6f9c224ffe22479fd6885a31c9910a2db5889b"
  },
  "language_info": {
   "codemirror_mode": {
    "name": "ipython",
    "version": 3
   },
   "file_extension": ".py",
   "mimetype": "text/x-python",
   "name": "python",
   "nbconvert_exporter": "python",
   "pygments_lexer": "ipython3",
   "version": "3.8.12"
  }
 },
 "nbformat": 4,
 "nbformat_minor": 5
}
