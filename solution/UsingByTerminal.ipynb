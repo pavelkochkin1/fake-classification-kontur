{
  "nbformat": 4,
  "nbformat_minor": 0,
  "metadata": {
    "colab": {
      "name": "UsingByTerminal.ipynb",
      "provenance": []
    },
    "kernelspec": {
      "name": "python3",
      "display_name": "Python 3"
    },
    "language_info": {
      "name": "python"
    },
    "accelerator": "GPU"
  },
  "cells": [
    {
      "cell_type": "code",
      "execution_count": 1,
      "metadata": {
        "colab": {
          "base_uri": "https://localhost:8080/"
        },
        "id": "7RncaVT-f7cZ",
        "outputId": "6ede0f26-dd81-484b-e32a-e0485a9b19ea"
      },
      "outputs": [
        {
          "output_type": "stream",
          "name": "stdout",
          "text": [
            "Cloning into 'fake-classification-kontur'...\n",
            "remote: Enumerating objects: 106, done.\u001b[K\n",
            "remote: Counting objects: 100% (106/106), done.\u001b[K\n",
            "remote: Compressing objects: 100% (68/68), done.\u001b[K\n",
            "remote: Total 106 (delta 63), reused 76 (delta 36), pack-reused 0\u001b[K\n",
            "Receiving objects: 100% (106/106), 283.65 KiB | 1.30 MiB/s, done.\n",
            "Resolving deltas: 100% (63/63), done.\n"
          ]
        }
      ],
      "source": [
        "!git clone https://github.com/pavelkochkin1/fake-classification-kontur.git"
      ]
    },
    {
      "cell_type": "code",
      "source": [
        "import os\n",
        "os.chdir('/content/fake-classification-kontur')"
      ],
      "metadata": {
        "id": "daIJ-Fdif9Xx"
      },
      "execution_count": 2,
      "outputs": []
    },
    {
      "cell_type": "markdown",
      "source": [
        "Установка пакетов"
      ],
      "metadata": {
        "id": "a_n8TTqHK7n5"
      }
    },
    {
      "cell_type": "code",
      "source": [
        "!pip install -r requirements.txt"
      ],
      "metadata": {
        "colab": {
          "base_uri": "https://localhost:8080/"
        },
        "id": "xKk79bYog2aR",
        "outputId": "cc5c8791-ddf4-41e6-d3e3-eeb53a17e90d"
      },
      "execution_count": 3,
      "outputs": [
        {
          "output_type": "stream",
          "name": "stdout",
          "text": [
            "Collecting transformers\n",
            "  Downloading transformers-4.18.0-py3-none-any.whl (4.0 MB)\n",
            "\u001b[K     |████████████████████████████████| 4.0 MB 30.2 MB/s \n",
            "\u001b[?25hCollecting catalyst\n",
            "  Downloading catalyst-22.2.1-py2.py3-none-any.whl (444 kB)\n",
            "\u001b[K     |████████████████████████████████| 444 kB 27.9 MB/s \n",
            "\u001b[?25hCollecting pymorphy2\n",
            "  Downloading pymorphy2-0.9.1-py3-none-any.whl (55 kB)\n",
            "\u001b[K     |████████████████████████████████| 55 kB 4.9 MB/s \n",
            "\u001b[?25hRequirement already satisfied: torch in /usr/local/lib/python3.7/dist-packages (from -r requirements.txt (line 4)) (1.10.0+cu111)\n",
            "Requirement already satisfied: numpy>=1.17 in /usr/local/lib/python3.7/dist-packages (from transformers->-r requirements.txt (line 1)) (1.21.6)\n",
            "Requirement already satisfied: regex!=2019.12.17 in /usr/local/lib/python3.7/dist-packages (from transformers->-r requirements.txt (line 1)) (2019.12.20)\n",
            "Collecting huggingface-hub<1.0,>=0.1.0\n",
            "  Downloading huggingface_hub-0.5.1-py3-none-any.whl (77 kB)\n",
            "\u001b[K     |████████████████████████████████| 77 kB 8.4 MB/s \n",
            "\u001b[?25hRequirement already satisfied: importlib-metadata in /usr/local/lib/python3.7/dist-packages (from transformers->-r requirements.txt (line 1)) (4.11.3)\n",
            "Requirement already satisfied: packaging>=20.0 in /usr/local/lib/python3.7/dist-packages (from transformers->-r requirements.txt (line 1)) (21.3)\n",
            "Collecting pyyaml>=5.1\n",
            "  Downloading PyYAML-6.0-cp37-cp37m-manylinux_2_5_x86_64.manylinux1_x86_64.manylinux_2_12_x86_64.manylinux2010_x86_64.whl (596 kB)\n",
            "\u001b[K     |████████████████████████████████| 596 kB 65.1 MB/s \n",
            "\u001b[?25hCollecting sacremoses\n",
            "  Downloading sacremoses-0.0.49-py3-none-any.whl (895 kB)\n",
            "\u001b[K     |████████████████████████████████| 895 kB 66.3 MB/s \n",
            "\u001b[?25hRequirement already satisfied: tqdm>=4.27 in /usr/local/lib/python3.7/dist-packages (from transformers->-r requirements.txt (line 1)) (4.64.0)\n",
            "Collecting tokenizers!=0.11.3,<0.13,>=0.11.1\n",
            "  Downloading tokenizers-0.12.1-cp37-cp37m-manylinux_2_12_x86_64.manylinux2010_x86_64.whl (6.6 MB)\n",
            "\u001b[K     |████████████████████████████████| 6.6 MB 57.9 MB/s \n",
            "\u001b[?25hRequirement already satisfied: requests in /usr/local/lib/python3.7/dist-packages (from transformers->-r requirements.txt (line 1)) (2.23.0)\n",
            "Requirement already satisfied: filelock in /usr/local/lib/python3.7/dist-packages (from transformers->-r requirements.txt (line 1)) (3.6.0)\n",
            "Requirement already satisfied: typing-extensions>=3.7.4.3 in /usr/local/lib/python3.7/dist-packages (from huggingface-hub<1.0,>=0.1.0->transformers->-r requirements.txt (line 1)) (4.1.1)\n",
            "Requirement already satisfied: pyparsing!=3.0.5,>=2.0.2 in /usr/local/lib/python3.7/dist-packages (from packaging>=20.0->transformers->-r requirements.txt (line 1)) (3.0.8)\n",
            "Collecting hydra-slayer>=0.4.0\n",
            "  Downloading hydra_slayer-0.4.0-py3-none-any.whl (13 kB)\n",
            "Collecting accelerate\n",
            "  Downloading accelerate-0.6.2-py3-none-any.whl (65 kB)\n",
            "\u001b[K     |████████████████████████████████| 65 kB 5.5 MB/s \n",
            "\u001b[?25hCollecting tensorboardX>=2.1.0\n",
            "  Downloading tensorboardX-2.5-py2.py3-none-any.whl (125 kB)\n",
            "\u001b[K     |████████████████████████████████| 125 kB 69.8 MB/s \n",
            "\u001b[?25hRequirement already satisfied: protobuf>=3.8.0 in /usr/local/lib/python3.7/dist-packages (from tensorboardX>=2.1.0->catalyst->-r requirements.txt (line 2)) (3.17.3)\n",
            "Requirement already satisfied: six in /usr/local/lib/python3.7/dist-packages (from tensorboardX>=2.1.0->catalyst->-r requirements.txt (line 2)) (1.15.0)\n",
            "Collecting dawg-python>=0.7.1\n",
            "  Downloading DAWG_Python-0.7.2-py2.py3-none-any.whl (11 kB)\n",
            "Collecting pymorphy2-dicts-ru<3.0,>=2.4\n",
            "  Downloading pymorphy2_dicts_ru-2.4.417127.4579844-py2.py3-none-any.whl (8.2 MB)\n",
            "\u001b[K     |████████████████████████████████| 8.2 MB 23.0 MB/s \n",
            "\u001b[?25hRequirement already satisfied: docopt>=0.6 in /usr/local/lib/python3.7/dist-packages (from pymorphy2->-r requirements.txt (line 3)) (0.6.2)\n",
            "Requirement already satisfied: zipp>=0.5 in /usr/local/lib/python3.7/dist-packages (from importlib-metadata->transformers->-r requirements.txt (line 1)) (3.8.0)\n",
            "Requirement already satisfied: urllib3!=1.25.0,!=1.25.1,<1.26,>=1.21.1 in /usr/local/lib/python3.7/dist-packages (from requests->transformers->-r requirements.txt (line 1)) (1.24.3)\n",
            "Requirement already satisfied: certifi>=2017.4.17 in /usr/local/lib/python3.7/dist-packages (from requests->transformers->-r requirements.txt (line 1)) (2021.10.8)\n",
            "Requirement already satisfied: chardet<4,>=3.0.2 in /usr/local/lib/python3.7/dist-packages (from requests->transformers->-r requirements.txt (line 1)) (3.0.4)\n",
            "Requirement already satisfied: idna<3,>=2.5 in /usr/local/lib/python3.7/dist-packages (from requests->transformers->-r requirements.txt (line 1)) (2.10)\n",
            "Requirement already satisfied: joblib in /usr/local/lib/python3.7/dist-packages (from sacremoses->transformers->-r requirements.txt (line 1)) (1.1.0)\n",
            "Requirement already satisfied: click in /usr/local/lib/python3.7/dist-packages (from sacremoses->transformers->-r requirements.txt (line 1)) (7.1.2)\n",
            "Installing collected packages: pyyaml, tokenizers, tensorboardX, sacremoses, pymorphy2-dicts-ru, hydra-slayer, huggingface-hub, dawg-python, accelerate, transformers, pymorphy2, catalyst\n",
            "  Attempting uninstall: pyyaml\n",
            "    Found existing installation: PyYAML 3.13\n",
            "    Uninstalling PyYAML-3.13:\n",
            "      Successfully uninstalled PyYAML-3.13\n",
            "Successfully installed accelerate-0.6.2 catalyst-22.2.1 dawg-python-0.7.2 huggingface-hub-0.5.1 hydra-slayer-0.4.0 pymorphy2-0.9.1 pymorphy2-dicts-ru-2.4.417127.4579844 pyyaml-6.0 sacremoses-0.0.49 tensorboardX-2.5 tokenizers-0.12.1 transformers-4.18.0\n"
          ]
        }
      ]
    },
    {
      "cell_type": "markdown",
      "source": [
        "Обучение модели и предсказание для тестовых данных. \n",
        "(Сохраняется в `predictions.tsv` в корне дирректории `fake-classification-kontur`)"
      ],
      "metadata": {
        "id": "ail41LFJLAQb"
      }
    },
    {
      "cell_type": "code",
      "source": [
        "!python src/train.py"
      ],
      "metadata": {
        "colab": {
          "base_uri": "https://localhost:8080/"
        },
        "id": "wLd5B1_BgJVM",
        "outputId": "046f275d-ddeb-4f91-9a15-78fc74d16c8d"
      },
      "execution_count": 4,
      "outputs": [
        {
          "output_type": "stream",
          "name": "stdout",
          "text": [
            "/usr/local/lib/python3.7/dist-packages/pandas/util/_decorators.py:311: ParserWarning: Falling back to the 'python' engine because the 'c' engine does not support regex separators (separators > 1 char and different from '\\s+' are interpreted as regex); you can avoid this warning by specifying engine='python'.\n",
            "  return func(*args, **kwargs)\n",
            "\r  0% 0/5182 [00:00<?, ?it/s]\r100% 5182/5182 [00:00<00:00, 855805.15it/s]\n",
            "\r  0% 0/576 [00:00<?, ?it/s]\r100% 576/576 [00:00<00:00, 960222.22it/s]\n",
            "100% 1000/1000 [00:00<00:00, 934768.00it/s]\n",
            "Downloading: 100% 585/585 [00:00<00:00, 629kB/s]\n",
            "Downloading: 100% 1.34M/1.34M [00:01<00:00, 1.09MB/s]\n",
            "Downloading: 100% 112/112 [00:00<00:00, 113kB/s]\n",
            "Read and processed data...\n",
            "Downloading: 100% 1.02k/1.02k [00:00<00:00, 1.15MB/s]\n",
            "Downloading: 100% 679M/679M [00:37<00:00, 19.0MB/s]\n",
            "Some weights of the model checkpoint at SkolkovoInstitute/russian_toxicity_classifier were not used when initializing BertModel: ['classifier.weight', 'classifier.bias']\n",
            "- This IS expected if you are initializing BertModel from the checkpoint of a model trained on another task or with another architecture (e.g. initializing a BertForSequenceClassification model from a BertForPreTraining model).\n",
            "- This IS NOT expected if you are initializing BertModel from the checkpoint of a model that you expect to be exactly identical (initializing a BertForSequenceClassification model from a BertForSequenceClassification model).\n",
            "Started training...\n",
            "1/5 * Epoch (train): 100% 162/162 [00:36<00:00,  4.47it/s, accuracy01=0.000e+00, f1/_macro=0.899, f1/_micro=0.900, f1/_weighted=0.899, loss=0.263, lr=3.000e-05, momentum=0.900, precision/_macro=0.917, precision/_micro=0.900, precision/_weighted=0.917, recall/_macro=0.900, recall/_micro=0.900, recall/_weighted=0.900]\n",
            "train (1/5) accuracy01: 0.04920879969123894 | accuracy01/std: 0.038004170066333776 | f1/_macro: 0.8537167947399833 | f1/_micro: 0.8537194307510124 | f1/_weighted: 0.8537131994929217 | loss: 0.3375488597768836 | loss/mean: 0.3375488597768836 | loss/std: 0.14431697424605208 | lr: 3e-05 | momentum: 0.9 | precision/_macro: 0.8538379227856384 | precision/_micro: 0.8537244307217291 | precision/_weighted: 0.8538839330818179 | recall/_macro: 0.8537776237826706 | recall/_micro: 0.8537244307217291 | recall/_weighted: 0.8537244307217291\n",
            "1/5 * Epoch (valid): 100% 18/18 [00:01<00:00, 17.03it/s, accuracy01=0.062, f1/_macro=0.906, f1/_micro=0.906, f1/_weighted=0.906, loss=0.181, lr=3.000e-05, momentum=0.900, precision/_macro=0.906, precision/_micro=0.906, precision/_weighted=0.908, recall/_macro=0.908, recall/_micro=0.906, recall/_weighted=0.906]\n",
            "valid (1/5) accuracy01: 0.0642361111111111 | accuracy01/std: 0.039661916656286815 | f1/_macro: 0.8642100476531558 | f1/_micro: 0.8645783333622488 | f1/_weighted: 0.8638417075436426 | loss: 0.304606666167577 | loss/mean: 0.304606666167577 | loss/std: 0.10417260253707104 | lr: 3e-05 | momentum: 0.9 | precision/_macro: 0.877877877877878 | precision/_micro: 0.8645833333333334 | precision/_weighted: 0.8823093927260595 | recall/_macro: 0.8696550973778696 | recall/_micro: 0.8645833333333334 | recall/_weighted: 0.8645833333333333\n",
            "* Epoch (1/5) lr: 3e-05 | momentum: 0.9\n",
            "2/5 * Epoch (train): 100% 162/162 [00:36<00:00,  4.45it/s, accuracy01=0.000e+00, f1/_macro=1.000, f1/_micro=1.000, f1/_weighted=1.000, loss=0.038, lr=3.000e-05, momentum=0.900, precision/_macro=1.000, precision/_micro=1.000, precision/_weighted=1.000, recall/_macro=1.000, recall/_micro=1.000, recall/_weighted=1.000]\n",
            "train (2/5) accuracy01: 0.0492087996912389 | accuracy01/std: 0.04134863629851857 | f1/_macro: 0.959081205112416 | f1/_micro: 0.9590841547925658 | f1/_weighted: 0.959083216282857 | loss: 0.11281427220430257 | loss/mean: 0.11281427220430257 | loss/std: 0.07604684997638023 | lr: 3e-05 | momentum: 0.9 | precision/_macro: 0.9591142714124818 | precision/_micro: 0.9590891547664995 | precision/_weighted: 0.9591012800438703 | recall/_macro: 0.9590721424042941 | recall/_micro: 0.9590891547664995 | recall/_weighted: 0.9590891547664995\n",
            "2/5 * Epoch (valid): 100% 18/18 [00:01<00:00, 16.72it/s, accuracy01=0.062, f1/_macro=1.000, f1/_micro=1.000, f1/_weighted=1.000, loss=0.098, lr=3.000e-05, momentum=0.900, precision/_macro=1.000, precision/_micro=1.000, precision/_weighted=1.000, recall/_macro=1.000, recall/_micro=1.000, recall/_weighted=1.000]\n",
            "valid (2/5) accuracy01: 0.0642361111111111 | accuracy01/std: 0.039661916656286815 | f1/_macro: 0.9062438851657744 | f1/_micro: 0.906245000027586 | f1/_weighted: 0.9062269307568791 | loss: 0.238386576788293 | loss/mean: 0.238386576788293 | loss/std: 0.11480899471555957 | lr: 3e-05 | momentum: 0.9 | precision/_macro: 0.9092129937692819 | precision/_micro: 0.90625 | precision/_weighted: 0.9118274000362954 | recall/_macro: 0.9088963841439088 | recall/_micro: 0.90625 | recall/_weighted: 0.90625\n",
            "* Epoch (2/5) lr: 3e-06 | momentum: 0.9\n",
            "3/5 * Epoch (train): 100% 162/162 [00:36<00:00,  4.40it/s, accuracy01=0.067, f1/_macro=1.000, f1/_micro=1.000, f1/_weighted=1.000, loss=0.003, lr=3.000e-06, momentum=0.900, precision/_macro=1.000, precision/_micro=1.000, precision/_weighted=1.000, recall/_macro=1.000, recall/_micro=1.000, recall/_weighted=1.000]\n",
            "train (3/5) accuracy01: 0.04920879971136783 | accuracy01/std: 0.03942708660816228 | f1/_macro: 0.995170244104522 | f1/_micro: 0.995170607898529 | f1/_weighted: 0.9951704866617916 | loss: 0.02127940957010329 | loss/mean: 0.02127940957010329 | loss/std: 0.026370776029850777 | lr: 3e-06 | momentum: 0.9 | precision/_macro: 0.9952084811633904 | precision/_micro: 0.995175607873408 | precision/_weighted: 0.9951920445183993 | recall/_macro: 0.9951586877869036 | recall/_micro: 0.995175607873408 | recall/_weighted: 0.995175607873408\n",
            "3/5 * Epoch (valid): 100% 18/18 [00:01<00:00, 16.68it/s, accuracy01=0.062, f1/_macro=0.937, f1/_micro=0.937, f1/_weighted=0.937, loss=0.102, lr=3.000e-06, momentum=0.900, precision/_macro=0.947, precision/_micro=0.938, precision/_weighted=0.944, recall/_macro=0.933, recall/_micro=0.938, recall/_weighted=0.937]\n",
            "valid (3/5) accuracy01: 0.0642361111111111 | accuracy01/std: 0.039661916656286815 | f1/_macro: 0.9147649995908835 | f1/_micro: 0.9149255555828799 | f1/_weighted: 0.9149576672342401 | loss: 0.232960174481074 | loss/mean: 0.232960174481074 | loss/std: 0.13990443656315246 | lr: 3e-06 | momentum: 0.9 | precision/_macro: 0.9145260972430109 | precision/_micro: 0.9149305555555556 | precision/_weighted: 0.9151327847118278 | recall/_macro: 0.9151525042614151 | recall/_micro: 0.9149305555555556 | recall/_weighted: 0.9149305555555555\n",
            "* Epoch (3/5) lr: 3e-06 | momentum: 0.9\n",
            "4/5 * Epoch (train): 100% 162/162 [00:37<00:00,  4.36it/s, accuracy01=0.000e+00, f1/_macro=1.000, f1/_micro=1.000, f1/_weighted=1.000, loss=0.003, lr=3.000e-06, momentum=0.900, precision/_macro=1.000, precision/_micro=1.000, precision/_weighted=1.000, recall/_macro=1.000, recall/_micro=1.000, recall/_weighted=1.000]\n",
            "train (4/5) accuracy01: 0.04920879969123891 | accuracy01/std: 0.0386337957674033 | f1/_macro: 0.9980651394099966 | f1/_micro: 0.9980652431744115 | f1/_weighted: 0.9980652213386797 | loss: 0.010500021272747614 | loss/mean: 0.010500021272747614 | loss/std: 0.020150753884030464 | lr: 3e-06 | momentum: 0.9 | precision/_macro: 0.9980837963327112 | precision/_micro: 0.9980702431493632 | precision/_weighted: 0.9980749573000929 | recall/_macro: 0.9980612406629708 | recall/_micro: 0.9980702431493632 | recall/_weighted: 0.9980702431493631\n",
            "4/5 * Epoch (valid): 100% 18/18 [00:01<00:00, 16.53it/s, accuracy01=0.062, f1/_macro=0.937, f1/_micro=0.937, f1/_weighted=0.937, loss=0.115, lr=3.000e-06, momentum=0.900, precision/_macro=0.947, precision/_micro=0.938, precision/_weighted=0.944, recall/_macro=0.933, recall/_micro=0.938, recall/_weighted=0.937]\n",
            "valid (4/5) accuracy01: 0.0642361111111111 | accuracy01/std: 0.039661916656286815 | f1/_macro: 0.9182180923530829 | f1/_micro: 0.9183977778049988 | f1/_weighted: 0.9184177430062463 | loss: 0.2532892947395642 | loss/mean: 0.2532892947395642 | loss/std: 0.15532082190150276 | lr: 3e-06 | momentum: 0.9 | precision/_macro: 0.9180434782608695 | precision/_micro: 0.9184027777777778 | precision/_weighted: 0.9184926026570048 | recall/_macro: 0.9184528342944185 | recall/_micro: 0.9184027777777778 | recall/_weighted: 0.9184027777777777\n",
            "* Epoch (4/5) lr: 3.0000000000000004e-07 | momentum: 0.9\n",
            "5/5 * Epoch (train): 100% 162/162 [00:37<00:00,  4.34it/s, accuracy01=0.067, f1/_macro=1.000, f1/_micro=1.000, f1/_weighted=1.000, loss=0.001, lr=3.000e-07, momentum=0.900, precision/_macro=1.000, precision/_micro=1.000, precision/_weighted=1.000, recall/_macro=1.000, recall/_micro=1.000, recall/_weighted=1.000]\n",
            "train (5/5) accuracy01: 0.04920879971136781 | accuracy01/std: 0.03656987298388921 | f1/_macro: 0.9994160494927735 | f1/_micro: 0.9994160729698233 | f1/_weighted: 0.9994160708370695 | loss: 0.007250755961782388 | loss/mean: 0.007250755961782388 | loss/std: 0.0146810609016922 | lr: 3.0000000000000004e-07 | momentum: 0.9 | precision/_macro: 0.9994250670755078 | precision/_micro: 0.999421072944809 | precision/_weighted: 0.9994217386332588 | recall/_macro: 0.9994177018633541 | recall/_micro: 0.999421072944809 | recall/_weighted: 0.999421072944809\n",
            "5/5 * Epoch (valid): 100% 18/18 [00:01<00:00, 16.55it/s, accuracy01=0.062, f1/_macro=0.937, f1/_micro=0.937, f1/_weighted=0.937, loss=0.107, lr=3.000e-07, momentum=0.900, precision/_macro=0.947, precision/_micro=0.938, precision/_weighted=0.944, recall/_macro=0.933, recall/_micro=0.938, recall/_weighted=0.937]\n",
            "valid (5/5) accuracy01: 0.0642361111111111 | accuracy01/std: 0.039661916656286815 | f1/_macro: 0.9182437751342631 | f1/_micro: 0.9183977778049988 | f1/_weighted: 0.918428578792107 | loss: 0.25593650713562965 | loss/mean: 0.25593650713562965 | loss/std: 0.15659132873435197 | lr: 3.0000000000000004e-07 | momentum: 0.9 | precision/_macro: 0.9180025107430834 | precision/_micro: 0.9184027777777778 | precision/_weighted: 0.9186029112951251 | recall/_macro: 0.9186341711094186 | recall/_micro: 0.9184027777777778 | recall/_weighted: 0.9184027777777777\n",
            "* Epoch (5/5) lr: 3.0000000000000004e-07 | momentum: 0.9\n",
            "Top models:\n",
            "logdir/checkpoints/model.0005.pth\t5.0000\n",
            "100% 18/18 [00:01<00:00, 15.69it/s]\n",
            "\n",
            "f1_score: 0.9217970049916806\n",
            "              precision    recall  f1-score   support\n",
            "\n",
            "           0       0.91      0.92      0.91       273\n",
            "           1       0.93      0.91      0.92       303\n",
            "\n",
            "    accuracy                           0.92       576\n",
            "   macro avg       0.92      0.92      0.92       576\n",
            "weighted avg       0.92      0.92      0.92       576\n",
            "\n",
            "Model saving...\n",
            "/usr/local/lib/python3.7/dist-packages/pandas/util/_decorators.py:311: ParserWarning: Falling back to the 'python' engine because the 'c' engine does not support regex separators (separators > 1 char and different from '\\s+' are interpreted as regex); you can avoid this warning by specifying engine='python'.\n",
            "  return func(*args, **kwargs)\n",
            "100% 32/32 [00:02<00:00, 15.95it/s]\n",
            "Test data prediction in predictions.tsv\n"
          ]
        }
      ]
    },
    {
      "cell_type": "code",
      "source": [
        "import pandas as pd\n",
        "\n",
        "pred = pd.read_csv('predictions.tsv', index_col=0)"
      ],
      "metadata": {
        "id": "Ep9adSh2kC-k"
      },
      "execution_count": 18,
      "outputs": []
    },
    {
      "cell_type": "code",
      "source": [
        "pred.is_fake.value_counts()"
      ],
      "metadata": {
        "colab": {
          "base_uri": "https://localhost:8080/"
        },
        "id": "-9C--5ZyJRjP",
        "outputId": "1b1a33fb-ec53-44f7-b542-07a4fcc5d7ab"
      },
      "execution_count": 19,
      "outputs": [
        {
          "output_type": "execute_result",
          "data": {
            "text/plain": [
              "0    501\n",
              "1    499\n",
              "Name: is_fake, dtype: int64"
            ]
          },
          "metadata": {},
          "execution_count": 19
        }
      ]
    },
    {
      "cell_type": "code",
      "source": [
        "pred.head()"
      ],
      "metadata": {
        "colab": {
          "base_uri": "https://localhost:8080/",
          "height": 201
        },
        "id": "urLyo9fLLW7z",
        "outputId": "1cbf2332-4e30-4b42-872d-073912b6221b"
      },
      "execution_count": 20,
      "outputs": [
        {
          "output_type": "execute_result",
          "data": {
            "text/plain": [
              "                                               title  is_fake\n",
              "0  Роскомнадзор представил реестр сочетаний цвето...        1\n",
              "1  Ночью под Минском на президентской горе Белара...        1\n",
              "2  Бывший спичрайтер Юрия Лозы рассказал о трудно...        1\n",
              "3  Сельская церковь, собравшая рекордно низкое ко...        1\n",
              "4  Акции Google рухнули после объявления о переза...        0"
            ],
            "text/html": [
              "\n",
              "  <div id=\"df-bf2bc0b4-cfb5-4cde-9e6e-a47850b1dcb5\">\n",
              "    <div class=\"colab-df-container\">\n",
              "      <div>\n",
              "<style scoped>\n",
              "    .dataframe tbody tr th:only-of-type {\n",
              "        vertical-align: middle;\n",
              "    }\n",
              "\n",
              "    .dataframe tbody tr th {\n",
              "        vertical-align: top;\n",
              "    }\n",
              "\n",
              "    .dataframe thead th {\n",
              "        text-align: right;\n",
              "    }\n",
              "</style>\n",
              "<table border=\"1\" class=\"dataframe\">\n",
              "  <thead>\n",
              "    <tr style=\"text-align: right;\">\n",
              "      <th></th>\n",
              "      <th>title</th>\n",
              "      <th>is_fake</th>\n",
              "    </tr>\n",
              "  </thead>\n",
              "  <tbody>\n",
              "    <tr>\n",
              "      <th>0</th>\n",
              "      <td>Роскомнадзор представил реестр сочетаний цвето...</td>\n",
              "      <td>1</td>\n",
              "    </tr>\n",
              "    <tr>\n",
              "      <th>1</th>\n",
              "      <td>Ночью под Минском на президентской горе Белара...</td>\n",
              "      <td>1</td>\n",
              "    </tr>\n",
              "    <tr>\n",
              "      <th>2</th>\n",
              "      <td>Бывший спичрайтер Юрия Лозы рассказал о трудно...</td>\n",
              "      <td>1</td>\n",
              "    </tr>\n",
              "    <tr>\n",
              "      <th>3</th>\n",
              "      <td>Сельская церковь, собравшая рекордно низкое ко...</td>\n",
              "      <td>1</td>\n",
              "    </tr>\n",
              "    <tr>\n",
              "      <th>4</th>\n",
              "      <td>Акции Google рухнули после объявления о переза...</td>\n",
              "      <td>0</td>\n",
              "    </tr>\n",
              "  </tbody>\n",
              "</table>\n",
              "</div>\n",
              "      <button class=\"colab-df-convert\" onclick=\"convertToInteractive('df-bf2bc0b4-cfb5-4cde-9e6e-a47850b1dcb5')\"\n",
              "              title=\"Convert this dataframe to an interactive table.\"\n",
              "              style=\"display:none;\">\n",
              "        \n",
              "  <svg xmlns=\"http://www.w3.org/2000/svg\" height=\"24px\"viewBox=\"0 0 24 24\"\n",
              "       width=\"24px\">\n",
              "    <path d=\"M0 0h24v24H0V0z\" fill=\"none\"/>\n",
              "    <path d=\"M18.56 5.44l.94 2.06.94-2.06 2.06-.94-2.06-.94-.94-2.06-.94 2.06-2.06.94zm-11 1L8.5 8.5l.94-2.06 2.06-.94-2.06-.94L8.5 2.5l-.94 2.06-2.06.94zm10 10l.94 2.06.94-2.06 2.06-.94-2.06-.94-.94-2.06-.94 2.06-2.06.94z\"/><path d=\"M17.41 7.96l-1.37-1.37c-.4-.4-.92-.59-1.43-.59-.52 0-1.04.2-1.43.59L10.3 9.45l-7.72 7.72c-.78.78-.78 2.05 0 2.83L4 21.41c.39.39.9.59 1.41.59.51 0 1.02-.2 1.41-.59l7.78-7.78 2.81-2.81c.8-.78.8-2.07 0-2.86zM5.41 20L4 18.59l7.72-7.72 1.47 1.35L5.41 20z\"/>\n",
              "  </svg>\n",
              "      </button>\n",
              "      \n",
              "  <style>\n",
              "    .colab-df-container {\n",
              "      display:flex;\n",
              "      flex-wrap:wrap;\n",
              "      gap: 12px;\n",
              "    }\n",
              "\n",
              "    .colab-df-convert {\n",
              "      background-color: #E8F0FE;\n",
              "      border: none;\n",
              "      border-radius: 50%;\n",
              "      cursor: pointer;\n",
              "      display: none;\n",
              "      fill: #1967D2;\n",
              "      height: 32px;\n",
              "      padding: 0 0 0 0;\n",
              "      width: 32px;\n",
              "    }\n",
              "\n",
              "    .colab-df-convert:hover {\n",
              "      background-color: #E2EBFA;\n",
              "      box-shadow: 0px 1px 2px rgba(60, 64, 67, 0.3), 0px 1px 3px 1px rgba(60, 64, 67, 0.15);\n",
              "      fill: #174EA6;\n",
              "    }\n",
              "\n",
              "    [theme=dark] .colab-df-convert {\n",
              "      background-color: #3B4455;\n",
              "      fill: #D2E3FC;\n",
              "    }\n",
              "\n",
              "    [theme=dark] .colab-df-convert:hover {\n",
              "      background-color: #434B5C;\n",
              "      box-shadow: 0px 1px 3px 1px rgba(0, 0, 0, 0.15);\n",
              "      filter: drop-shadow(0px 1px 2px rgba(0, 0, 0, 0.3));\n",
              "      fill: #FFFFFF;\n",
              "    }\n",
              "  </style>\n",
              "\n",
              "      <script>\n",
              "        const buttonEl =\n",
              "          document.querySelector('#df-bf2bc0b4-cfb5-4cde-9e6e-a47850b1dcb5 button.colab-df-convert');\n",
              "        buttonEl.style.display =\n",
              "          google.colab.kernel.accessAllowed ? 'block' : 'none';\n",
              "\n",
              "        async function convertToInteractive(key) {\n",
              "          const element = document.querySelector('#df-bf2bc0b4-cfb5-4cde-9e6e-a47850b1dcb5');\n",
              "          const dataTable =\n",
              "            await google.colab.kernel.invokeFunction('convertToInteractive',\n",
              "                                                     [key], {});\n",
              "          if (!dataTable) return;\n",
              "\n",
              "          const docLinkHtml = 'Like what you see? Visit the ' +\n",
              "            '<a target=\"_blank\" href=https://colab.research.google.com/notebooks/data_table.ipynb>data table notebook</a>'\n",
              "            + ' to learn more about interactive tables.';\n",
              "          element.innerHTML = '';\n",
              "          dataTable['output_type'] = 'display_data';\n",
              "          await google.colab.output.renderOutput(dataTable, element);\n",
              "          const docLink = document.createElement('div');\n",
              "          docLink.innerHTML = docLinkHtml;\n",
              "          element.appendChild(docLink);\n",
              "        }\n",
              "      </script>\n",
              "    </div>\n",
              "  </div>\n",
              "  "
            ]
          },
          "metadata": {},
          "execution_count": 20
        }
      ]
    },
    {
      "cell_type": "markdown",
      "source": [
        "### Запуск через файл:"
      ],
      "metadata": {
        "id": "iG6mOy-iJyXC"
      }
    },
    {
      "cell_type": "code",
      "source": [
        "!python src/predict.py -f dataset/test.tsv"
      ],
      "metadata": {
        "colab": {
          "base_uri": "https://localhost:8080/"
        },
        "id": "dS7EbBC2J0l2",
        "outputId": "9a0c7da4-acd1-4628-d8ac-c81789d12b67"
      },
      "execution_count": 11,
      "outputs": [
        {
          "output_type": "stream",
          "name": "stdout",
          "text": [
            "/usr/local/lib/python3.7/dist-packages/pandas/util/_decorators.py:311: ParserWarning: Falling back to the 'python' engine because the 'c' engine does not support regex separators (separators > 1 char and different from '\\s+' are interpreted as regex); you can avoid this warning by specifying engine='python'.\n",
            "  return func(*args, **kwargs)\n",
            "100% 1000/1000 [00:00<00:00, 850081.88it/s]\n",
            "100% 32/32 [00:01<00:00, 16.36it/s]\n",
            "Prediction in dataset/test_pred.tsv\n"
          ]
        }
      ]
    },
    {
      "cell_type": "code",
      "source": [
        "pred = pd.read_csv('predictions.tsv', index_col=0)\n",
        "pred.head()"
      ],
      "metadata": {
        "colab": {
          "base_uri": "https://localhost:8080/",
          "height": 201
        },
        "id": "Oj4Q7F-mKJry",
        "outputId": "f107fd96-7274-4a17-b525-7f2730064723"
      },
      "execution_count": 14,
      "outputs": [
        {
          "output_type": "execute_result",
          "data": {
            "text/plain": [
              "                                               title  is_fake\n",
              "0  Роскомнадзор представил реестр сочетаний цвето...        1\n",
              "1  Ночью под Минском на президентской горе Белара...        1\n",
              "2  Бывший спичрайтер Юрия Лозы рассказал о трудно...        1\n",
              "3  Сельская церковь, собравшая рекордно низкое ко...        1\n",
              "4  Акции Google рухнули после объявления о переза...        0"
            ],
            "text/html": [
              "\n",
              "  <div id=\"df-7cd4b680-2f2d-42fd-b118-c38416b84b64\">\n",
              "    <div class=\"colab-df-container\">\n",
              "      <div>\n",
              "<style scoped>\n",
              "    .dataframe tbody tr th:only-of-type {\n",
              "        vertical-align: middle;\n",
              "    }\n",
              "\n",
              "    .dataframe tbody tr th {\n",
              "        vertical-align: top;\n",
              "    }\n",
              "\n",
              "    .dataframe thead th {\n",
              "        text-align: right;\n",
              "    }\n",
              "</style>\n",
              "<table border=\"1\" class=\"dataframe\">\n",
              "  <thead>\n",
              "    <tr style=\"text-align: right;\">\n",
              "      <th></th>\n",
              "      <th>title</th>\n",
              "      <th>is_fake</th>\n",
              "    </tr>\n",
              "  </thead>\n",
              "  <tbody>\n",
              "    <tr>\n",
              "      <th>0</th>\n",
              "      <td>Роскомнадзор представил реестр сочетаний цвето...</td>\n",
              "      <td>1</td>\n",
              "    </tr>\n",
              "    <tr>\n",
              "      <th>1</th>\n",
              "      <td>Ночью под Минском на президентской горе Белара...</td>\n",
              "      <td>1</td>\n",
              "    </tr>\n",
              "    <tr>\n",
              "      <th>2</th>\n",
              "      <td>Бывший спичрайтер Юрия Лозы рассказал о трудно...</td>\n",
              "      <td>1</td>\n",
              "    </tr>\n",
              "    <tr>\n",
              "      <th>3</th>\n",
              "      <td>Сельская церковь, собравшая рекордно низкое ко...</td>\n",
              "      <td>1</td>\n",
              "    </tr>\n",
              "    <tr>\n",
              "      <th>4</th>\n",
              "      <td>Акции Google рухнули после объявления о переза...</td>\n",
              "      <td>0</td>\n",
              "    </tr>\n",
              "  </tbody>\n",
              "</table>\n",
              "</div>\n",
              "      <button class=\"colab-df-convert\" onclick=\"convertToInteractive('df-7cd4b680-2f2d-42fd-b118-c38416b84b64')\"\n",
              "              title=\"Convert this dataframe to an interactive table.\"\n",
              "              style=\"display:none;\">\n",
              "        \n",
              "  <svg xmlns=\"http://www.w3.org/2000/svg\" height=\"24px\"viewBox=\"0 0 24 24\"\n",
              "       width=\"24px\">\n",
              "    <path d=\"M0 0h24v24H0V0z\" fill=\"none\"/>\n",
              "    <path d=\"M18.56 5.44l.94 2.06.94-2.06 2.06-.94-2.06-.94-.94-2.06-.94 2.06-2.06.94zm-11 1L8.5 8.5l.94-2.06 2.06-.94-2.06-.94L8.5 2.5l-.94 2.06-2.06.94zm10 10l.94 2.06.94-2.06 2.06-.94-2.06-.94-.94-2.06-.94 2.06-2.06.94z\"/><path d=\"M17.41 7.96l-1.37-1.37c-.4-.4-.92-.59-1.43-.59-.52 0-1.04.2-1.43.59L10.3 9.45l-7.72 7.72c-.78.78-.78 2.05 0 2.83L4 21.41c.39.39.9.59 1.41.59.51 0 1.02-.2 1.41-.59l7.78-7.78 2.81-2.81c.8-.78.8-2.07 0-2.86zM5.41 20L4 18.59l7.72-7.72 1.47 1.35L5.41 20z\"/>\n",
              "  </svg>\n",
              "      </button>\n",
              "      \n",
              "  <style>\n",
              "    .colab-df-container {\n",
              "      display:flex;\n",
              "      flex-wrap:wrap;\n",
              "      gap: 12px;\n",
              "    }\n",
              "\n",
              "    .colab-df-convert {\n",
              "      background-color: #E8F0FE;\n",
              "      border: none;\n",
              "      border-radius: 50%;\n",
              "      cursor: pointer;\n",
              "      display: none;\n",
              "      fill: #1967D2;\n",
              "      height: 32px;\n",
              "      padding: 0 0 0 0;\n",
              "      width: 32px;\n",
              "    }\n",
              "\n",
              "    .colab-df-convert:hover {\n",
              "      background-color: #E2EBFA;\n",
              "      box-shadow: 0px 1px 2px rgba(60, 64, 67, 0.3), 0px 1px 3px 1px rgba(60, 64, 67, 0.15);\n",
              "      fill: #174EA6;\n",
              "    }\n",
              "\n",
              "    [theme=dark] .colab-df-convert {\n",
              "      background-color: #3B4455;\n",
              "      fill: #D2E3FC;\n",
              "    }\n",
              "\n",
              "    [theme=dark] .colab-df-convert:hover {\n",
              "      background-color: #434B5C;\n",
              "      box-shadow: 0px 1px 3px 1px rgba(0, 0, 0, 0.15);\n",
              "      filter: drop-shadow(0px 1px 2px rgba(0, 0, 0, 0.3));\n",
              "      fill: #FFFFFF;\n",
              "    }\n",
              "  </style>\n",
              "\n",
              "      <script>\n",
              "        const buttonEl =\n",
              "          document.querySelector('#df-7cd4b680-2f2d-42fd-b118-c38416b84b64 button.colab-df-convert');\n",
              "        buttonEl.style.display =\n",
              "          google.colab.kernel.accessAllowed ? 'block' : 'none';\n",
              "\n",
              "        async function convertToInteractive(key) {\n",
              "          const element = document.querySelector('#df-7cd4b680-2f2d-42fd-b118-c38416b84b64');\n",
              "          const dataTable =\n",
              "            await google.colab.kernel.invokeFunction('convertToInteractive',\n",
              "                                                     [key], {});\n",
              "          if (!dataTable) return;\n",
              "\n",
              "          const docLinkHtml = 'Like what you see? Visit the ' +\n",
              "            '<a target=\"_blank\" href=https://colab.research.google.com/notebooks/data_table.ipynb>data table notebook</a>'\n",
              "            + ' to learn more about interactive tables.';\n",
              "          element.innerHTML = '';\n",
              "          dataTable['output_type'] = 'display_data';\n",
              "          await google.colab.output.renderOutput(dataTable, element);\n",
              "          const docLink = document.createElement('div');\n",
              "          docLink.innerHTML = docLinkHtml;\n",
              "          element.appendChild(docLink);\n",
              "        }\n",
              "      </script>\n",
              "    </div>\n",
              "  </div>\n",
              "  "
            ]
          },
          "metadata": {},
          "execution_count": 14
        }
      ]
    },
    {
      "cell_type": "markdown",
      "source": [
        "### Запуск через строку"
      ],
      "metadata": {
        "id": "S6IVyHXyJ74r"
      }
    },
    {
      "cell_type": "markdown",
      "source": [
        "**Фейк**"
      ],
      "metadata": {
        "id": "4nxp2zGtKBsC"
      }
    },
    {
      "cell_type": "code",
      "source": [
        "!python src/predict.py -t \"Банк 'Тинькофф' переименуют в 'Российскую соборность имени П.А. Столыпина'\""
      ],
      "metadata": {
        "colab": {
          "base_uri": "https://localhost:8080/"
        },
        "id": "erbTqHT_J2fl",
        "outputId": "5fbd9fb4-e74e-4693-d384-507eecbfd8a9"
      },
      "execution_count": 12,
      "outputs": [
        {
          "output_type": "stream",
          "name": "stdout",
          "text": [
            "100% 1/1 [00:00<00:00, 20661.60it/s]\n",
            "100% 1/1 [00:00<00:00, 45.65it/s]\n"
          ]
        }
      ]
    },
    {
      "cell_type": "code",
      "source": [
        "pred = pd.read_csv('text_pred.tsv', index_col=0)\n",
        "pred.head()"
      ],
      "metadata": {
        "colab": {
          "base_uri": "https://localhost:8080/",
          "height": 78
        },
        "id": "jKF6tXOSKDEu",
        "outputId": "bb879d83-2e9c-4cc6-b31e-c57afbb9ba07"
      },
      "execution_count": 15,
      "outputs": [
        {
          "output_type": "execute_result",
          "data": {
            "text/plain": [
              "                                               title  is_fake\n",
              "0  банк 'тинькофф' переименуют в 'российскую собо...        1"
            ],
            "text/html": [
              "\n",
              "  <div id=\"df-cccf6161-f5c9-4026-8978-621905507236\">\n",
              "    <div class=\"colab-df-container\">\n",
              "      <div>\n",
              "<style scoped>\n",
              "    .dataframe tbody tr th:only-of-type {\n",
              "        vertical-align: middle;\n",
              "    }\n",
              "\n",
              "    .dataframe tbody tr th {\n",
              "        vertical-align: top;\n",
              "    }\n",
              "\n",
              "    .dataframe thead th {\n",
              "        text-align: right;\n",
              "    }\n",
              "</style>\n",
              "<table border=\"1\" class=\"dataframe\">\n",
              "  <thead>\n",
              "    <tr style=\"text-align: right;\">\n",
              "      <th></th>\n",
              "      <th>title</th>\n",
              "      <th>is_fake</th>\n",
              "    </tr>\n",
              "  </thead>\n",
              "  <tbody>\n",
              "    <tr>\n",
              "      <th>0</th>\n",
              "      <td>банк 'тинькофф' переименуют в 'российскую собо...</td>\n",
              "      <td>1</td>\n",
              "    </tr>\n",
              "  </tbody>\n",
              "</table>\n",
              "</div>\n",
              "      <button class=\"colab-df-convert\" onclick=\"convertToInteractive('df-cccf6161-f5c9-4026-8978-621905507236')\"\n",
              "              title=\"Convert this dataframe to an interactive table.\"\n",
              "              style=\"display:none;\">\n",
              "        \n",
              "  <svg xmlns=\"http://www.w3.org/2000/svg\" height=\"24px\"viewBox=\"0 0 24 24\"\n",
              "       width=\"24px\">\n",
              "    <path d=\"M0 0h24v24H0V0z\" fill=\"none\"/>\n",
              "    <path d=\"M18.56 5.44l.94 2.06.94-2.06 2.06-.94-2.06-.94-.94-2.06-.94 2.06-2.06.94zm-11 1L8.5 8.5l.94-2.06 2.06-.94-2.06-.94L8.5 2.5l-.94 2.06-2.06.94zm10 10l.94 2.06.94-2.06 2.06-.94-2.06-.94-.94-2.06-.94 2.06-2.06.94z\"/><path d=\"M17.41 7.96l-1.37-1.37c-.4-.4-.92-.59-1.43-.59-.52 0-1.04.2-1.43.59L10.3 9.45l-7.72 7.72c-.78.78-.78 2.05 0 2.83L4 21.41c.39.39.9.59 1.41.59.51 0 1.02-.2 1.41-.59l7.78-7.78 2.81-2.81c.8-.78.8-2.07 0-2.86zM5.41 20L4 18.59l7.72-7.72 1.47 1.35L5.41 20z\"/>\n",
              "  </svg>\n",
              "      </button>\n",
              "      \n",
              "  <style>\n",
              "    .colab-df-container {\n",
              "      display:flex;\n",
              "      flex-wrap:wrap;\n",
              "      gap: 12px;\n",
              "    }\n",
              "\n",
              "    .colab-df-convert {\n",
              "      background-color: #E8F0FE;\n",
              "      border: none;\n",
              "      border-radius: 50%;\n",
              "      cursor: pointer;\n",
              "      display: none;\n",
              "      fill: #1967D2;\n",
              "      height: 32px;\n",
              "      padding: 0 0 0 0;\n",
              "      width: 32px;\n",
              "    }\n",
              "\n",
              "    .colab-df-convert:hover {\n",
              "      background-color: #E2EBFA;\n",
              "      box-shadow: 0px 1px 2px rgba(60, 64, 67, 0.3), 0px 1px 3px 1px rgba(60, 64, 67, 0.15);\n",
              "      fill: #174EA6;\n",
              "    }\n",
              "\n",
              "    [theme=dark] .colab-df-convert {\n",
              "      background-color: #3B4455;\n",
              "      fill: #D2E3FC;\n",
              "    }\n",
              "\n",
              "    [theme=dark] .colab-df-convert:hover {\n",
              "      background-color: #434B5C;\n",
              "      box-shadow: 0px 1px 3px 1px rgba(0, 0, 0, 0.15);\n",
              "      filter: drop-shadow(0px 1px 2px rgba(0, 0, 0, 0.3));\n",
              "      fill: #FFFFFF;\n",
              "    }\n",
              "  </style>\n",
              "\n",
              "      <script>\n",
              "        const buttonEl =\n",
              "          document.querySelector('#df-cccf6161-f5c9-4026-8978-621905507236 button.colab-df-convert');\n",
              "        buttonEl.style.display =\n",
              "          google.colab.kernel.accessAllowed ? 'block' : 'none';\n",
              "\n",
              "        async function convertToInteractive(key) {\n",
              "          const element = document.querySelector('#df-cccf6161-f5c9-4026-8978-621905507236');\n",
              "          const dataTable =\n",
              "            await google.colab.kernel.invokeFunction('convertToInteractive',\n",
              "                                                     [key], {});\n",
              "          if (!dataTable) return;\n",
              "\n",
              "          const docLinkHtml = 'Like what you see? Visit the ' +\n",
              "            '<a target=\"_blank\" href=https://colab.research.google.com/notebooks/data_table.ipynb>data table notebook</a>'\n",
              "            + ' to learn more about interactive tables.';\n",
              "          element.innerHTML = '';\n",
              "          dataTable['output_type'] = 'display_data';\n",
              "          await google.colab.output.renderOutput(dataTable, element);\n",
              "          const docLink = document.createElement('div');\n",
              "          docLink.innerHTML = docLinkHtml;\n",
              "          element.appendChild(docLink);\n",
              "        }\n",
              "      </script>\n",
              "    </div>\n",
              "  </div>\n",
              "  "
            ]
          },
          "metadata": {},
          "execution_count": 15
        }
      ]
    },
    {
      "cell_type": "markdown",
      "source": [
        "**Правда**"
      ],
      "metadata": {
        "id": "RoKZpMkRKRnW"
      }
    },
    {
      "cell_type": "code",
      "source": [
        "!python src/predict.py -t \"Во Франции поражение Ле Пен назвали хорошей новостью\""
      ],
      "metadata": {
        "colab": {
          "base_uri": "https://localhost:8080/"
        },
        "id": "fwcE5MHxKORc",
        "outputId": "1acdd5eb-bca7-44d7-8a98-714f06c16ea2"
      },
      "execution_count": 16,
      "outputs": [
        {
          "output_type": "stream",
          "name": "stdout",
          "text": [
            "100% 1/1 [00:00<00:00, 14926.35it/s]\n",
            "100% 1/1 [00:00<00:00, 49.07it/s]\n"
          ]
        }
      ]
    },
    {
      "cell_type": "code",
      "source": [
        "pred = pd.read_csv('text_pred.tsv', index_col=0)\n",
        "pred.head()"
      ],
      "metadata": {
        "colab": {
          "base_uri": "https://localhost:8080/",
          "height": 78
        },
        "id": "B5UK6XUEKTGy",
        "outputId": "ca4f796f-cded-4cdd-df5c-01124c1494b9"
      },
      "execution_count": 17,
      "outputs": [
        {
          "output_type": "execute_result",
          "data": {
            "text/plain": [
              "                                               title  is_fake\n",
              "0  во франции поражение ле пен назвали хорошей но...        0"
            ],
            "text/html": [
              "\n",
              "  <div id=\"df-e409cbb9-7dfe-477b-8fb9-03a20702beb8\">\n",
              "    <div class=\"colab-df-container\">\n",
              "      <div>\n",
              "<style scoped>\n",
              "    .dataframe tbody tr th:only-of-type {\n",
              "        vertical-align: middle;\n",
              "    }\n",
              "\n",
              "    .dataframe tbody tr th {\n",
              "        vertical-align: top;\n",
              "    }\n",
              "\n",
              "    .dataframe thead th {\n",
              "        text-align: right;\n",
              "    }\n",
              "</style>\n",
              "<table border=\"1\" class=\"dataframe\">\n",
              "  <thead>\n",
              "    <tr style=\"text-align: right;\">\n",
              "      <th></th>\n",
              "      <th>title</th>\n",
              "      <th>is_fake</th>\n",
              "    </tr>\n",
              "  </thead>\n",
              "  <tbody>\n",
              "    <tr>\n",
              "      <th>0</th>\n",
              "      <td>во франции поражение ле пен назвали хорошей но...</td>\n",
              "      <td>0</td>\n",
              "    </tr>\n",
              "  </tbody>\n",
              "</table>\n",
              "</div>\n",
              "      <button class=\"colab-df-convert\" onclick=\"convertToInteractive('df-e409cbb9-7dfe-477b-8fb9-03a20702beb8')\"\n",
              "              title=\"Convert this dataframe to an interactive table.\"\n",
              "              style=\"display:none;\">\n",
              "        \n",
              "  <svg xmlns=\"http://www.w3.org/2000/svg\" height=\"24px\"viewBox=\"0 0 24 24\"\n",
              "       width=\"24px\">\n",
              "    <path d=\"M0 0h24v24H0V0z\" fill=\"none\"/>\n",
              "    <path d=\"M18.56 5.44l.94 2.06.94-2.06 2.06-.94-2.06-.94-.94-2.06-.94 2.06-2.06.94zm-11 1L8.5 8.5l.94-2.06 2.06-.94-2.06-.94L8.5 2.5l-.94 2.06-2.06.94zm10 10l.94 2.06.94-2.06 2.06-.94-2.06-.94-.94-2.06-.94 2.06-2.06.94z\"/><path d=\"M17.41 7.96l-1.37-1.37c-.4-.4-.92-.59-1.43-.59-.52 0-1.04.2-1.43.59L10.3 9.45l-7.72 7.72c-.78.78-.78 2.05 0 2.83L4 21.41c.39.39.9.59 1.41.59.51 0 1.02-.2 1.41-.59l7.78-7.78 2.81-2.81c.8-.78.8-2.07 0-2.86zM5.41 20L4 18.59l7.72-7.72 1.47 1.35L5.41 20z\"/>\n",
              "  </svg>\n",
              "      </button>\n",
              "      \n",
              "  <style>\n",
              "    .colab-df-container {\n",
              "      display:flex;\n",
              "      flex-wrap:wrap;\n",
              "      gap: 12px;\n",
              "    }\n",
              "\n",
              "    .colab-df-convert {\n",
              "      background-color: #E8F0FE;\n",
              "      border: none;\n",
              "      border-radius: 50%;\n",
              "      cursor: pointer;\n",
              "      display: none;\n",
              "      fill: #1967D2;\n",
              "      height: 32px;\n",
              "      padding: 0 0 0 0;\n",
              "      width: 32px;\n",
              "    }\n",
              "\n",
              "    .colab-df-convert:hover {\n",
              "      background-color: #E2EBFA;\n",
              "      box-shadow: 0px 1px 2px rgba(60, 64, 67, 0.3), 0px 1px 3px 1px rgba(60, 64, 67, 0.15);\n",
              "      fill: #174EA6;\n",
              "    }\n",
              "\n",
              "    [theme=dark] .colab-df-convert {\n",
              "      background-color: #3B4455;\n",
              "      fill: #D2E3FC;\n",
              "    }\n",
              "\n",
              "    [theme=dark] .colab-df-convert:hover {\n",
              "      background-color: #434B5C;\n",
              "      box-shadow: 0px 1px 3px 1px rgba(0, 0, 0, 0.15);\n",
              "      filter: drop-shadow(0px 1px 2px rgba(0, 0, 0, 0.3));\n",
              "      fill: #FFFFFF;\n",
              "    }\n",
              "  </style>\n",
              "\n",
              "      <script>\n",
              "        const buttonEl =\n",
              "          document.querySelector('#df-e409cbb9-7dfe-477b-8fb9-03a20702beb8 button.colab-df-convert');\n",
              "        buttonEl.style.display =\n",
              "          google.colab.kernel.accessAllowed ? 'block' : 'none';\n",
              "\n",
              "        async function convertToInteractive(key) {\n",
              "          const element = document.querySelector('#df-e409cbb9-7dfe-477b-8fb9-03a20702beb8');\n",
              "          const dataTable =\n",
              "            await google.colab.kernel.invokeFunction('convertToInteractive',\n",
              "                                                     [key], {});\n",
              "          if (!dataTable) return;\n",
              "\n",
              "          const docLinkHtml = 'Like what you see? Visit the ' +\n",
              "            '<a target=\"_blank\" href=https://colab.research.google.com/notebooks/data_table.ipynb>data table notebook</a>'\n",
              "            + ' to learn more about interactive tables.';\n",
              "          element.innerHTML = '';\n",
              "          dataTable['output_type'] = 'display_data';\n",
              "          await google.colab.output.renderOutput(dataTable, element);\n",
              "          const docLink = document.createElement('div');\n",
              "          docLink.innerHTML = docLinkHtml;\n",
              "          element.appendChild(docLink);\n",
              "        }\n",
              "      </script>\n",
              "    </div>\n",
              "  </div>\n",
              "  "
            ]
          },
          "metadata": {},
          "execution_count": 17
        }
      ]
    }
  ]
}